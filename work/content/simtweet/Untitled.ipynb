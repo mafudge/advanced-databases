{
 "cells": [
  {
   "cell_type": "code",
   "execution_count": 2,
   "id": "0823e758-e945-4f7f-9e0c-ffdce2f8c1f2",
   "metadata": {},
   "outputs": [],
   "source": [
    "import requests\n",
    "\n",
    "# \"http://elasticsearch:9200/tweets/_search?pretty=true&q=timestamp_format:%5B2023-04-12T02:47:44+TO+now%5D\""
   ]
  },
  {
   "cell_type": "code",
   "execution_count": 4,
   "id": "4b21560c-44a7-49e9-a086-0ddf51433baa",
   "metadata": {},
   "outputs": [
    {
     "data": {
      "text/plain": [
       "'http://elasticsearch:9200/tweets/_search?pretty=True&q=timestamp_format%5B2023-04-12T02%3A47%3A44+TO+now%5D&x=%3C%3E%26%5B%5D'"
      ]
     },
     "execution_count": 4,
     "metadata": {},
     "output_type": "execute_result"
    }
   ],
   "source": [
    "params =  {\n",
    "    \"pretty\": True,\n",
    "    \"q\" : \"timestamp_format[2023-04-12T02:47:44 TO now]\",\n",
    "    \"x\" : \"<>&[]\"\n",
    "}\n",
    "\n",
    "response = requests.get(\"http://elasticsearch:9200/tweets/_search\", params=params)\n",
    "response.url"
   ]
  },
  {
   "cell_type": "code",
   "execution_count": null,
   "id": "7fc35591-fb6e-4401-9c2d-79087fc37b33",
   "metadata": {},
   "outputs": [],
   "source": []
  }
 ],
 "metadata": {
  "kernelspec": {
   "display_name": "Python 3 (ipykernel)",
   "language": "python",
   "name": "python3"
  },
  "language_info": {
   "codemirror_mode": {
    "name": "ipython",
    "version": 3
   },
   "file_extension": ".py",
   "mimetype": "text/x-python",
   "name": "python",
   "nbconvert_exporter": "python",
   "pygments_lexer": "ipython3",
   "version": "3.9.6"
  }
 },
 "nbformat": 4,
 "nbformat_minor": 5
}
