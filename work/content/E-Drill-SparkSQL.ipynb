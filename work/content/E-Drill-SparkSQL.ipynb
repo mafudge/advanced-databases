{
 "cells": [
  {
   "cell_type": "markdown",
   "id": "dca8b196-d83c-43ea-a2d1-839eedb26bc2",
   "metadata": {},
   "source": [
    "# Unit E\n",
    "# SQL Over Anything with Drill and Spark\n",
    "\n",
    "- Examples From Video Lecture "
   ]
  },
  {
   "cell_type": "code",
   "execution_count": 1,
   "id": "91a9c15d-ab23-40ac-b0fb-69cfe1b32bf1",
   "metadata": {},
   "outputs": [],
   "source": [
    "import pyspark\n",
    "from pyspark.sql import SparkSession\n",
    "\n",
    "bucket = \"e-drill\"\n",
    "\n",
    "spark = SparkSession.builder \\\n",
    "    .master(\"local\") \\\n",
    "    .appName('jupyter-pyspark') \\\n",
    "        .config(\"spark.jars.packages\",\"org.apache.hadoop:hadoop-aws:3.3.4,org.apache.spark:spark-avro_2.12:3.1.2\")\\\n",
    "        .config(\"spark.hadoop.fs.s3a.endpoint\", \"http://minio:9000\") \\\n",
    "        .config(\"spark.hadoop.fs.s3a.access.key\", \"minio\") \\\n",
    "        .config(\"spark.hadoop.fs.s3a.secret.key\", \"SU2orange!\") \\\n",
    "        .config(\"spark.hadoop.fs.s3a.fast.upload\", True) \\\n",
    "        .config(\"spark.hadoop.fs.s3a.path.style.access\", True) \\\n",
    "        .config(\"spark.hadoop.fs.s3a.impl\", \"org.apache.hadoop.fs.s3a.S3AFileSystem\") \\\n",
    "        .config('spark.hadoop.fs.s3a.aws.credentials.provider', 'org.apache.hadoop.fs.s3a.SimpleAWSCredentialsProvider') \\\n",
    "    .getOrCreate()\n",
    "sc = spark.sparkContext\n",
    "sc.setLogLevel(\"ERROR\") # Keeps the noise down!!!"
   ]
  },
  {
   "cell_type": "markdown",
   "id": "b6f2f384-c5e6-4707-bdb2-59997b44c0c7",
   "metadata": {},
   "source": [
    "## Setup\n",
    "\n",
    "- Put data in the right places!!!\n",
    "- Run these cells to ensure you have the data for the examples"
   ]
  },
  {
   "cell_type": "code",
   "execution_count": 2,
   "id": "32a089d1-8e78-45b0-9669-8fbe1b431fac",
   "metadata": {},
   "outputs": [],
   "source": [
    "! pip install -q minio"
   ]
  },
  {
   "cell_type": "code",
   "execution_count": 2,
   "id": "b87a21da-98ef-4692-bd01-a620a834955f",
   "metadata": {},
   "outputs": [],
   "source": [
    "from minio import Minio\n",
    "\n",
    "# Make the minio bucket\n",
    "client = Minio(\"minio:9000\",\"minio\",\"SU2orange!\", secure=False)\n",
    "not client.bucket_exists(bucket) and client.make_bucket(bucket)\n",
    "\n",
    "# open the example(s)\n",
    "gp = spark.read.json(\"file:///home/jovyan/datasets/json-samples/google-places.json\")\n",
    "c = spark.read.csv(\"file:///home/jovyan/datasets/customers/customers.csv\", inferSchema=True, header=True)\n",
    "s = spark.read.csv(\"file:///home/jovyan/datasets/customers/surveys.csv\",inferSchema=True, header=True)\n",
    "g = spark.read.csv(\"file:///home/jovyan/datasets/grades/*.tsv\",inferSchema=False, header=False, sep=\"\\t\")\n",
    "\n",
    "# Put the examples in minio\n",
    "gp.write.mode(\"Overwrite\").json(f\"s3a://{bucket}/google-places.json\")\n",
    "c.write.mode(\"Overwrite\").csv(f\"s3a://{bucket}/customers.csv\",header=True)\n",
    "s.write.mode(\"Overwrite\").csv(f\"s3a://{bucket}/surveys.csv\",header=True)\n",
    "g.write.mode(\"Overwrite\").csv(f\"s3a://{bucket}/grades.csv\",header=False, sep=\",\")\n",
    "g.write.mode(\"Overwrite\").parquet(f\"s3a://{bucket}/grades.parquet\")\n",
    "\n",
    "#put the examples in HDFS\n",
    "gp.write.mode(\"Overwrite\").json(f\"hdfs://namenode/user/root/{bucket}/google-places.json\")\n",
    "c.write.mode(\"Overwrite\").csv(f\"hdfs://namenode/user/root/{bucket}/customers.csv\",header=True)\n",
    "s.write.mode(\"Overwrite\").csv(f\"hdfs://namenode/user/root/{bucket}/surveys.csv\",header=True)\n",
    "g.write.mode(\"Overwrite\").csv(f\"hdfs://namenode/user/root/{bucket}/grades.csv\",header=False, sep=\",\")\n",
    "g.write.mode(\"Overwrite\").parquet(f\"hdfs://namenode/user/root/{bucket}/grades.parquet\")"
   ]
  },
  {
   "cell_type": "markdown",
   "id": "bd939c76-8290-4938-b211-ce76cc48c88f",
   "metadata": {},
   "source": [
    "## Apache Drill\n",
    "\n",
    "These Examples Use Apache Drill. Content is here for reference only.\n",
    "\n",
    "### Drilling Object Storage / Minio\n",
    "\n",
    "```\n",
    "MINIO UI\n",
    "\n",
    "Make Bucket e-demo\n",
    "Make folder examscores\n",
    "Upload file exam-scores.xlsx\n",
    "\n",
    "Drill Storage Config:\n",
    "\n",
    "Setup S3 storage plugin, call it s3edemo\n",
    "Make sure xlsx file extensions point to the correct driver.\n",
    "\n",
    "DRILL QUERIES:\n",
    "\n",
    "Select * from ,* from s3edemo.`excel/exam-scores.xlsx`\n",
    "\n",
    "select ntile(4) over (order by student_score desc) as ranking,* from s3demo.`excel/exam-scores.xlsx`\n",
    "\n",
    "select avg(Student_Score) over (partition by exam_version ) as avg_by_exam_version,avg(Student_Score) over( partition by class_section) as avg_by_class_section,* from s3demo.`excel/exam-scores.xlsx`\n",
    "```\n",
    "\n",
    "### Drilling HDFS\n",
    "\n",
    "```\n",
    "\n",
    "Drill Storage Config:\n",
    "\n",
    " - use file config\n",
    " - set connection to hdfs://namenode:8020\n",
    " - set root location to hdfs path /user/root/\n",
    " - make sure you have formats correct for your file types\n",
    " \n",
    " \n",
    "DRILL QUERIES: \n",
    "\n",
    "\n",
    "select * from hdfs.root.`e-drill/customers.csv`;\n",
    "\n",
    "select * from hdfs.root.`e-drill/grades.parquet`;\n",
    "\n",
    "```\n",
    "\n",
    "\n",
    "### Drilling Web Services over HTTP\n",
    "\n",
    "```\n",
    "Drill Storage config: Singlefile: STOCKS\n",
    "-----------------------------\n",
    "\n",
    "      \"stocks\": {\n",
    "        \"url\": \"https://raw.githubusercontent.com/mafudge/datasets/master/stocks/stocks.json\",\n",
    "        \"requireTail\": false,\n",
    "}\n",
    "\n",
    "\n",
    "DRILL QUERIES: \n",
    "\n",
    "select * from http.stocks;\n",
    "\n",
    "\n",
    "\n",
    "Drill Storage Config: a requireTail example\n",
    "-------------------------------------------\n",
    "\n",
    "Query all files here: https://github.com/mafudge/advanced-databases/tree/main/datasets/json-samples\n",
    "\n",
    "\n",
    " \"jsonsamples\" : {        \"url\" : \"https://raw.githubusercontent.com/mafudge/advanced-databases/main/datasets/json-samples/\",        \"requireTail\" : true    }\n",
    "\n",
    "\n",
    "DRILL QUERIES: \n",
    "\n",
    "select * from http.jsonsamples.`stocks.json`;\n",
    "\n",
    "select * from http.jsonsamples.`US-Senators.json`;\n",
    "\n",
    "select * from http.jsonsamples.`europe.json`;\n",
    "\n",
    "\n",
    "\n",
    "Drill Storage Config DATAPATH and PARAMETERS \n",
    "---------------------------------------------\n",
    "\n",
    " \"sunrise\": {      \"url\": \"https://api.sunrise-sunset.org/json\", \"params\": [        \"lat\",        \"lng\",        \"date\"      ],      \"dataPath\": \"results\",      \"requireTail\": false },\n",
    " \n",
    " \n",
    "DRILL QUERIES:\n",
    "\n",
    "select * from http.sunrise; \n",
    "\n",
    "\n",
    "Drill Storage Config: WEATHER API \n",
    "----------------------------------\n",
    "\n",
    "\n",
    " \"weather_daily\": {      \"url\": \"https://api.openweathermap.org/data/2.5/onecall\",      \"method\": \"GET\",      \"headers\": null,      \"authType\": \"none\",      \"userName\": null,      \"password\": null,      \"postBody\": null,      \"params\": [        \"lat\",        \"lon\",        \"appid\",        \"units\"      ],      \"dataPath\": \"daily\",      \"requireTail\": false,      \"inputType\": \"json\"  }\n",
    "\n",
    "DRILL QUERIES: \n",
    "\n",
    "select * from http.weather_daily`;\n",
    "\n",
    "\n",
    "```\n",
    "\n",
    "\n",
    "### Creating Table Schemas\n",
    "\n",
    "```\n",
    "\n",
    "SELECT * FROM s3. `grades.csv`\n",
    "\n",
    "Whoops header is first row!\n",
    "\n",
    "\n",
    "Configure storage provider to not include header\n",
    "\n",
    "SELECT * FROM s3. `grades.csv`\n",
    "\n",
    "Whoops one column names “COLUMNS” with an array of values\n",
    "\n",
    "-- parse the columns\n",
    "SELECT COLUMNS[0], COLUMNS[1] FROM s3. `grades/*.tsv`\n",
    "\n",
    "--with names and types\n",
    "SELECT cast(COLUMNS[0] as int) as year, COLUMNS[1] FROM s3..`grades/*.tsv`\n",
    "\n",
    "-- as a CTE\n",
    "with grades as (\n",
    "    select cast(COLUMNS[0] as int) as year, \n",
    "COLUMNS[1] as semester,\n",
    "COLUMNS[2] as course,\n",
    "cast(COLUMNS[3] as int) as credits,\n",
    "COLUMNS[4] as letter_grade\n",
    "from s3.`grades/*.tsv`\n",
    "    )\n",
    "select * from grades\n",
    "\n",
    "```\n",
    "\n",
    "### Creating Tables and Views\n",
    "\n",
    "```\n",
    "See what's out there:\n",
    "\n",
    "SHOW SCHEMA or SHOW DATABASES\n",
    "\n",
    "Which are writable?\n",
    "\n",
    "DESCRIBE SCHEMA s3\n",
    "\n",
    "create view s3.`vgrades` (year, semester,course, credits, gradee)  as  select * from  hdfs.root.`e-drill/grades.parquet`\n",
    "\n",
    "SHOW TABLES \n",
    "\n",
    "Select * from s3.vgrades\n",
    "\n",
    "drop view  s3.vgrades \n",
    "\n",
    "Go check it out on minio... a little file with the query plan!!!\n",
    "\n",
    "Try to create a table from http.stocks\n",
    "\n",
    "create table dfs.tmp.stocks asselect symbol, price from http.stocks\n",
    "\n",
    "Select * from dfs.tmp.stocks\n",
    "```\n",
    "\n",
    "### Drilling Nested JSON\n",
    "\n",
    "```\n",
    "select g.name,     g.geometry.location.lat as `lat`,     g.geometry.location.lng as `lng`,     FLATTEN(g.types) as `type`,     * from s3.`google-places.json` as g\n",
    "\n",
    "select s.`congress_numbers`[0], * from http.jsonsamples.`US-Senators.json` s\n",
    "\n",
    "```"
   ]
  },
  {
   "cell_type": "markdown",
   "id": "c7fab600-f499-4b91-9b5e-24b94419f8e6",
   "metadata": {},
   "source": [
    "## Spark SQL\n",
    "\n",
    "- Spark Supports ANSI Standard SQL\n",
    "- Once you register a DataFrame as a Temp View, you can query it like an SQL table.\n",
    "- The output is a DataFrame, that you can maniuplate further with spark!"
   ]
  },
  {
   "cell_type": "code",
   "execution_count": 3,
   "id": "75e6cedd-8006-4055-8e21-743fef637d5f",
   "metadata": {},
   "outputs": [],
   "source": [
    "c = spark.read.csv(\"file:///home/jovyan/datasets/customers/customers.csv\", inferSchema=True, header=True)\n",
    "s = spark.read.csv(\"file:///home/jovyan/datasets/customers/surveys.csv\",inferSchema=True, header=True)\n"
   ]
  },
  {
   "cell_type": "code",
   "execution_count": 4,
   "id": "613c328a-d5cf-46d9-94b0-34e385a1d4a8",
   "metadata": {},
   "outputs": [
    {
     "name": "stdout",
     "output_type": "stream",
     "text": [
      "root\n",
      " |-- First: string (nullable = true)\n",
      " |-- Last: string (nullable = true)\n",
      " |-- Email: string (nullable = true)\n",
      " |-- Gender: string (nullable = true)\n",
      " |-- Last IP Address: string (nullable = true)\n",
      " |-- City: string (nullable = true)\n",
      " |-- State: string (nullable = true)\n",
      " |-- Total Orders: integer (nullable = true)\n",
      " |-- Total Purchased: integer (nullable = true)\n",
      " |-- Months Customer: integer (nullable = true)\n",
      "\n",
      "root\n",
      " |-- Email: string (nullable = true)\n",
      " |-- Twitter Username: string (nullable = true)\n",
      " |-- Marital Status: string (nullable = true)\n",
      " |-- Household Income: string (nullable = true)\n",
      " |-- Own Home: string (nullable = true)\n",
      " |-- Education: string (nullable = true)\n",
      " |-- Favorite Department: string (nullable = true)\n",
      "\n"
     ]
    }
   ],
   "source": [
    "c.createOrReplaceTempView(\"customers\")\n",
    "s.createOrReplaceTempView(\"surveys\")\n",
    "c.printSchema()\n",
    "s.printSchema()"
   ]
  },
  {
   "cell_type": "code",
   "execution_count": 5,
   "id": "abe978dc-bbee-40fd-ba63-e4ad906cb44a",
   "metadata": {},
   "outputs": [
    {
     "name": "stdout",
     "output_type": "stream",
     "text": [
      "+--------------------+------+-----+---------------+--------+--------------------+\n",
      "|               Email|Gender|State|Months Customer|Own Home|    Household Income|\n",
      "+--------------------+------+-----+---------------+--------+--------------------+\n",
      "|etasomthin@superr...|     M|   NY|             28|      No|               39000|\n",
      "|   jpoole@dayrep.com|     F|   NY|             12|     Yes|Prefer not to Answer|\n",
      "| ojouglad@einrot.com|     M|   NY|             36|      No|               65000|\n",
      "| rovlight@dayrep.com|     M|   NY|             42|      No|               28000|\n",
      "| sladd@superrito.com|     M|   NY|             10|     Yes|               52000|\n",
      "+--------------------+------+-----+---------------+--------+--------------------+\n",
      "\n",
      "root\n",
      " |-- Email: string (nullable = true)\n",
      " |-- Gender: string (nullable = true)\n",
      " |-- State: string (nullable = true)\n",
      " |-- Months Customer: integer (nullable = true)\n",
      " |-- Own Home: string (nullable = true)\n",
      " |-- Household Income: string (nullable = true)\n",
      "\n"
     ]
    }
   ],
   "source": [
    "query = '''\n",
    "select c.Email, c.Gender, c.State, c.`Months Customer`, s.`Own Home`, s.`Household Income`\n",
    "from customers c left join surveys s on \n",
    "        c.Email = s.Email\n",
    "    where c.State = 'NY'\n",
    "    and c.`Months Customer` > 5\n",
    "    and s.`Own Home` is not null\n",
    "'''\n",
    "df = spark.sql(query)\n",
    "df.show()\n",
    "df.printSchema()"
   ]
  },
  {
   "cell_type": "code",
   "execution_count": 6,
   "id": "6b6abe0a-c8e0-4819-90df-ee0e58bdaed3",
   "metadata": {},
   "outputs": [
    {
     "name": "stdout",
     "output_type": "stream",
     "text": [
      "root\n",
      " |-- First: string (nullable = true)\n",
      " |-- Last: string (nullable = true)\n",
      " |-- Email: string (nullable = true)\n",
      " |-- Gender: string (nullable = true)\n",
      " |-- Last IP Address: string (nullable = true)\n",
      " |-- City: string (nullable = true)\n",
      " |-- State: string (nullable = true)\n",
      " |-- Total Orders: integer (nullable = true)\n",
      " |-- Total Purchased: integer (nullable = true)\n",
      " |-- Months Customer: integer (nullable = true)\n",
      "\n",
      "root\n",
      " |-- Email: string (nullable = true)\n",
      " |-- Twitter Username: string (nullable = true)\n",
      " |-- Marital Status: string (nullable = true)\n",
      " |-- Household Income: string (nullable = true)\n",
      " |-- Own Home: string (nullable = true)\n",
      " |-- Education: string (nullable = true)\n",
      " |-- Favorite Department: string (nullable = true)\n",
      "\n"
     ]
    }
   ],
   "source": [
    "c.createOrReplaceTempView(\"customers\")\n",
    "s.createOrReplaceTempView(\"surveys\")\n",
    "c.printSchema()\n",
    "s.printSchema()"
   ]
  },
  {
   "cell_type": "code",
   "execution_count": 8,
   "id": "44a01321-9fe3-4eb6-bb52-0a1cbe956428",
   "metadata": {},
   "outputs": [
    {
     "name": "stdout",
     "output_type": "stream",
     "text": [
      "+--------------------+------+-----+---------------+--------+-------+\n",
      "|               Email|Gender|State|Months Customer|Own Home| Income|\n",
      "+--------------------+------+-----+---------------+--------+-------+\n",
      "|etasomthin@superr...|     M|   NY|             28|      No|39000.0|\n",
      "|   jpoole@dayrep.com|     F|   NY|             12|     Yes|   NULL|\n",
      "| ojouglad@einrot.com|     M|   NY|             36|      No|65000.0|\n",
      "| rovlight@dayrep.com|     M|   NY|             42|      No|28000.0|\n",
      "| sladd@superrito.com|     M|   NY|             10|     Yes|52000.0|\n",
      "+--------------------+------+-----+---------------+--------+-------+\n",
      "\n"
     ]
    }
   ],
   "source": [
    "query = '''\n",
    "select c.Email, c.Gender, c.State, c.`Months Customer`, s.`Own Home`, \n",
    "    case s.`Household Income` \n",
    "        when 'Prefer not to Answer' then null \n",
    "        else cast(s.`Household Income` as DOUBLE) \n",
    "    end as Income\n",
    "from customers c left join surveys s on \n",
    "        c.Email = s.Email\n",
    "    where c.State = 'NY'\n",
    "    and c.`Months Customer` > 5\n",
    "    and s.`Own Home` is not null\n",
    "'''\n",
    "df = spark.sql(query)\n",
    "df.show()"
   ]
  },
  {
   "cell_type": "code",
   "execution_count": 9,
   "id": "cbe23d1d-579b-4777-897c-a676177fe92f",
   "metadata": {},
   "outputs": [
    {
     "name": "stdout",
     "output_type": "stream",
     "text": [
      "root\n",
      " |-- Email: string (nullable = true)\n",
      " |-- Gender: string (nullable = true)\n",
      " |-- State: string (nullable = true)\n",
      " |-- Months Customer: integer (nullable = true)\n",
      " |-- Own Home: string (nullable = true)\n",
      " |-- Income: double (nullable = true)\n",
      "\n",
      "== Physical Plan ==\n",
      "AdaptiveSparkPlan isFinalPlan=false\n",
      "+- Project [Email#332, Gender#333, State#336, Months Customer#339, Own Home#371, CASE WHEN (Household Income#370 = Prefer not to Answer) THEN null ELSE cast(Household Income#370 as double) END AS Income#419]\n",
      "   +- BroadcastHashJoin [Email#332], [Email#367], Inner, BuildRight, false\n",
      "      :- Filter ((((isnotnull(State#336) AND isnotnull(Months Customer#339)) AND (State#336 = NY)) AND (Months Customer#339 > 5)) AND isnotnull(Email#332))\n",
      "      :  +- FileScan csv [Email#332,Gender#333,State#336,Months Customer#339] Batched: false, DataFilters: [isnotnull(State#336), isnotnull(Months Customer#339), (State#336 = NY), (Months Customer#339 > 5..., Format: CSV, Location: InMemoryFileIndex(1 paths)[file:/home/jovyan/datasets/customers/customers.csv], PartitionFilters: [], PushedFilters: [IsNotNull(State), IsNotNull(Months Customer), EqualTo(State,NY), GreaterThan(Months Customer,5),..., ReadSchema: struct<Email:string,Gender:string,State:string,Months Customer:int>\n",
      "      +- BroadcastExchange HashedRelationBroadcastMode(List(input[0, string, false]),false), [plan_id=406]\n",
      "         +- Filter (isnotnull(Own Home#371) AND isnotnull(Email#367))\n",
      "            +- FileScan csv [Email#367,Household Income#370,Own Home#371] Batched: false, DataFilters: [isnotnull(Own Home#371), isnotnull(Email#367)], Format: CSV, Location: InMemoryFileIndex(1 paths)[file:/home/jovyan/datasets/customers/surveys.csv], PartitionFilters: [], PushedFilters: [IsNotNull(Own Home), IsNotNull(Email)], ReadSchema: struct<Email:string,Household Income:string,Own Home:string>\n",
      "\n",
      "\n"
     ]
    }
   ],
   "source": [
    "df.printSchema()\n",
    "df.explain()\n",
    "df.createOrReplaceTempView(\"v_ny_customer_analysis\")"
   ]
  },
  {
   "cell_type": "markdown",
   "id": "e16b9037-d240-4ee8-9c85-a332b4ba12af",
   "metadata": {},
   "source": [
    "## Spark SQL works with Nested Data"
   ]
  },
  {
   "cell_type": "code",
   "execution_count": 10,
   "id": "f47d8f0b-07bb-41c1-b2c5-29f98be9a38b",
   "metadata": {},
   "outputs": [
    {
     "name": "stdout",
     "output_type": "stream",
     "text": [
      "root\n",
      " |-- business_status: string (nullable = true)\n",
      " |-- geometry: struct (nullable = true)\n",
      " |    |-- location: struct (nullable = true)\n",
      " |    |    |-- lat: double (nullable = true)\n",
      " |    |    |-- lng: double (nullable = true)\n",
      " |    |-- viewport: struct (nullable = true)\n",
      " |    |    |-- northeast: struct (nullable = true)\n",
      " |    |    |    |-- lat: double (nullable = true)\n",
      " |    |    |    |-- lng: double (nullable = true)\n",
      " |    |    |-- southwest: struct (nullable = true)\n",
      " |    |    |    |-- lat: double (nullable = true)\n",
      " |    |    |    |-- lng: double (nullable = true)\n",
      " |-- icon: string (nullable = true)\n",
      " |-- icon_background_color: string (nullable = true)\n",
      " |-- icon_mask_base_uri: string (nullable = true)\n",
      " |-- name: string (nullable = true)\n",
      " |-- opening_hours: struct (nullable = true)\n",
      " |    |-- open_now: boolean (nullable = true)\n",
      " |-- photos: array (nullable = true)\n",
      " |    |-- element: struct (containsNull = true)\n",
      " |    |    |-- height: long (nullable = true)\n",
      " |    |    |-- html_attributions: array (nullable = true)\n",
      " |    |    |    |-- element: string (containsNull = true)\n",
      " |    |    |-- photo_reference: string (nullable = true)\n",
      " |    |    |-- width: long (nullable = true)\n",
      " |-- place_id: string (nullable = true)\n",
      " |-- plus_code: struct (nullable = true)\n",
      " |    |-- compound_code: string (nullable = true)\n",
      " |    |-- global_code: string (nullable = true)\n",
      " |-- price_level: long (nullable = true)\n",
      " |-- rating: double (nullable = true)\n",
      " |-- reference: string (nullable = true)\n",
      " |-- scope: string (nullable = true)\n",
      " |-- types: array (nullable = true)\n",
      " |    |-- element: string (containsNull = true)\n",
      " |-- user_ratings_total: long (nullable = true)\n",
      " |-- vicinity: string (nullable = true)\n",
      "\n"
     ]
    }
   ],
   "source": [
    "gp.printSchema()"
   ]
  },
  {
   "cell_type": "code",
   "execution_count": 11,
   "id": "acaa0bf4-f3a9-4882-bb24-769ebd528513",
   "metadata": {},
   "outputs": [
    {
     "name": "stdout",
     "output_type": "stream",
     "text": [
      "+--------------------+-----------------+------------------+-----------------+\n",
      "|                name|              lat|               lng|             type|\n",
      "+--------------------+-----------------+------------------+-----------------+\n",
      "|            Syracuse|       43.0481221|-76.14742439999999|         locality|\n",
      "|            Syracuse|       43.0481221|-76.14742439999999|        political|\n",
      "|Crowne Plaza Syra...|       43.0476078|       -76.1417642|          lodging|\n",
      "|Crowne Plaza Syra...|       43.0476078|       -76.1417642|point_of_interest|\n",
      "|Crowne Plaza Syra...|       43.0476078|       -76.1417642|    establishment|\n",
      "|  The Parkview Hotel|       43.0476157|        -76.140986|          lodging|\n",
      "|  The Parkview Hotel|       43.0476157|        -76.140986|point_of_interest|\n",
      "|  The Parkview Hotel|       43.0476157|        -76.140986|    establishment|\n",
      "|Jefferson Clinton...|       43.0472894|-76.15385049999999|          lodging|\n",
      "|Jefferson Clinton...|       43.0472894|-76.15385049999999|point_of_interest|\n",
      "|Jefferson Clinton...|       43.0472894|-76.15385049999999|    establishment|\n",
      "|Courtyard by Marr...|       43.0488846|       -76.1561175|          lodging|\n",
      "|Courtyard by Marr...|       43.0488846|       -76.1561175|point_of_interest|\n",
      "|Courtyard by Marr...|       43.0488846|       -76.1561175|    establishment|\n",
      "|Quality Inn & Sui...|43.05264399999999|-76.14681999999999|          lodging|\n",
      "|Quality Inn & Sui...|43.05264399999999|-76.14681999999999|point_of_interest|\n",
      "|Quality Inn & Sui...|43.05264399999999|-76.14681999999999|    establishment|\n",
      "| Syracuse University|       43.0391534|       -76.1351158|       university|\n",
      "| Syracuse University|       43.0391534|       -76.1351158|point_of_interest|\n",
      "| Syracuse University|       43.0391534|       -76.1351158|    establishment|\n",
      "+--------------------+-----------------+------------------+-----------------+\n",
      "only showing top 20 rows\n",
      "\n"
     ]
    }
   ],
   "source": [
    "gp.createOrReplaceTempView(\"googleplaces\")\n",
    "query = '''\n",
    "select name, geometry.location.lat, geometry.location.lng, explode(types) as type from googleplaces\n",
    "'''\n",
    "spark.sql(query).show()"
   ]
  },
  {
   "cell_type": "markdown",
   "id": "11e496ad-18ed-4047-a23b-b712e052a1ac",
   "metadata": {},
   "source": [
    "## Registering a UDF for use in Spark SQL\n"
   ]
  },
  {
   "cell_type": "code",
   "execution_count": 12,
   "id": "ac863ca8-7340-41f7-bb6c-4bdd3fe910fd",
   "metadata": {},
   "outputs": [
    {
     "name": "stdout",
     "output_type": "stream",
     "text": [
      "+--------------------+--------------------+------+\n",
      "|               Email|    upperCase(Email)|Gender|\n",
      "+--------------------+--------------------+------+\n",
      "|etasomthin@superr...|ETASOMTHIN@SUPERR...|     M|\n",
      "|   jpoole@dayrep.com|   JPOOLE@DAYREP.COM|     F|\n",
      "| ojouglad@einrot.com| OJOUGLAD@EINROT.COM|     M|\n",
      "| rovlight@dayrep.com| ROVLIGHT@DAYREP.COM|     M|\n",
      "| sladd@superrito.com| SLADD@SUPERRITO.COM|     M|\n",
      "+--------------------+--------------------+------+\n",
      "\n"
     ]
    }
   ],
   "source": [
    "from pyspark.sql.functions import udf\n",
    "from pyspark.sql.types import * \n",
    "\n",
    "@udf(returnType=StringType()) \n",
    "def upperCase(str):\n",
    "    return str.upper()\n",
    "\n",
    "spark.udf.register(\"upperCase\", upperCase)\n",
    "\n",
    "spark.sql(\"select Email, upperCase(Email), Gender from v_ny_customer_analysis\").show()"
   ]
  },
  {
   "cell_type": "markdown",
   "id": "19f894bc-72c3-4cbe-9715-d6b29540eae1",
   "metadata": {},
   "source": [
    "## Listing views in Your Session"
   ]
  },
  {
   "cell_type": "code",
   "execution_count": 13,
   "id": "143905e8-fc4b-4818-93e3-1bdac7c4ce75",
   "metadata": {},
   "outputs": [
    {
     "name": "stdout",
     "output_type": "stream",
     "text": [
      "+---------+--------------------+-----------+\n",
      "|namespace|            viewName|isTemporary|\n",
      "+---------+--------------------+-----------+\n",
      "|         |           customers|       true|\n",
      "|         |        googleplaces|       true|\n",
      "|         |             surveys|       true|\n",
      "|         |v_ny_customer_ana...|       true|\n",
      "+---------+--------------------+-----------+\n",
      "\n"
     ]
    }
   ],
   "source": [
    "spark.sql(\"show views\").show()"
   ]
  },
  {
   "cell_type": "markdown",
   "id": "07a79dd9-36eb-45a4-b3b4-77f7ca4744fe",
   "metadata": {},
   "source": [
    "# Big Data To Small Data\n",
    "\n",
    "Using the `.toPandas()` function will materilaize the spark DataFrame as a Python Pandas dataframe. This allows us to use small-data features available in Python as our code is no longer executing on the cluster.\n",
    "\n",
    "## Graphing Output\n",
    "\n",
    "- A Spark DataFrame can be converted to a Python Pandas dataframe with the `toPandas()` function.\n",
    "- Once its in Pandas you can plot with standard plotting libraries.\n",
    "- https://pandas.pydata.org/pandas-docs/stable/user_guide/visualization.html\n"
   ]
  },
  {
   "cell_type": "code",
   "execution_count": 14,
   "id": "690766ed-2e89-4ae9-8696-0a2785668435",
   "metadata": {},
   "outputs": [
    {
     "data": {
      "text/plain": [
       "<Axes: xlabel='Email'>"
      ]
     },
     "execution_count": 14,
     "metadata": {},
     "output_type": "execute_result"
    },
    {
     "data": {
      "image/png": "[encoded data removed]",
      "text/plain": [
       "<Figure size 640x480 with 1 Axes>"
      ]
     },
     "metadata": {},
     "output_type": "display_data"
    }
   ],
   "source": [
    "c.toPandas().plot.bar(x=\"Email\", y=\"Total Purchased\")"
   ]
  },
  {
   "cell_type": "markdown",
   "id": "72141e5c-33b5-4dee-86ab-0302cc564bd8",
   "metadata": {},
   "source": [
    "## IPywidgets\n",
    "\n",
    "- IPy Widgets allows us to create interactive notebooks\n",
    "- https://ipywidgets.readthedocs.io/en/latest/\n",
    "- This is a great example of going from \"Big Data\" to \"Small Data\"\n",
    "- As a rule, we don't want to produce small data (Pandas DataFrame) until we have mapped or reduced results."
   ]
  },
  {
   "cell_type": "code",
   "execution_count": 15,
   "id": "0a286643-3bf4-4044-ae51-081b8f2a3f42",
   "metadata": {},
   "outputs": [
    {
     "data": {
      "text/html": [
       "<h1>Customers By State</h1>"
      ],
      "text/plain": [
       "<IPython.core.display.HTML object>"
      ]
     },
     "metadata": {},
     "output_type": "display_data"
    },
    {
     "data": {
      "application/vnd.jupyter.widget-view+json": {
       "model_id": "74446bc496d042e383dc35904804cf81",
       "version_major": 2,
       "version_minor": 0
      },
      "text/plain": [
       "interactive(children=(Dropdown(description='state', options=('AZ', 'CA', 'CT', 'FL', 'IL', 'KS', 'MA', 'ME', '…"
      ]
     },
     "metadata": {},
     "output_type": "display_data"
    }
   ],
   "source": [
    "from IPython.display import display, HTML\n",
    "from ipywidgets import interact, interact_manual\n",
    "c = spark.read.csv(\"file:///home/jovyan/datasets/customers/customers.csv\", inferSchema=True, header=True)\n",
    "\n",
    "display(HTML(\"<h1>Customers By State</h1>\"))\n",
    "states = c.select(\"State\").distinct().toPandas()[\"State\"].values\n",
    "states.sort()\n",
    "@interact(state=states)\n",
    "def main(state :str):\n",
    "    rows = c.where( c.State == state).toPandas()\n",
    "    display(rows)"
   ]
  },
  {
   "cell_type": "code",
   "execution_count": 16,
   "id": "9b12f3ec-7d83-4df9-9b72-c9f145f11fe9",
   "metadata": {},
   "outputs": [
    {
     "data": {
      "text/html": [
       "<h1>Customers By Total Purchased</h1>"
      ],
      "text/plain": [
       "<IPython.core.display.HTML object>"
      ]
     },
     "metadata": {},
     "output_type": "display_data"
    },
    {
     "data": {
      "application/vnd.jupyter.widget-view+json": {
       "model_id": "b4bf95313dff4b2792bc064c88ac61a8",
       "version_major": 2,
       "version_minor": 0
      },
      "text/plain": [
       "interactive(children=(IntRangeSlider(value=(10, 1000), description='Total Purchased:', max=5000, step=10), But…"
      ]
     },
     "metadata": {},
     "output_type": "display_data"
    }
   ],
   "source": [
    "from IPython.display import display, HTML\n",
    "from ipywidgets import interact, interact_manual, widgets\n",
    "\n",
    "display(HTML(\"<h1>Customers By Total Purchased</h1>\"))\n",
    "rangewidget = widgets.IntRangeSlider(\n",
    "    value=[10, 1000],\n",
    "    min=0,\n",
    "    max=5000,\n",
    "    step=10,\n",
    "    description='Total Purchased:',\n",
    "    disabled=False,\n",
    "    continuous_update=True,\n",
    "    orientation='horizontal',\n",
    "    readout=True,\n",
    "    readout_format='d',\n",
    ")\n",
    "\n",
    "c.createOrReplaceTempView(\"customers\")\n",
    "\n",
    "@interact_manual(purchased=rangewidget)\n",
    "def main(purchased: int):\n",
    "    query = f'select * from customers where `Total Purchased` between {purchased[0]} and {purchased[1]}'\n",
    "    display(spark.sql(query).toPandas())\n",
    "    "
   ]
  },
  {
   "cell_type": "code",
   "execution_count": 17,
   "id": "46da17f1-409e-4f18-a8e2-afff59489dbc",
   "metadata": {},
   "outputs": [
    {
     "name": "stdout",
     "output_type": "stream",
     "text": [
      "root\n",
      " |-- Email: string (nullable = true)\n",
      " |-- Twitter Username: string (nullable = true)\n",
      " |-- Marital Status: string (nullable = true)\n",
      " |-- Household Income: string (nullable = true)\n",
      " |-- Own Home: string (nullable = true)\n",
      " |-- Education: string (nullable = true)\n",
      " |-- Favorite Department: string (nullable = true)\n",
      "\n"
     ]
    }
   ],
   "source": [
    "s.printSchema()"
   ]
  },
  {
   "cell_type": "code",
   "execution_count": 18,
   "id": "33b0602e-ba1a-46c2-9bff-c191758f2c8f",
   "metadata": {},
   "outputs": [
    {
     "name": "stdout",
     "output_type": "stream",
     "text": [
      "+--------------------+----------------+--------------------+--------------------+--------------------+--------------------+--------------------+\n",
      "|               Email|Twitter Username|      Marital Status|    Household Income|            Own Home|           Education| Favorite Department|\n",
      "+--------------------+----------------+--------------------+--------------------+--------------------+--------------------+--------------------+\n",
      "|lhvmeehom@einrot.com|       lhvmeehom|Prefer not to Answer|               75000|                 Yes|       4 Year Degree|Prefer not to Answer|\n",
      "|etasomthin@superr...|      etasomthin|             Married|               39000|                  No|       2 Year Degree|Prefer not to Answer|\n",
      "| sladd@superrito.com|           sladd|             Married|               52000|                 Yes|       2 Year Degree|                None|\n",
      "|     akuss@rhyta.com|           akuss|              Single|               22500|                  No|         High School|                None|\n",
      "|    ccayne@rhyta.com|          ccayne|             Married|               62000|                 Yes|       4 Year Degree|                None|\n",
      "|  mrofone@dayrep.com|         mrofone|              Single|              121000|                 Yes|Prefer not to Answer|             Jewelry|\n",
      "| tpani@superrito.com|           tpani|Prefer not to Answer|               89000|                 Yes|     Graduate Degree|             Jewelry|\n",
      "|bbarion@superrito...|         bbarion|              Single|               74000|                  No|       4 Year Degree|             Jewelry|\n",
      "|sbellum@superrito...|         sbellum|             Married|              100000|                 Yes|     Graduate Degree|             Jewelry|\n",
      "| ojouglad@einrot.com|        ojouglad|             Married|               65000|                  No|       4 Year Degree|         Electronics|\n",
      "|bdehatchett@dayre...|     bdehatchett|Prefer not to Answer|               67000|                 Yes|       4 Year Degree|         Electronics|\n",
      "|  rdeboat@dayrep.com|         rdeboat|              Single|               69000|                 Yes|     Graduate Degree|         Electronics|\n",
      "| ddelyons@dayrep.com|        ddelyons|              Single|              105000|                 Yes|         High School|         Electronics|\n",
      "|    tanott@rhyta.com|          tanott|              Single|               26000|                  No|       2 Year Degree|   Digital Downloads|\n",
      "| bmelator@einrot.com|        bmelator|              Single|               13000|                  No|       2 Year Degree|   Digital Downloads|\n",
      "| rovlight@dayrep.com|        rovlight|Prefer not to Answer|               28000|                  No|       2 Year Degree|   Digital Downloads|\n",
      "|    vrhee@einrot.com|           vrhee|Prefer not to Answer|               17500|                  No|         High School|               Books|\n",
      "|   jpoole@dayrep.com|          jpoole|             Married|Prefer not to Answer|                 Yes|        Some College|               Books|\n",
      "|  mmelator@rhyta.com|        mmelator|Prefer not to Answer|               42000|                  No|       4 Year Degree|               Books|\n",
      "|     crha@einrot.com|            crha|             Married|               34000|Prefer not to Answer|       4 Year Degree|               Books|\n",
      "+--------------------+----------------+--------------------+--------------------+--------------------+--------------------+--------------------+\n",
      "only showing top 20 rows\n",
      "\n"
     ]
    }
   ],
   "source": [
    "s.orderBy(\"Favorite Department\", ascending = False).show()\n"
   ]
  },
  {
   "cell_type": "code",
   "execution_count": 12,
   "id": "64f39819-5172-472a-a68c-e5b08ed0a32f",
   "metadata": {},
   "outputs": [
    {
     "name": "stdout",
     "output_type": "stream",
     "text": [
      "+--------------------+----------------+--------------------+--------------------+--------------------+--------------------+--------------------+\n",
      "|               Email|Twitter Username|      Marital Status|    Household Income|            Own Home|           Education| Favorite Department|\n",
      "+--------------------+----------------+--------------------+--------------------+--------------------+--------------------+--------------------+\n",
      "|lhvmeehom@einrot.com|       lhvmeehom|Prefer not to Answer|               75000|                 Yes|       4 Year Degree|Prefer not to Answer|\n",
      "|etasomthin@superr...|      etasomthin|             Married|               39000|                  No|       2 Year Degree|Prefer not to Answer|\n",
      "| sladd@superrito.com|           sladd|             Married|               52000|                 Yes|       2 Year Degree|                None|\n",
      "|     akuss@rhyta.com|           akuss|              Single|               22500|                  No|         High School|                None|\n",
      "|    ccayne@rhyta.com|          ccayne|             Married|               62000|                 Yes|       4 Year Degree|                None|\n",
      "|bbarion@superrito...|         bbarion|              Single|               74000|                  No|       4 Year Degree|             Jewelry|\n",
      "| tpani@superrito.com|           tpani|Prefer not to Answer|               89000|                 Yes|     Graduate Degree|             Jewelry|\n",
      "|sbellum@superrito...|         sbellum|             Married|              100000|                 Yes|     Graduate Degree|             Jewelry|\n",
      "|  mrofone@dayrep.com|         mrofone|              Single|              121000|                 Yes|Prefer not to Answer|             Jewelry|\n",
      "| ddelyons@dayrep.com|        ddelyons|              Single|              105000|                 Yes|         High School|         Electronics|\n",
      "| ojouglad@einrot.com|        ojouglad|             Married|               65000|                  No|       4 Year Degree|         Electronics|\n",
      "|bdehatchett@dayre...|     bdehatchett|Prefer not to Answer|               67000|                 Yes|       4 Year Degree|         Electronics|\n",
      "|  rdeboat@dayrep.com|         rdeboat|              Single|               69000|                 Yes|     Graduate Degree|         Electronics|\n",
      "| bmelator@einrot.com|        bmelator|              Single|               13000|                  No|       2 Year Degree|   Digital Downloads|\n",
      "|    tanott@rhyta.com|          tanott|              Single|               26000|                  No|       2 Year Degree|   Digital Downloads|\n",
      "| rovlight@dayrep.com|        rovlight|Prefer not to Answer|               28000|                  No|       2 Year Degree|   Digital Downloads|\n",
      "|    vrhee@einrot.com|           vrhee|Prefer not to Answer|               17500|                  No|         High School|               Books|\n",
      "|   jpoole@dayrep.com|          jpoole|             Married|Prefer not to Answer|                 Yes|        Some College|               Books|\n",
      "|  mmelator@rhyta.com|        mmelator|Prefer not to Answer|               42000|                  No|       4 Year Degree|               Books|\n",
      "|     crha@einrot.com|            crha|             Married|               34000|Prefer not to Answer|       4 Year Degree|               Books|\n",
      "+--------------------+----------------+--------------------+--------------------+--------------------+--------------------+--------------------+\n",
      "only showing top 20 rows\n",
      "\n"
     ]
    }
   ],
   "source": [
    "s.orderBy(s[\"Favorite Department\"],ascending = False).show()"
   ]
  },
  {
   "cell_type": "code",
   "execution_count": 16,
   "id": "070d6d33-ef39-4aef-8067-a6445e9dbdd1",
   "metadata": {},
   "outputs": [
    {
     "name": "stdout",
     "output_type": "stream",
     "text": [
      "+--------------------+----------------+--------------------+----------------+--------+-------------+--------------------+\n",
      "|               Email|Twitter Username|      Marital Status|Household Income|Own Home|    Education| Favorite Department|\n",
      "+--------------------+----------------+--------------------+----------------+--------+-------------+--------------------+\n",
      "|lhvmeehom@einrot.com|       lhvmeehom|Prefer not to Answer|           75000|     Yes|4 Year Degree|Prefer not to Answer|\n",
      "|etasomthin@superr...|      etasomthin|             Married|           39000|      No|2 Year Degree|Prefer not to Answer|\n",
      "+--------------------+----------------+--------------------+----------------+--------+-------------+--------------------+\n",
      "\n"
     ]
    }
   ],
   "source": [
    "s.filter( \"`Favorite Department` LIKE 'Prefer%' \" ).show()\n"
   ]
  },
  {
   "cell_type": "code",
   "execution_count": 23,
   "id": "919e0491-989b-44c2-93d3-69e93a0e69ef",
   "metadata": {},
   "outputs": [
    {
     "name": "stdout",
     "output_type": "stream",
     "text": [
      "+--------------------+----------------+--------------------+----------------+--------+-------------+--------------------+\n",
      "|               Email|Twitter Username|      Marital Status|Household Income|Own Home|    Education| Favorite Department|\n",
      "+--------------------+----------------+--------------------+----------------+--------+-------------+--------------------+\n",
      "|lhvmeehom@einrot.com|       lhvmeehom|Prefer not to Answer|           75000|     Yes|4 Year Degree|Prefer not to Answer|\n",
      "|etasomthin@superr...|      etasomthin|             Married|           39000|      No|2 Year Degree|Prefer not to Answer|\n",
      "+--------------------+----------------+--------------------+----------------+--------+-------------+--------------------+\n",
      "\n"
     ]
    }
   ],
   "source": [
    "from pyspark.sql.functions import *\n",
    "s.filter(col(\"Favorite Department\").startswith(\"Prefer\") ).show()"
   ]
  },
  {
   "cell_type": "code",
   "execution_count": 24,
   "id": "5a0a0483-cf89-481e-ac53-58d5ddd72a0c",
   "metadata": {},
   "outputs": [],
   "source": [
    "s.createOrReplaceTempView(\"surveys\")"
   ]
  },
  {
   "cell_type": "code",
   "execution_count": 26,
   "id": "003604b6-065d-4701-929b-d78c607102e0",
   "metadata": {},
   "outputs": [
    {
     "name": "stdout",
     "output_type": "stream",
     "text": [
      "+--------+---------+-----------+\n",
      "|database|tableName|isTemporary|\n",
      "+--------+---------+-----------+\n",
      "|        |  surveys|       true|\n",
      "+--------+---------+-----------+\n",
      "\n"
     ]
    }
   ],
   "source": [
    "spark.sql(\"show tables\").show()"
   ]
  },
  {
   "cell_type": "code",
   "execution_count": 27,
   "id": "7b516b59-13bc-4c16-8418-8324498c471c",
   "metadata": {},
   "outputs": [
    {
     "name": "stdout",
     "output_type": "stream",
     "text": [
      "+--------------------+----------------+--------------------+----------------+--------+-------------+--------------------+\n",
      "|               Email|Twitter Username|      Marital Status|Household Income|Own Home|    Education| Favorite Department|\n",
      "+--------------------+----------------+--------------------+----------------+--------+-------------+--------------------+\n",
      "|lhvmeehom@einrot.com|       lhvmeehom|Prefer not to Answer|           75000|     Yes|4 Year Degree|Prefer not to Answer|\n",
      "|etasomthin@superr...|      etasomthin|             Married|           39000|      No|2 Year Degree|Prefer not to Answer|\n",
      "+--------------------+----------------+--------------------+----------------+--------+-------------+--------------------+\n",
      "\n"
     ]
    }
   ],
   "source": [
    "z =spark.sql(\"select * from surveys where `Favorite Department` like 'Prefer%'\")"
   ]
  },
  {
   "cell_type": "code",
   "execution_count": 28,
   "id": "8471bc94-8737-4894-aa1b-6522336edbe3",
   "metadata": {},
   "outputs": [],
   "source": [
    "y = s.filter(col(\"Favorite Department\").startswith(\"Prefer\") )\n",
    "z =spark.sql(\"select * from surveys where `Favorite Department` like 'Prefer%'\")"
   ]
  },
  {
   "cell_type": "code",
   "execution_count": 29,
   "id": "d6b8fbb2-b246-4e10-86c5-3fb512a5ead8",
   "metadata": {},
   "outputs": [
    {
     "name": "stdout",
     "output_type": "stream",
     "text": [
      "== Physical Plan ==\n",
      "*(1) Filter (isnotnull(Favorite Department#99) AND StartsWith(Favorite Department#99, Prefer))\n",
      "+- FileScan csv [Email#93,Twitter Username#94,Marital Status#95,Household Income#96,Own Home#97,Education#98,Favorite Department#99] Batched: false, DataFilters: [isnotnull(Favorite Department#99), StartsWith(Favorite Department#99, Prefer)], Format: CSV, Location: InMemoryFileIndex[file:/home/jovyan/datasets/customers/surveys.csv], PartitionFilters: [], PushedFilters: [IsNotNull(Favorite Department), StringStartsWith(Favorite Department,Prefer)], ReadSchema: struct<Email:string,Twitter Username:string,Marital Status:string,Household Income:string,Own Hom...\n",
      "\n",
      "\n"
     ]
    }
   ],
   "source": [
    "y.explain()"
   ]
  },
  {
   "cell_type": "code",
   "execution_count": 30,
   "id": "64774c58-a554-4211-9330-fca16fe90ed5",
   "metadata": {},
   "outputs": [
    {
     "name": "stdout",
     "output_type": "stream",
     "text": [
      "== Physical Plan ==\n",
      "*(1) Filter (isnotnull(Favorite Department#99) AND StartsWith(Favorite Department#99, Prefer))\n",
      "+- FileScan csv [Email#93,Twitter Username#94,Marital Status#95,Household Income#96,Own Home#97,Education#98,Favorite Department#99] Batched: false, DataFilters: [isnotnull(Favorite Department#99), StartsWith(Favorite Department#99, Prefer)], Format: CSV, Location: InMemoryFileIndex[file:/home/jovyan/datasets/customers/surveys.csv], PartitionFilters: [], PushedFilters: [IsNotNull(Favorite Department), StringStartsWith(Favorite Department,Prefer)], ReadSchema: struct<Email:string,Twitter Username:string,Marital Status:string,Household Income:string,Own Hom...\n",
      "\n",
      "\n"
     ]
    }
   ],
   "source": [
    "z.explain()"
   ]
  },
  {
   "cell_type": "code",
   "execution_count": 32,
   "id": "7fb62da3-b8b3-4c07-b0b9-5ed7648590e1",
   "metadata": {},
   "outputs": [
    {
     "name": "stdout",
     "output_type": "stream",
     "text": [
      "+--------------------+\n",
      "|               Email|\n",
      "+--------------------+\n",
      "|lhvmeehom@einrot.com|\n",
      "|etasomthin@superr...|\n",
      "+--------------------+\n",
      "\n"
     ]
    }
   ],
   "source": [
    "query = '''\n",
    "\n",
    "SELECT *\n",
    "    FROM  surveys\n",
    "    WHERE `Favorite Department` like 'Prefer%'\n",
    "\n",
    "'''\n",
    "\n",
    "spark.sql(query)"
   ]
  },
  {
   "cell_type": "code",
   "execution_count": null,
   "id": "5683dbd8-6b9f-47b8-abd5-af510dc999f0",
   "metadata": {},
   "outputs": [],
   "source": [
    "#pyspark\n",
    "spark.read.csv(\"s3a://....\")"
   ]
  },
  {
   "cell_type": "code",
   "execution_count": null,
   "id": "2ef9c374-3e89-4030-a832-513765686f05",
   "metadata": {},
   "outputs": [],
   "source": [
    "spark.read.format(\"csv\").load(\"s3a:///...\")"
   ]
  },
  {
   "cell_type": "code",
   "execution_count": null,
   "id": "a23bd86d-da06-41e2-81b0-0d7e50f79f94",
   "metadata": {},
   "outputs": [],
   "source": [
    "s.write.format(\"foo.bvar.avro\").mode(\"errorifexists\")\\\n",
    "    .option(\"sep\",\"-\").option(\"header\",True).save(\"file:///foo.csv\")"
   ]
  },
  {
   "cell_type": "code",
   "execution_count": 38,
   "id": "30f74f9d-8710-42d1-97dd-6d094f5332e9",
   "metadata": {},
   "outputs": [
    {
     "name": "stdout",
     "output_type": "stream",
     "text": [
      "+-----------------+------------------+\n",
      "|              lat|               lng|\n",
      "+-----------------+------------------+\n",
      "|       43.0481221|-76.14742439999999|\n",
      "|       43.0476078|       -76.1417642|\n",
      "|       43.0476157|        -76.140986|\n",
      "|       43.0472894|-76.15385049999999|\n",
      "|       43.0488846|       -76.1561175|\n",
      "|43.05264399999999|-76.14681999999999|\n",
      "|       43.0391534|       -76.1351158|\n",
      "|       43.0464172|-76.13539879999999|\n",
      "|       43.0526411|-76.15469379999999|\n",
      "|43.04396249999999|-76.13607999999999|\n",
      "|43.04123120000001|       -76.1338203|\n",
      "|       43.0446639|       -76.1481366|\n",
      "|       43.0457297|       -76.1483396|\n",
      "|       43.0414634|        -76.138599|\n",
      "|        43.048302|        -76.155406|\n",
      "|        43.050228|        -76.154804|\n",
      "|43.03901020000001|       -76.1389683|\n",
      "|        43.042709|        -76.140511|\n",
      "|43.04229789999999|       -76.1395979|\n",
      "|43.03426049999999|       -76.1242405|\n",
      "+-----------------+------------------+\n",
      "\n"
     ]
    }
   ],
   "source": [
    "gp.select(\"geometry.location.lat\",gp.geometry.location.lng.alias(\"lng\")  ).show()"
   ]
  },
  {
   "cell_type": "code",
   "execution_count": 39,
   "id": "4a2d38b5-22c5-4f78-9f21-bc60eed94abe",
   "metadata": {},
   "outputs": [
    {
     "name": "stdout",
     "output_type": "stream",
     "text": [
      "+-----------------+------------------+\n",
      "|          g.l.lat|           g.l.lng|\n",
      "+-----------------+------------------+\n",
      "|       43.0481221|-76.14742439999999|\n",
      "|       43.0476078|       -76.1417642|\n",
      "|       43.0476157|        -76.140986|\n",
      "|       43.0472894|-76.15385049999999|\n",
      "|       43.0488846|       -76.1561175|\n",
      "|43.05264399999999|-76.14681999999999|\n",
      "|       43.0391534|       -76.1351158|\n",
      "|       43.0464172|-76.13539879999999|\n",
      "|       43.0526411|-76.15469379999999|\n",
      "|43.04396249999999|-76.13607999999999|\n",
      "|43.04123120000001|       -76.1338203|\n",
      "|       43.0446639|       -76.1481366|\n",
      "|       43.0457297|       -76.1483396|\n",
      "|       43.0414634|        -76.138599|\n",
      "|        43.048302|        -76.155406|\n",
      "|        43.050228|        -76.154804|\n",
      "|43.03901020000001|       -76.1389683|\n",
      "|        43.042709|        -76.140511|\n",
      "|43.04229789999999|       -76.1395979|\n",
      "|43.03426049999999|       -76.1242405|\n",
      "+-----------------+------------------+\n",
      "\n"
     ]
    }
   ],
   "source": [
    "gp.select(col(\"geometry.location.lat\").alias(\"g.l.lat\"),gp.geometry.location.lng.alias(\"g.l.lng\")  ).show()"
   ]
  },
  {
   "cell_type": "code",
   "execution_count": 41,
   "id": "6783380a-8ffb-4629-a676-e4bedb087b09",
   "metadata": {},
   "outputs": [
    {
     "name": "stdout",
     "output_type": "stream",
     "text": [
      "+-----------------+------------------+\n",
      "|          g.l.lat|           g.l.lng|\n",
      "+-----------------+------------------+\n",
      "|       43.0481221|-76.14742439999999|\n",
      "|       43.0476078|       -76.1417642|\n",
      "|       43.0476157|        -76.140986|\n",
      "|       43.0472894|-76.15385049999999|\n",
      "|       43.0488846|       -76.1561175|\n",
      "|43.05264399999999|-76.14681999999999|\n",
      "|       43.0391534|       -76.1351158|\n",
      "|       43.0464172|-76.13539879999999|\n",
      "|       43.0526411|-76.15469379999999|\n",
      "|43.04396249999999|-76.13607999999999|\n",
      "|43.04123120000001|       -76.1338203|\n",
      "|       43.0446639|       -76.1481366|\n",
      "|       43.0457297|       -76.1483396|\n",
      "|       43.0414634|        -76.138599|\n",
      "|        43.048302|        -76.155406|\n",
      "|        43.050228|        -76.154804|\n",
      "|43.03901020000001|       -76.1389683|\n",
      "|        43.042709|        -76.140511|\n",
      "|43.04229789999999|       -76.1395979|\n",
      "|43.03426049999999|       -76.1242405|\n",
      "+-----------------+------------------+\n",
      "\n"
     ]
    }
   ],
   "source": [
    "gp.select(\"geometry.location.lat\",gp.geometry.location.lng ).toDF(\"g.l.lat\",\"g.l.lng\").show()"
   ]
  },
  {
   "cell_type": "code",
   "execution_count": 45,
   "id": "88dbc921-10ed-4a70-8fe2-012012c7dad5",
   "metadata": {},
   "outputs": [],
   "source": [
    "from pyspark import SparkFiles"
   ]
  },
  {
   "cell_type": "code",
   "execution_count": 50,
   "id": "d766fff6-b16b-446e-8400-f4143b4da0a6",
   "metadata": {},
   "outputs": [
    {
     "name": "stdout",
     "output_type": "stream",
     "text": [
      "root\n",
      " |-- Year: integer (nullable = true)\n",
      " |-- Population: double (nullable = true)\n",
      " |-- Violent crime total: double (nullable = true)\n",
      " |-- Murder and nonnegligent Manslaughter: double (nullable = true)\n",
      " |-- Forcible rape: double (nullable = true)\n",
      " |-- Robbery: double (nullable = true)\n",
      " |-- Aggravated assault: double (nullable = true)\n",
      " |-- Property crime total: double (nullable = true)\n",
      " |-- Burglary: double (nullable = true)\n",
      " |-- Larceny-theft: double (nullable = true)\n",
      " |-- Motor vehicle theft: double (nullable = true)\n",
      " |-- _c11: string (nullable = true)\n",
      "\n"
     ]
    }
   ],
   "source": [
    "spark.sparkContext.addFile(\"https://raw.githubusercontent.com/mafudge/datasets/master/crime/nys-crime-1960-2012.csv\")\n",
    "df = spark.read.option(\"inferSchema\",True).option(\"header\", True)\\\n",
    "    .csv(SparkFiles.get(\"nys-crime-1960-2012.csv\"))\n",
    "df.printSchema()"
   ]
  },
  {
   "cell_type": "code",
   "execution_count": 49,
   "id": "78fc2b3f-d78f-438f-b742-6329a6ed10bc",
   "metadata": {},
   "outputs": [
    {
     "data": {
      "text/plain": [
       "'/tmp/spark-69583df6-d589-41c4-83a9-4de535ffd62c/userFiles-00fd3eba-9da4-466b-b3d8-c534dab26904/nys-crime-1960-2012.csv'"
      ]
     },
     "execution_count": 49,
     "metadata": {},
     "output_type": "execute_result"
    }
   ],
   "source": [
    "SparkFiles.get(\"nys-crime-1960-2012.csv\")"
   ]
  },
  {
   "cell_type": "code",
   "execution_count": 6,
   "id": "acc42f9f-5ce9-4fc9-add3-d0ac0be71ca3",
   "metadata": {},
   "outputs": [
    {
     "data": {
      "application/vnd.jupyter.widget-view+json": {
       "model_id": "f45b0ea8597c4b95a142e549ef11ba76",
       "version_major": 2,
       "version_minor": 0
      },
      "text/plain": [
       "interactive(children=(Text(value='', description='name'), IntSlider(value=50, description='age', max=99, min=1…"
      ]
     },
     "metadata": {},
     "output_type": "display_data"
    }
   ],
   "source": [
    "from IPython.display import display, HTML\n",
    "from ipywidgets import interact, interact_manual\n",
    "\n",
    "\n",
    "@interact_manual(name=\"\", age=(1,99), retired=False, hobbies=[\"Biking\",\"Skiing\"])\n",
    "def onclick(name,age,retired,hobbies):\n",
    "    display(HTML(f\"<p>{name}, {age} {retired} {hobbies}\"))\n",
    "    \n"
   ]
  },
  {
   "cell_type": "code",
   "execution_count": null,
   "id": "19d34af9-10e1-4b90-aa79-12c2112b5c63",
   "metadata": {},
   "outputs": [],
   "source": []
  }
 ],
 "metadata": {
  "kernelspec": {
   "display_name": "Python 3 (ipykernel)",
   "language": "python",
   "name": "python3"
  },
  "language_info": {
   "codemirror_mode": {
    "name": "ipython",
    "version": 3
   },
   "file_extension": ".py",
   "mimetype": "text/x-python",
   "name": "python",
   "nbconvert_exporter": "python",
   "pygments_lexer": "ipython3",
   "version": "3.11.10"
  }
 },
 "nbformat": 4,
 "nbformat_minor": 5
}
