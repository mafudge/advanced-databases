{
 "cells": [
  {
   "cell_type": "code",
   "execution_count": 4,
   "id": "677fc03e-07ea-4eb8-aa1c-5cbc696dbecf",
   "metadata": {},
   "outputs": [
    {
     "name": "stdout",
     "output_type": "stream",
     "text": [
      "hi\n"
     ]
    }
   ],
   "source": [
    "print(\"hi\")"
   ]
  },
  {
   "cell_type": "raw",
   "id": "407aa826-4f4c-4585-ac05-0b95863fbc8d",
   "metadata": {},
   "source": [
    "SHIFT+ENTER => Runs current cell and add new cell below\n",
    "CTRL+ENTER => Runs current cell and stays in cell"
   ]
  },
  {
   "cell_type": "code",
   "execution_count": 5,
   "id": "744469e9-75dd-4911-bad0-b0d52030c05d",
   "metadata": {},
   "outputs": [
    {
     "name": "stderr",
     "output_type": "stream",
     "text": [
      "WARNING: An illegal reflective access operation has occurred\n",
      "WARNING: Illegal reflective access by org.apache.spark.unsafe.Platform (file:/usr/local/spark-3.1.2-bin-hadoop3.2/jars/spark-unsafe_2.12-3.1.2.jar) to constructor java.nio.DirectByteBuffer(long,int)\n",
      "WARNING: Please consider reporting this to the maintainers of org.apache.spark.unsafe.Platform\n",
      "WARNING: Use --illegal-access=warn to enable warnings of further illegal reflective access operations\n",
      "WARNING: All illegal access operations will be denied in a future release\n",
      "24/01/31 23:20:52 WARN NativeCodeLoader: Unable to load native-hadoop library for your platform... using builtin-java classes where applicable\n",
      "Using Spark's default log4j profile: org/apache/spark/log4j-defaults.properties\n",
      "Setting default log level to \"WARN\".\n",
      "To adjust logging level use sc.setLogLevel(newLevel). For SparkR, use setLogLevel(newLevel).\n"
     ]
    }
   ],
   "source": [
    "import pyspark\n",
    "from pyspark.sql import SparkSession\n",
    "# Spark init\n",
    "spark = SparkSession.builder \\\n",
    "    .master(\"local\") \\\n",
    "    .appName('jupyter-pyspark') \\\n",
    "    .getOrCreate()\n",
    "sc = spark.sparkContext\n",
    "sc.setLogLevel(\"ERROR\")"
   ]
  },
  {
   "cell_type": "code",
   "execution_count": 16,
   "id": "752d5e79-6e14-4fb9-ba12-3a550255285f",
   "metadata": {},
   "outputs": [],
   "source": [
    "df = spark.read.csv(\"/home/jovyan/datasets/customers/customers.csv\",header=True, inferSchema=True)"
   ]
  },
  {
   "cell_type": "code",
   "execution_count": 15,
   "id": "fabe709e-d1c9-4028-92fd-a4a648eae292",
   "metadata": {},
   "outputs": [
    {
     "data": {
      "text/plain": [
       "DataFrame[summary: string, First: string, Last: string, Email: string, Gender: string, Last IP Address: string, City: string, State: string, Total Orders: string, Total Purchased: string, Months Customer: string]"
      ]
     },
     "execution_count": 15,
     "metadata": {},
     "output_type": "execute_result"
    }
   ],
   "source": [
    "df.describe()"
   ]
  },
  {
   "cell_type": "code",
   "execution_count": 17,
   "id": "155ab9b5-461c-4a34-8f66-12f720c5eee9",
   "metadata": {},
   "outputs": [],
   "source": [
    "df.createOrReplaceTempView(\"customers\")"
   ]
  },
  {
   "cell_type": "code",
   "execution_count": 19,
   "id": "453daeee-f7af-4e3d-a7d4-0525887bae66",
   "metadata": {},
   "outputs": [
    {
     "name": "stdout",
     "output_type": "stream",
     "text": [
      "== Physical Plan ==\n",
      "*(1) Project [First#812, Last#813, Email#814]\n",
      "+- *(1) Filter (isnotnull(Gender#815) AND (Gender#815 = M))\n",
      "   +- FileScan csv [First#812,Last#813,Email#814,Gender#815] Batched: false, DataFilters: [isnotnull(Gender#815), (Gender#815 = M)], Format: CSV, Location: InMemoryFileIndex[file:/home/jovyan/datasets/customers/customers.csv], PartitionFilters: [], PushedFilters: [IsNotNull(Gender), EqualTo(Gender,M)], ReadSchema: struct<First:string,Last:string,Email:string,Gender:string>\n",
      "\n",
      "\n"
     ]
    }
   ],
   "source": [
    "df.createOrReplaceTempView(\"customers\")\n",
    "query = \"\"\"\n",
    "\n",
    "select First, Last, Email from customers where Gender = 'M'\n",
    "\n",
    "\"\"\"\n",
    "\n",
    "spark.sql(query).show()"
   ]
  },
  {
   "cell_type": "code",
   "execution_count": null,
   "id": "e89d75ce-c0bd-4c31-b071-27ea51da6851",
   "metadata": {},
   "outputs": [],
   "source": []
  }
 ],
 "metadata": {
  "kernelspec": {
   "display_name": "Python 3 (ipykernel)",
   "language": "python",
   "name": "python3"
  },
  "language_info": {
   "codemirror_mode": {
    "name": "ipython",
    "version": 3
   },
   "file_extension": ".py",
   "mimetype": "text/x-python",
   "name": "python",
   "nbconvert_exporter": "python",
   "pygments_lexer": "ipython3",
   "version": "3.9.6"
  }
 },
 "nbformat": 4,
 "nbformat_minor": 5
}
