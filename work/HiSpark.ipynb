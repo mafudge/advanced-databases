{
 "cells": [
  {
   "cell_type": "code",
   "execution_count": 1,
   "id": "677fc03e-07ea-4eb8-aa1c-5cbc696dbecf",
   "metadata": {},
   "outputs": [
    {
     "name": "stdout",
     "output_type": "stream",
     "text": [
      "hi\n"
     ]
    }
   ],
   "source": [
    "print(\"hi\")"
   ]
  },
  {
   "cell_type": "raw",
   "id": "407aa826-4f4c-4585-ac05-0b95863fbc8d",
   "metadata": {},
   "source": [
    "SHIFT+ENTER => Runs current cell and add new cell below\n",
    "CTRL+ENTER => Runs current cell and stays in cell"
   ]
  },
  {
   "cell_type": "code",
   "execution_count": 2,
   "id": "744469e9-75dd-4911-bad0-b0d52030c05d",
   "metadata": {},
   "outputs": [],
   "source": [
    "import pyspark\n",
    "from pyspark.sql import SparkSession\n",
    "# Spark init\n",
    "spark = SparkSession.builder \\\n",
    "    .master(\"local\") \\\n",
    "    .appName('jupyter-pyspark') \\\n",
    "    .getOrCreate()\n",
    "sc = spark.sparkContext\n",
    "sc.setLogLevel(\"ERROR\")"
   ]
  },
  {
   "cell_type": "code",
   "execution_count": 3,
   "id": "752d5e79-6e14-4fb9-ba12-3a550255285f",
   "metadata": {},
   "outputs": [],
   "source": [
    "df = spark.read.csv(\"/home/jovyan/datasets/customers/customers.csv\",header=True, inferSchema=True)"
   ]
  },
  {
   "cell_type": "code",
   "execution_count": 4,
   "id": "fabe709e-d1c9-4028-92fd-a4a648eae292",
   "metadata": {},
   "outputs": [
    {
     "data": {
      "text/plain": [
       "DataFrame[summary: string, First: string, Last: string, Email: string, Gender: string, Last IP Address: string, City: string, State: string, Total Orders: string, Total Purchased: string, Months Customer: string]"
      ]
     },
     "execution_count": 4,
     "metadata": {},
     "output_type": "execute_result"
    }
   ],
   "source": [
    "df.describe()"
   ]
  },
  {
   "cell_type": "code",
   "execution_count": 5,
   "id": "155ab9b5-461c-4a34-8f66-12f720c5eee9",
   "metadata": {},
   "outputs": [],
   "source": [
    "df.createOrReplaceTempView(\"customers\")"
   ]
  },
  {
   "cell_type": "code",
   "execution_count": 6,
   "id": "453daeee-f7af-4e3d-a7d4-0525887bae66",
   "metadata": {},
   "outputs": [
    {
     "name": "stdout",
     "output_type": "stream",
     "text": [
      "+-------+----------+--------------------+\n",
      "|  First|      Last|               Email|\n",
      "+-------+----------+--------------------+\n",
      "|     Al|    Fresco|  afresco@dayrep.com|\n",
      "|  Barry|DeHatchett|bdehatchett@dayre...|\n",
      "|   Bill|   Melator| bmelator@einrot.com|\n",
      "|    Cam|       Rha|     crha@einrot.com|\n",
      "|    Dan|   Delyons| ddelyons@dayrep.com|\n",
      "|  Euron| Tasomthin|etasomthin@superr...|\n",
      "| Justin|      Case|    jcase@dayrep.com|\n",
      "|   Mike|    Rofone|  mrofone@dayrep.com|\n",
      "|   Oren|   Jouglad| ojouglad@einrot.com|\n",
      "|   Phil|     Meaup|   pmeaup@dayrep.com|\n",
      "|  Rowan|    Deboat|  rdeboat@dayrep.com|\n",
      "|    Ray|   Ovlight| rovlight@dayrep.com|\n",
      "|    Sal|      Ladd| sladd@superrito.com|\n",
      "|Seymour|     Ofewe|   sofewe@dayrep.com|\n",
      "|     Ty|     Anott|    tanott@rhyta.com|\n",
      "|    Tim|      Pani| tpani@superrito.com|\n",
      "| Victor|      Rhee|    vrhee@einrot.com|\n",
      "+-------+----------+--------------------+\n",
      "\n"
     ]
    }
   ],
   "source": [
    "df.createOrReplaceTempView(\"customers\")\n",
    "query = \"\"\"\n",
    "\n",
    "select First, Last, Email from customers where Gender = 'M'\n",
    "\n",
    "\"\"\"\n",
    "\n",
    "spark.sql(query).show()"
   ]
  },
  {
   "cell_type": "code",
   "execution_count": 3,
   "id": "e89d75ce-c0bd-4c31-b071-27ea51da6851",
   "metadata": {},
   "outputs": [
    {
     "data": {
      "text/plain": [
       "'3.5.3'"
      ]
     },
     "execution_count": 3,
     "metadata": {},
     "output_type": "execute_result"
    }
   ],
   "source": [
    "spark.version"
   ]
  },
  {
   "cell_type": "code",
   "execution_count": null,
   "id": "b9883f9e-52d2-434c-9178-3bca387dee25",
   "metadata": {},
   "outputs": [],
   "source": []
  },
  {
   "cell_type": "code",
   "execution_count": null,
   "id": "eac093d1-aeaf-4ea9-bec7-55c541a6d518",
   "metadata": {},
   "outputs": [],
   "source": []
  }
 ],
 "metadata": {
  "kernelspec": {
   "display_name": "Python 3 (ipykernel)",
   "language": "python",
   "name": "python3"
  },
  "language_info": {
   "codemirror_mode": {
    "name": "ipython",
    "version": 3
   },
   "file_extension": ".py",
   "mimetype": "text/x-python",
   "name": "python",
   "nbconvert_exporter": "python",
   "pygments_lexer": "ipython3",
   "version": "3.11.10"
  }
 },
 "nbformat": 4,
 "nbformat_minor": 5
}
