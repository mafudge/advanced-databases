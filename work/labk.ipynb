{
 "cells": [
  {
   "cell_type": "code",
   "execution_count": null,
   "id": "e0f5b244-728e-4eb8-ac68-a1056cf66435",
   "metadata": {},
   "outputs": [],
   "source": [
    "with open(\"/home/jovyan/datasets/jupyterhub/hub.log\",\"r\") as f:\n",
    "    lines = f.readlines()\n",
    "\n",
    "linecount = len(lines)\n",
    "errorcount = 0\n",
    "for line in lines:\n",
    "    if line.startswith(\"[E\"):\n",
    "        print(line.strip())\n",
    "        errorcount +=1\n",
    "        \n",
    "print(linecount,errorcount,errorcount/linecount)"
   ]
  },
  {
   "cell_type": "code",
   "execution_count": null,
   "id": "476dffdd-192f-4253-b1ca-5eb4244d3fef",
   "metadata": {},
   "outputs": [],
   "source": []
  },
  {
   "cell_type": "code",
   "execution_count": null,
   "id": "10186a30-276c-48e7-abf4-d2543c245335",
   "metadata": {},
   "outputs": [],
   "source": []
  },
  {
   "cell_type": "code",
   "execution_count": null,
   "id": "cb3d8076-f13e-4f08-8584-7e23881174db",
   "metadata": {},
   "outputs": [],
   "source": []
  },
  {
   "cell_type": "code",
   "execution_count": null,
   "id": "29f69951-6a8f-461d-bec6-3737d3ee9ce4",
   "metadata": {},
   "outputs": [],
   "source": [
    "from datetime import datetime \n",
    "from typing import List\n",
    "def extractTimeStamp(tokens :List[str]):\n",
    "    '''\n",
    "    Assuming line has valid timestamp in the first place...\n",
    "    line = \"[I 2021-11-20 18:05:06.587 JupyterHub log:189] \"\n",
    "    '''\n",
    "    try:\n",
    "        extractedDateTimeString  = tokens[1] + \" \" + tokens[2]\n",
    "        extractedDateTime = datetime.fromisoformat(extractedDateTimeString)\n",
    "        return extractedDateTime\n",
    "    except (IndexError, ValueError) as e:\n",
    "        return None\n",
    "    \n",
    "assert extractTimeStamp(\"[I 2021-11-20 18:05:06.587 JupyterHub log:189] \".split())==datetime(2021, 11, 20, 18, 5, 6, 587000)\n",
    "assert extractTimeStamp(\"[I 20211120 18:05:06.587 JupyterHub log:189] \".split())==None\n"
   ]
  },
  {
   "cell_type": "code",
   "execution_count": null,
   "id": "4d593520-9553-4308-a22a-10ef83f59c88",
   "metadata": {},
   "outputs": [],
   "source": [
    "def extractLevel(tokens : List[str]):\n",
    "    if len(tokens) == 0: return None\n",
    "    if tokens[0].startswith(\"[I\"):\n",
    "        level = \"INFO\"\n",
    "    elif tokens[0].startswith(\"[E\"):\n",
    "        level = \"ERROR\"\n",
    "    elif tokens[0].startswith(\"[W\"):\n",
    "        level = \"WARN\"\n",
    "    else:\n",
    "        level = None\n",
    "    return level \n",
    "\n",
    "assert extractLevel(\"[I 2021-11-20 18:05:06.587 JupyterHub log:189] \".split()) == \"INFO\"\n",
    "assert extractLevel(\"[E 2021-11-20 18:05:06.587 JupyterHub log:189] \".split()) == \"ERROR\"\n",
    "assert extractLevel(\"[W 2021-11-20 18:05:06.587 JupyterHub log:189] \".split()) == \"WARN\"\n",
    "assert extractLevel(\"2021-11-20 18:05:06.587 JupyterHub log:189] \".split()) == None"
   ]
  },
  {
   "cell_type": "code",
   "execution_count": null,
   "id": "e8eeec77-3aa6-4292-9a5b-55f5f81480ee",
   "metadata": {},
   "outputs": [],
   "source": [
    "import re\n",
    "import string \n",
    "\n",
    "def extractNetid(line :str):\n",
    "    '''\n",
    "    Several cases to yank out a netid from a line\n",
    "    \n",
    "    generic searches happen last\n",
    "    '''\n",
    "    searches = [\n",
    "        { \"pattern\": r\"User \\w+ took \\d+.\\d+ seconds to start\", \"split\": \" \", \"index\": 1 },\n",
    "        { \"pattern\": r\"User \\w+ server took \\d+.\\d+ seconds to stop\", \"split\": \" \", \"index\": 1 },   \n",
    "        { \"pattern\": r\"User \\w+\\: server is slow to stop\", \"split\": \" \", \"index\": 1 },           \n",
    "        { \"pattern\" : r\"\\w+ still running$\", \"split\": \" \",\"index\": 0 },\n",
    "        { \"pattern\": r\"Removing user \\w+ from proxy\", \"split\": \" \", \"index\": 2 },\n",
    "        { \"pattern\": r\"/hub/api/users/\\w+\", \"split\": \"/\", \"index\": -1 },\n",
    "        { \"pattern\": r\"Adding user \\w+ to proxy\", \"split\": \" \", \"index\": 2 },\n",
    "        { \"pattern\": r\"Server \\w+ is ready\", \"split\": \" \", \"index\": 1 },\n",
    "        { \"pattern\": r\"\\w+ is pending spawn\", \"split\": \" \", \"index\": 0 },\n",
    "        { \"pattern\": r\"User logged \\w+: \\w+\", \"split\": \" \", \"index\": -1 },\n",
    "        { \"pattern\": r\"Culling server \\w+\", \"split\": \" \", \"index\": -1 },\n",
    "        { \"pattern\": r\"Failed to cleanup \\w+\", \"split\": \" \", \"index\": -1 },\n",
    "        { \"pattern\": r\"\\w+ does not appear to be running\", \"split\": \" \", \"index\": 0 },\n",
    "\n",
    "        { \"pattern\": r\"claim-\\w+\", \"split\": \"-\", \"index\": -1 },\n",
    "        { \"pattern\": r\"jupyter\\-\\w+\", \"split\": \"-\", \"index\": -1 },\n",
    "        { \"pattern\": r\"jupyterhub-user-\\w+\", \"split\": \"-\", \"index\": -1 },\n",
    "        { \"pattern\": r\"/user/\\w+\", \"split\": \"/\", \"index\": -1 },\n",
    "        { \"pattern\": r\"%2Fuser%2F\\w+\", \"split\": \"%2F\", \"index\": -1 },\n",
    "        { \"pattern\": r\"\\w+@\\d+.\\d+.\\d+.\\d+\", \"split\": \"@\", \"index\": 0 }        \n",
    "    ]\n",
    "    netid = None\n",
    "    for search in searches:\n",
    "        match = re.search(search[\"pattern\"],line)\n",
    "        if match:\n",
    "            extract = line[match.start():match.end()].split(search[\"split\"])[search[\"index\"]]\n",
    "            netid = re.sub(r'[^\\w\\s]', '', extract)\n",
    "            break\n",
    "    \n",
    "    return netid\n",
    "    \n",
    "                                                                \n",
    "assert extractNetid(\"[I 2021-11-20 17:37:33.081 JupyterHub app:2186] yhuan161 still running\")=='yhuan161'\n",
    "assert extractNetid(\"[I 2021-11-20 17:37:45.659 JupyterHub proxy:309] Removing user amccaffe from proxy (/user/amccaffe/)\")==\"amccaffe\"\n",
    "assert extractNetid(\"[I 2021-11-20 17:38:13.279 JupyterHub spawner:2620] Deleting pod jupyterhub/jupyter-cma11\")==\"cma11\"\n",
    "assert extractNetid(\"[I 2021-11-20 17:38:24.712 JupyterHub log:189] 200 POST /hub/api/users/mafudge/activity (mafudge@10.42.4.154) 37.28ms\") == \"mafudge\"\n",
    "assert extractNetid(\"[I 2021-11-20 17:38:41.143 JupyterHub log:189] 200 GET /hub/error/503?url=%2Fuser%2Fcma110%2Fapi%2Fkernels%2Fd29763ae-64e9-4e58-ad2f-3b547108ec73%2Fchannels%3Fsession_id%3De4af78f1784e49db807c3bbb91dc00b5 (@10.42.11.53) 6.13ms\") == \"cma110\"\n",
    "assert extractNetid(\"[I 2021-11-20 17:39:22.077 JupyterHub log:189] 302 GET /hub/ -> /hub/spawn (enbilyns@45.47.85.5) 24.18ms\")=='enbilyns'\n",
    "assert extractNetid(\"[I 2021-11-20 17:39:26.137 JupyterHub spawner:2361] PVC claim-enbilyns already exists, so did not create new pvc\")=='enbilyns'\n",
    "assert extractNetid(\"[I 2021-11-20 17:39:26.137 JupyterHub spawner:2361] PVC claim-enbilyns already exists, so did not create new pvc\")=='enbilyns'\n",
    "assert extractNetid(\"[W 2021-11-20 22:17:53.102 JupyterHub base:1148] User dlnosky: server is slow to stop (timeout=10)\")=='dlnosky'\n",
    "assert extractNetid(\"[I 2021-11-20 22:17:53.102 JupyterHub log:189] 202 DELETE /hub/api/users/dlnosky/server (cull-idle@127.0.0.1) 10015.55ms\")=='dlnosky'\n",
    "assert extractNetid(\"[I 2021-11-20 22:17:58.573 JupyterHub base:1115] User dlnosky server took 15.472 seconds to stop\")=='dlnosky'\n",
    "\n"
   ]
  },
  {
   "cell_type": "code",
   "execution_count": null,
   "id": "5fc4d5dc-ca3c-4a3d-b6a3-39f7052f7d4d",
   "metadata": {},
   "outputs": [],
   "source": [
    "# TODO Extract Netid and also the type of Action label START, STOP, CULL, LOGIN, PROXY, ADMIN \n"
   ]
  },
  {
   "cell_type": "code",
   "execution_count": null,
   "id": "2f25c9b8-0821-42d8-957f-bd7219746c3e",
   "metadata": {},
   "outputs": [],
   "source": [
    "txt = \"[W 2021-11-20 22:17:53.102 JupyterHub base:1148] User dlnosky: server is slow to stop (timeout=10)\"\n",
    "x = re.search(\"User \\w+\\: server is slow to stop\", txt)\n",
    "print(x)"
   ]
  },
  {
   "cell_type": "code",
   "execution_count": null,
   "id": "cd619b7d-ac5e-4cad-b8f9-c964917e9ae2",
   "metadata": {},
   "outputs": [],
   "source": [
    "user = \"dlnosky\"\n",
    "for line in lines:\n",
    "    if line.find(user) >= 0:\n",
    "        tokens = line.strip().split()\n",
    "        level = extractLevel(tokens)\n",
    "        timestamp = extractTimeStamp(tokens)\n",
    "        netid = extractNetid(line)\n",
    "        if level is not None and timestamp is not None:\n",
    "            print(f\"[{level}] {timestamp} {netid} DATA={line.strip()}\")"
   ]
  },
  {
   "cell_type": "code",
   "execution_count": null,
   "id": "044b064e-d3e1-49cf-9d3c-d5710cc8bfea",
   "metadata": {},
   "outputs": [],
   "source": [
    "# Sessions\n",
    "user = \"dlnosky\"\n",
    "events_to_track =  { \"LOGIN\": 'User logged in:' , \"START\" :  \"seconds to start\", \"STOP\":\"seconds to stop\", \"CULL\":\"Culling server\" } #, \"ACTIVITY\":f\"/hub/api/users/{user}/activity\"}\n",
    "sessionStartTimestamp = None \n",
    "for line in lines:\n",
    "    if line.startswith(\"[I\") and line.find(user) >= 0:\n",
    "        event = None\n",
    "        elapsedTime = None\n",
    "        if line.find(events_to_track[\"LOGIN\"])>=0:\n",
    "            event=\"LOGIN\"\n",
    "            loginTimestamp = extractTimeStamp(line)\n",
    "        elif line.find(events_to_track[\"START\"])>=0:\n",
    "            event=\"START\"\n",
    "            sessionStartTimestamp = extractTimeStamp(line)\n",
    "        elif line.find(events_to_track[\"STOP\"])>=0:\n",
    "            event=\"STOP\"\n",
    "            sessionStopTimestamp = extractTimeStamp(line)\n",
    "            elapsedTime = sessionStopTimestamp - sessionStartTimestamp if sessionStartTimestamp is not None else None\n",
    "        elif line.find(events_to_track[\"CULL\"])>=0:\n",
    "            event=\"CULL\"\n",
    "            \n",
    "        if event is not None:\n",
    "            print(f\"[** {event:8} **] {line.strip()}\")\n",
    "        if elapsedTime is not None:\n",
    "            print(f\"SESSION LENGTH: {elapsedTime}\")\n",
    "            \n",
    "            \n",
    "            \n",
    "        "
   ]
  },
  {
   "cell_type": "code",
   "execution_count": null,
   "id": "86451dea-f513-4177-a6b6-c920080ae758",
   "metadata": {},
   "outputs": [],
   "source": [
    "TODO: Exercise with line by line feeding to topic.\n",
    "INFO|WARN|ERROR datetimestamp username data\n",
    "\n",
    "- KSQL make a stream\n",
    "- KSQL Code to find the START sessions\n",
    "- KSQL Code to find the CULL sessions\n",
    "- KSQL to count the errors each hour "
   ]
  },
  {
   "cell_type": "code",
   "execution_count": null,
   "id": "4b502627-8218-44cf-a5ae-219b9bdd69f3",
   "metadata": {},
   "outputs": [],
   "source": [
    "user = \"dlnosky\"\n",
    "skiplines = ['[W ','[E ','/hub/oauth_login',f'/hub/api/users/{user}/activity','hub/api/authorizations/token/']\n",
    "\n",
    "events_to_track = [ { \"LOGIN\", 'User logged in:' } , {\"START\",\"seconds to start\"}, {\"STOP\",\"seconds to stop\"}, {\"CULL\",\"Culling server\"},{\"ACTIVITY\",f\"/hub/api/users/{user}/activity\"}]\n",
    "\n",
    "for line in lines:\n",
    "    skip = False\n",
    "    if line.find(user) >= 0:\n",
    "        if line.find(\"User logged in:\") >=0:\n",
    "            char = \"[LOGIN] =======> \"\n",
    "        elif line.find(\"seconds to start\") >=0:\n",
    "            char = \"[START] =======> \"\n",
    "        elif line.find(\"seconds to stop\") >=0:\n",
    "            char = \"[STOP ] =======> \"\n",
    "        elif line.find(\"Culling server\") >=0:\n",
    "            char = \"[CULL ] =======> \"\n",
    "        else:\n",
    "            char = \"\"\n",
    "            \n",
    "        for skipline in skiplines:\n",
    "            if line.find(skipline) >=0:\n",
    "                skip = True\n",
    "\n",
    "        if not skip:\n",
    "            print(char+ line.strip())\n",
    "        "
   ]
  },
  {
   "cell_type": "code",
   "execution_count": null,
   "id": "bc3ef039-df03-44b9-8449-e8ac11dd21fd",
   "metadata": {},
   "outputs": [],
   "source": []
  },
  {
   "cell_type": "code",
   "execution_count": null,
   "id": "208660ae-c898-4bbf-a3af-dbcc15c97f24",
   "metadata": {},
   "outputs": [],
   "source": []
  },
  {
   "cell_type": "code",
   "execution_count": 1,
   "id": "7ee07f9a-ad0d-49f6-9b08-166b14f12af2",
   "metadata": {},
   "outputs": [],
   "source": [
    "import pyspark\n",
    "from pyspark.sql import SparkSession\n",
    "import json\n",
    "from confluent_kafka import Consumer"
   ]
  },
  {
   "cell_type": "code",
   "execution_count": 2,
   "id": "631b8498-dacb-46c5-95b2-f25ebc59c50f",
   "metadata": {},
   "outputs": [
    {
     "name": "stderr",
     "output_type": "stream",
     "text": [
      "WARNING: An illegal reflective access operation has occurred\n",
      "WARNING: Illegal reflective access by org.apache.spark.unsafe.Platform (file:/usr/local/spark-3.1.2-bin-hadoop3.2/jars/spark-unsafe_2.12-3.1.2.jar) to constructor java.nio.DirectByteBuffer(long,int)\n",
      "WARNING: Please consider reporting this to the maintainers of org.apache.spark.unsafe.Platform\n",
      "WARNING: Use --illegal-access=warn to enable warnings of further illegal reflective access operations\n",
      "WARNING: All illegal access operations will be denied in a future release\n",
      "22/04/20 00:02:38 WARN NativeCodeLoader: Unable to load native-hadoop library for your platform... using builtin-java classes where applicable\n",
      "Using Spark's default log4j profile: org/apache/spark/log4j-defaults.properties\n",
      "Setting default log level to \"WARN\".\n",
      "To adjust logging level use sc.setLogLevel(newLevel). For SparkR, use setLogLevel(newLevel).\n"
     ]
    }
   ],
   "source": [
    "spark = SparkSession.builder \\\n",
    "    .master(\"local\") \\\n",
    "    .appName('jupyter-pyspark') \\\n",
    "    .getOrCreate()\n",
    "sc = spark.sparkContext\n",
    "sc.setLogLevel(\"ERROR\")"
   ]
  },
  {
   "cell_type": "code",
   "execution_count": 3,
   "id": "d563e0f7-2739-4cef-aadd-7eb5a368c691",
   "metadata": {},
   "outputs": [
    {
     "name": "stdout",
     "output_type": "stream",
     "text": [
      "Received message: {'Uri': '/about', 'User': 'ida', 'TimeStamp': 1650412155000, 'Browser': 'chrome', 'OS': 'win'}\n",
      "0\n",
      "Received message: {'Uri': '/blog', 'User': 'gigi', 'TimeStamp': 1650412157000, 'Browser': 'chrome', 'OS': 'win'}\n",
      "1\n",
      "Received message: {'Uri': '/about', 'User': 'patty', 'TimeStamp': 1650412158000, 'Browser': 'firefox', 'OS': 'win'}\n",
      "2\n",
      "Received message: {'Uri': '/blog', 'User': 'tosh', 'TimeStamp': 1650412159000, 'Browser': 'firefox', 'OS': 'win'}\n",
      "3\n",
      "Received message: {'Uri': '/blog', 'User': 'walt', 'TimeStamp': 1650412160000, 'Browser': 'edge', 'OS': 'win'}\n",
      "4\n",
      "Received message: {'Uri': '/', 'User': 'lisa', 'TimeStamp': 1650412161000, 'Browser': 'chrome', 'OS': 'osx'}\n",
      "5\n",
      "Received message: {'Uri': '/blog', 'User': 'mike', 'TimeStamp': 1650412163000, 'Browser': 'firefox', 'OS': 'osx'}\n",
      "6\n",
      "Received message: {'Uri': '/', 'User': 'vaibhav', 'TimeStamp': 1650412164000, 'Browser': 'safari', 'OS': 'osx'}\n",
      "7\n",
      "Received message: {'Uri': '/', 'User': 'quinn', 'TimeStamp': 1650412165000, 'Browser': 'chrome', 'OS': 'win'}\n",
      "8\n",
      "Received message: {'Uri': '/', 'User': 'gigi', 'TimeStamp': 1650412166000, 'Browser': 'chrome', 'OS': 'win'}\n",
      "9\n",
      "Received message: {'Uri': '/', 'User': 'devin', 'TimeStamp': 1650412168000, 'Browser': 'edge', 'OS': 'win'}\n",
      "10\n",
      "***** Write to file...\n"
     ]
    },
    {
     "name": "stderr",
     "output_type": "stream",
     "text": [
      "                                                                                \r"
     ]
    },
    {
     "name": "stdout",
     "output_type": "stream",
     "text": [
      "Received message: {'Uri': '/', 'User': 'yolanda', 'TimeStamp': 1650412169000, 'Browser': 'chrome', 'OS': 'osx'}\n",
      "1\n",
      "Received message: {'Uri': '/', 'User': 'surah', 'TimeStamp': 1650412171000, 'Browser': 'firefox', 'OS': 'win'}\n",
      "2\n",
      "Received message: {'Uri': '/products', 'User': 'ida', 'TimeStamp': 1650412172000, 'Browser': 'chrome', 'OS': 'win'}\n",
      "3\n",
      "Received message: {'Uri': '/', 'User': 'quinn', 'TimeStamp': 1650412173000, 'Browser': 'chrome', 'OS': 'win'}\n",
      "4\n",
      "Received message: {'Uri': '/', 'User': 'ida', 'TimeStamp': 1650412174000, 'Browser': 'chrome', 'OS': 'win'}\n",
      "5\n",
      "Received message: {'Uri': '/', 'User': 'chris', 'TimeStamp': 1650412175000, 'Browser': 'chrome', 'OS': 'win'}\n",
      "6\n",
      "Received message: {'Uri': '/', 'User': 'fred', 'TimeStamp': 1650412176000, 'Browser': 'safari', 'OS': 'osx'}\n",
      "7\n",
      "Received message: {'Uri': '/', 'User': 'mike', 'TimeStamp': 1650412178000, 'Browser': 'firefox', 'OS': 'osx'}\n",
      "8\n",
      "Received message: {'Uri': '/', 'User': 'quinn', 'TimeStamp': 1650412179000, 'Browser': 'chrome', 'OS': 'win'}\n",
      "9\n",
      "Received message: {'Uri': '/blog', 'User': 'elle', 'TimeStamp': 1650412181000, 'Browser': 'chrome', 'OS': 'win'}\n",
      "10\n",
      "***** Write to file...\n"
     ]
    },
    {
     "name": "stderr",
     "output_type": "stream",
     "text": [
      "                                                                                \r"
     ]
    },
    {
     "name": "stdout",
     "output_type": "stream",
     "text": [
      "Received message: {'Uri': '/services', 'User': 'mike', 'TimeStamp': 1650412183000, 'Browser': 'firefox', 'OS': 'osx'}\n",
      "1\n",
      "Received message: {'Uri': '/', 'User': 'gigi', 'TimeStamp': 1650412185000, 'Browser': 'chrome', 'OS': 'win'}\n",
      "2\n",
      "Received message: {'Uri': '/blog', 'User': 'quinn', 'TimeStamp': 1650412187000, 'Browser': 'chrome', 'OS': 'win'}\n",
      "3\n",
      "Received message: {'Uri': '/', 'User': 'ida', 'TimeStamp': 1650412188000, 'Browser': 'chrome', 'OS': 'win'}\n",
      "4\n",
      "Received message: {'Uri': '/contact', 'User': 'abby', 'TimeStamp': 1650412189000, 'Browser': 'chrome', 'OS': 'osx'}\n",
      "5\n",
      "Received message: {'Uri': '/', 'User': 'rose', 'TimeStamp': 1650412190000, 'Browser': 'chrome', 'OS': 'osx'}\n",
      "6\n",
      "Received message: {'Uri': '/', 'User': 'rose', 'TimeStamp': 1650412192000, 'Browser': 'chrome', 'OS': 'osx'}\n",
      "7\n",
      "Received message: {'Uri': '/', 'User': 'elle', 'TimeStamp': 1650412194000, 'Browser': 'chrome', 'OS': 'win'}\n",
      "8\n",
      "Received message: {'Uri': '/services', 'User': 'hank', 'TimeStamp': 1650412196000, 'Browser': 'edge', 'OS': 'win'}\n",
      "9\n",
      "Received message: {'Uri': '/contact', 'User': 'elle', 'TimeStamp': 1650412197000, 'Browser': 'chrome', 'OS': 'win'}\n",
      "10\n",
      "***** Write to file...\n"
     ]
    },
    {
     "name": "stderr",
     "output_type": "stream",
     "text": [
      "                                                                                \r"
     ]
    },
    {
     "name": "stdout",
     "output_type": "stream",
     "text": [
      "Received message: {'Uri': '/blog', 'User': 'vaibhav', 'TimeStamp': 1650412199000, 'Browser': 'safari', 'OS': 'osx'}\n",
      "1\n",
      "Received message: {'Uri': '/', 'User': 'bob', 'TimeStamp': 1650412201000, 'Browser': 'firefox', 'OS': 'win'}\n",
      "2\n",
      "Received message: {'Uri': '/', 'User': 'otto', 'TimeStamp': 1650412202000, 'Browser': 'safari', 'OS': 'osx'}\n",
      "3\n",
      "Received message: {'Uri': '/blog', 'User': 'xavier', 'TimeStamp': 1650412204000, 'Browser': 'chrome', 'OS': 'win'}\n",
      "4\n",
      "Received message: {'Uri': '/contact', 'User': 'quinn', 'TimeStamp': 1650412205000, 'Browser': 'chrome', 'OS': 'win'}\n",
      "5\n",
      "Received message: {'Uri': '/', 'User': 'lisa', 'TimeStamp': 1650412206000, 'Browser': 'chrome', 'OS': 'osx'}\n",
      "6\n",
      "Received message: {'Uri': '/contact', 'User': 'fred', 'TimeStamp': 1650412208000, 'Browser': 'safari', 'OS': 'osx'}\n",
      "7\n",
      "Received message: {'Uri': '/contact', 'User': 'gigi', 'TimeStamp': 1650412210000, 'Browser': 'chrome', 'OS': 'win'}\n",
      "8\n",
      "Received message: {'Uri': '/about', 'User': 'ida', 'TimeStamp': 1650412212000, 'Browser': 'chrome', 'OS': 'win'}\n",
      "9\n",
      "Received message: {'Uri': '/blog', 'User': 'fred', 'TimeStamp': 1650412214000, 'Browser': 'safari', 'OS': 'osx'}\n",
      "10\n",
      "***** Write to file...\n"
     ]
    },
    {
     "name": "stderr",
     "output_type": "stream",
     "text": [
      "                                                                                \r"
     ]
    },
    {
     "name": "stdout",
     "output_type": "stream",
     "text": [
      "Received message: {'Uri': '/about', 'User': 'karley', 'TimeStamp': 1650412215000, 'Browser': 'chrome', 'OS': 'win'}\n",
      "1\n",
      "Received message: {'Uri': '/blog', 'User': 'ida', 'TimeStamp': 1650412217000, 'Browser': 'chrome', 'OS': 'win'}\n",
      "2\n",
      "Received message: {'Uri': '/products', 'User': 'walt', 'TimeStamp': 1650412219000, 'Browser': 'edge', 'OS': 'win'}\n",
      "3\n",
      "Received message: {'Uri': '/', 'User': 'elle', 'TimeStamp': 1650412220000, 'Browser': 'chrome', 'OS': 'win'}\n",
      "4\n",
      "Received message: {'Uri': '/', 'User': 'xavier', 'TimeStamp': 1650412222000, 'Browser': 'chrome', 'OS': 'win'}\n",
      "5\n",
      "Received message: {'Uri': '/', 'User': 'lisa', 'TimeStamp': 1650412223000, 'Browser': 'chrome', 'OS': 'osx'}\n",
      "6\n",
      "Received message: {'Uri': '/products', 'User': 'zeke', 'TimeStamp': 1650412224000, 'Browser': 'firefox', 'OS': 'win'}\n",
      "7\n",
      "Received message: {'Uri': '/products', 'User': 'xavier', 'TimeStamp': 1650412226000, 'Browser': 'chrome', 'OS': 'win'}\n",
      "8\n",
      "Received message: {'Uri': '/products', 'User': 'nancy', 'TimeStamp': 1650412227000, 'Browser': 'chrome', 'OS': 'win'}\n",
      "9\n",
      "Received message: {'Uri': '/', 'User': 'walt', 'TimeStamp': 1650412229000, 'Browser': 'edge', 'OS': 'win'}\n",
      "10\n",
      "***** Write to file...\n"
     ]
    },
    {
     "name": "stderr",
     "output_type": "stream",
     "text": [
      "                                                                                \r"
     ]
    },
    {
     "name": "stdout",
     "output_type": "stream",
     "text": [
      "Received message: {'Uri': '/', 'User': 'karley', 'TimeStamp': 1650412230000, 'Browser': 'chrome', 'OS': 'win'}\n",
      "1\n",
      "Received message: {'Uri': '/products', 'User': 'karley', 'TimeStamp': 1650412232000, 'Browser': 'chrome', 'OS': 'win'}\n",
      "2\n",
      "Received message: {'Uri': '/', 'User': 'otto', 'TimeStamp': 1650412234000, 'Browser': 'safari', 'OS': 'osx'}\n",
      "3\n",
      "Received message: {'Uri': '/', 'User': 'elle', 'TimeStamp': 1650412235000, 'Browser': 'chrome', 'OS': 'win'}\n",
      "4\n",
      "Received message: {'Uri': '/', 'User': 'gigi', 'TimeStamp': 1650412237000, 'Browser': 'chrome', 'OS': 'win'}\n",
      "5\n",
      "Received message: {'Uri': '/', 'User': 'karley', 'TimeStamp': 1650412239000, 'Browser': 'chrome', 'OS': 'win'}\n",
      "6\n",
      "Received message: {'Uri': '/', 'User': 'ida', 'TimeStamp': 1650412241000, 'Browser': 'chrome', 'OS': 'win'}\n",
      "7\n",
      "Received message: {'Uri': '/products', 'User': 'gigi', 'TimeStamp': 1650412242000, 'Browser': 'chrome', 'OS': 'win'}\n",
      "8\n",
      "Received message: {'Uri': '/products', 'User': 'surah', 'TimeStamp': 1650412243000, 'Browser': 'firefox', 'OS': 'win'}\n",
      "9\n",
      "Received message: {'Uri': '/about', 'User': 'rose', 'TimeStamp': 1650412245000, 'Browser': 'chrome', 'OS': 'osx'}\n",
      "10\n",
      "***** Write to file...\n"
     ]
    },
    {
     "name": "stderr",
     "output_type": "stream",
     "text": [
      "                                                                                \r"
     ]
    },
    {
     "name": "stdout",
     "output_type": "stream",
     "text": [
      "Received message: {'Uri': '/blog', 'User': 'chris', 'TimeStamp': 1650412246000, 'Browser': 'chrome', 'OS': 'win'}\n",
      "1\n",
      "Received message: {'Uri': '/', 'User': 'patty', 'TimeStamp': 1650412248000, 'Browser': 'firefox', 'OS': 'win'}\n",
      "2\n",
      "Received message: {'Uri': '/', 'User': 'devin', 'TimeStamp': 1650412249000, 'Browser': 'edge', 'OS': 'win'}\n",
      "3\n",
      "Received message: {'Uri': '/services', 'User': 'patty', 'TimeStamp': 1650412251000, 'Browser': 'firefox', 'OS': 'win'}\n",
      "4\n",
      "Received message: {'Uri': '/', 'User': 'patty', 'TimeStamp': 1650412252000, 'Browser': 'firefox', 'OS': 'win'}\n",
      "5\n",
      "Received message: {'Uri': '/', 'User': 'quinn', 'TimeStamp': 1650412254000, 'Browser': 'chrome', 'OS': 'win'}\n",
      "6\n",
      "Received message: {'Uri': '/contact', 'User': 'fred', 'TimeStamp': 1650412256000, 'Browser': 'safari', 'OS': 'osx'}\n",
      "7\n",
      "Received message: {'Uri': '/about', 'User': 'abby', 'TimeStamp': 1650412258000, 'Browser': 'chrome', 'OS': 'osx'}\n",
      "8\n",
      "Received message: {'Uri': '/services', 'User': 'chris', 'TimeStamp': 1650412260000, 'Browser': 'chrome', 'OS': 'win'}\n",
      "9\n",
      "Received message: {'Uri': '/services', 'User': 'walt', 'TimeStamp': 1650412262000, 'Browser': 'edge', 'OS': 'win'}\n",
      "10\n",
      "***** Write to file...\n"
     ]
    },
    {
     "name": "stderr",
     "output_type": "stream",
     "text": [
      "                                                                                \r"
     ]
    },
    {
     "name": "stdout",
     "output_type": "stream",
     "text": [
      "Received message: {'Uri': '/', 'User': 'ida', 'TimeStamp': 1650412264000, 'Browser': 'chrome', 'OS': 'win'}\n",
      "1\n",
      "Received message: {'Uri': '/about', 'User': 'karley', 'TimeStamp': 1650412265000, 'Browser': 'chrome', 'OS': 'win'}\n",
      "2\n",
      "Received message: {'Uri': '/', 'User': 'bob', 'TimeStamp': 1650412266000, 'Browser': 'firefox', 'OS': 'win'}\n",
      "3\n",
      "Received message: {'Uri': '/about', 'User': 'surah', 'TimeStamp': 1650412267000, 'Browser': 'firefox', 'OS': 'win'}\n",
      "4\n",
      "Received message: {'Uri': '/about', 'User': 'vaibhav', 'TimeStamp': 1650412269000, 'Browser': 'safari', 'OS': 'osx'}\n",
      "5\n",
      "Received message: {'Uri': '/', 'User': 'chris', 'TimeStamp': 1650412271000, 'Browser': 'chrome', 'OS': 'win'}\n",
      "6\n",
      "Received message: {'Uri': '/', 'User': 'quinn', 'TimeStamp': 1650412273000, 'Browser': 'chrome', 'OS': 'win'}\n",
      "7\n",
      "Received message: {'Uri': '/products', 'User': 'quinn', 'TimeStamp': 1650412274000, 'Browser': 'chrome', 'OS': 'win'}\n",
      "8\n",
      "Received message: {'Uri': '/', 'User': 'fred', 'TimeStamp': 1650412275000, 'Browser': 'safari', 'OS': 'osx'}\n",
      "9\n",
      "Received message: {'Uri': '/products', 'User': 'elle', 'TimeStamp': 1650412276000, 'Browser': 'chrome', 'OS': 'win'}\n",
      "10\n",
      "***** Write to file...\n"
     ]
    },
    {
     "name": "stderr",
     "output_type": "stream",
     "text": [
      "                                                                                \r"
     ]
    }
   ],
   "source": [
    "consumer = Consumer({'bootstrap.servers' : 'broker:29092', 'group.id' : '*'})\n",
    "consumer.subscribe([\"weblogs\"])\n",
    "count = 0\n",
    "maxcount = 10\n",
    "df = None\n",
    "try:\n",
    "    while True:\n",
    "        msg = consumer.poll(1.0)\n",
    "\n",
    "        if msg is None:\n",
    "            continue\n",
    "        if msg.error():\n",
    "            print(f\"Consumer error: {msg.error()}\")\n",
    "            continue\n",
    "\n",
    "        raw = msg.value().decode('utf-8')\n",
    "        payload = json.loads(raw)\n",
    "        row = spark.createDataFrame([payload])\n",
    "        if df is None:\n",
    "            df = row\n",
    "        else:\n",
    "            df = df.union(row)\n",
    "            count = count + 1\n",
    "        print(f\"Received message: {payload}\")\n",
    "        print(count)\n",
    "        if count == maxcount:\n",
    "            print(\"***** Write to file...\")\n",
    "            count = 0 \n",
    "            df.write.mode(\"append\").json(\"file:///home/jovyan/datasets/test.json\")\n",
    "            \n",
    "            \n",
    "except KeyboardInterrupt:\n",
    "    consumer.close() "
   ]
  },
  {
   "cell_type": "code",
   "execution_count": 45,
   "id": "f9c7c7c9-b4d3-4635-b009-fd17c9427401",
   "metadata": {},
   "outputs": [
    {
     "name": "stdout",
     "output_type": "stream",
     "text": [
      "+-------+---+-------------+---------+-------+\n",
      "|Browser| OS|    TimeStamp|      Uri|   User|\n",
      "+-------+---+-------------+---------+-------+\n",
      "|firefox|win|1650412138000|/services|   zeke|\n",
      "| safari|osx|1650412140000|   /about|   otto|\n",
      "|   edge|win|1650412141000|/products|   hank|\n",
      "| chrome|win|1650412142000|        /|  nancy|\n",
      "|firefox|win|1650412144000| /contact|  patty|\n",
      "|firefox|win|1650412145000|        /|    bob|\n",
      "|firefox|win|1650412147000|        /|  surah|\n",
      "|firefox|win|1650412149000|   /about|   tosh|\n",
      "| safari|osx|1650412150000|        /|   otto|\n",
      "| chrome|win|1650412151000|   /about| karley|\n",
      "| chrome|osx|1650412153000|/services|yolanda|\n",
      "+-------+---+-------------+---------+-------+\n",
      "\n"
     ]
    }
   ],
   "source": [
    "df.show()"
   ]
  },
  {
   "cell_type": "code",
   "execution_count": 35,
   "id": "b2644766-fd4e-44ab-a5eb-98438206e959",
   "metadata": {},
   "outputs": [],
   "source": [
    "df = None"
   ]
  },
  {
   "cell_type": "code",
   "execution_count": 41,
   "id": "4f1eefe9-c1f5-4972-8d29-41fb3acb0c38",
   "metadata": {},
   "outputs": [],
   "source": [
    "row = spark.createDataFrame([payload])\n",
    "if df is None:\n",
    "    df = row\n",
    "else:\n",
    "    df = df.union(row)\n",
    "    \n",
    "\n"
   ]
  },
  {
   "cell_type": "code",
   "execution_count": 42,
   "id": "13ff38e8-dbd6-4f9c-a7ad-c5a11b131383",
   "metadata": {},
   "outputs": [
    {
     "name": "stdout",
     "output_type": "stream",
     "text": [
      "+-------+---+-------------+---+-----+\n",
      "|Browser| OS|    TimeStamp|Uri| User|\n",
      "+-------+---+-------------+---+-----+\n",
      "|firefox|win|1650412136000|  /|patty|\n",
      "|firefox|win|1650412136000|  /|patty|\n",
      "|firefox|win|1650412136000|  /|patty|\n",
      "+-------+---+-------------+---+-----+\n",
      "\n"
     ]
    }
   ],
   "source": [
    "df.show()"
   ]
  },
  {
   "cell_type": "code",
   "execution_count": null,
   "id": "c6dcc8c4-3073-4ac9-9aa9-7a535880b5a1",
   "metadata": {},
   "outputs": [],
   "source": []
  },
  {
   "cell_type": "code",
   "execution_count": null,
   "id": "6c935f27-522b-4412-8796-f9c8c09bb044",
   "metadata": {},
   "outputs": [],
   "source": []
  },
  {
   "cell_type": "code",
   "execution_count": null,
   "id": "e1af59b2-f56d-4b24-936b-89a0d743c0c3",
   "metadata": {},
   "outputs": [],
   "source": []
  },
  {
   "cell_type": "code",
   "execution_count": 23,
   "id": "32c03de7-608c-4436-8215-32dd0e17471a",
   "metadata": {},
   "outputs": [],
   "source": [
    "df = spark.createDataFrame([payload])\n",
    "df2 = spark.createDataFrame([payload])"
   ]
  },
  {
   "cell_type": "code",
   "execution_count": 24,
   "id": "825df373-1a0a-48f4-bdba-f09ddd267f10",
   "metadata": {},
   "outputs": [
    {
     "name": "stdout",
     "output_type": "stream",
     "text": [
      "+-------+---+-------------+---+-----+\n",
      "|Browser| OS|    TimeStamp|Uri| User|\n",
      "+-------+---+-------------+---+-----+\n",
      "|firefox|win|1650412136000|  /|patty|\n",
      "|firefox|win|1650412136000|  /|patty|\n",
      "+-------+---+-------------+---+-----+\n",
      "\n"
     ]
    }
   ],
   "source": [
    "df = df.union(df2)\n",
    "df.show()"
   ]
  },
  {
   "cell_type": "code",
   "execution_count": null,
   "id": "8b0e4c0f-b302-440a-8610-146b3c02cf90",
   "metadata": {},
   "outputs": [],
   "source": []
  }
 ],
 "metadata": {
  "kernelspec": {
   "display_name": "Python 3 (ipykernel)",
   "language": "python",
   "name": "python3"
  },
  "language_info": {
   "codemirror_mode": {
    "name": "ipython",
    "version": 3
   },
   "file_extension": ".py",
   "mimetype": "text/x-python",
   "name": "python",
   "nbconvert_exporter": "python",
   "pygments_lexer": "ipython3",
   "version": "3.9.6"
  }
 },
 "nbformat": 4,
 "nbformat_minor": 5
}
