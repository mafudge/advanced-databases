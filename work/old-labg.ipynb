{
 "cells": [
  {
   "cell_type": "code",
   "execution_count": 2,
   "id": "e1baaebc-bffc-4442-a489-fbaf66228c77",
   "metadata": {},
   "outputs": [],
   "source": [
    "import pyspark\n",
    "from pyspark.sql import SparkSession\n",
    "from pyspark.sql.functions import *\n",
    "from pyspark.sql.types import *\n",
    "# CASSANDRA CONFIGURATION\n",
    "cassandra_host = \"cassandra\"\n",
    "spark = SparkSession \\\n",
    "    .builder \\\n",
    "    .master(\"local\") \\\n",
    "    .appName('jupyter-pyspark') \\\n",
    "      .config(\"spark.cassandra.connection.host\", cassandra_host) \\\n",
    "      .config(\"spark.jars.packages\",\"com.datastax.spark:spark-cassandra-connector-assembly_2.12:3.1.0\")\\\n",
    "    .getOrCreate()\n",
    "sc = spark.sparkContext\n",
    "sc.setLogLevel(\"ERROR\")"
   ]
  },
  {
   "cell_type": "code",
   "execution_count": 7,
   "id": "552b8a41-c337-4de0-a13c-033cd8d11e5b",
   "metadata": {},
   "outputs": [
    {
     "name": "stdout",
     "output_type": "stream",
     "text": [
      "root\n",
      " |-- 2020census: long (nullable = true)\n",
      " |-- city: string (nullable = true)\n",
      " |-- condition: string (nullable = true)\n",
      " |-- date: string (nullable = true)\n",
      " |-- description: string (nullable = true)\n",
      " |-- dew_point: double (nullable = true)\n",
      " |-- latitude: double (nullable = true)\n",
      " |-- longitude: double (nullable = true)\n",
      " |-- moon_phase: double (nullable = true)\n",
      " |-- pct_clouds: long (nullable = true)\n",
      " |-- pct_humidity: long (nullable = true)\n",
      " |-- pressure: long (nullable = true)\n",
      " |-- rainfall: double (nullable = true)\n",
      " |-- snowfall: double (nullable = true)\n",
      " |-- state: string (nullable = true)\n",
      " |-- temperature.day: double (nullable = true)\n",
      " |-- temperature.eve: double (nullable = true)\n",
      " |-- temperature.max: double (nullable = true)\n",
      " |-- temperature.min: double (nullable = true)\n",
      " |-- temperature.morn: double (nullable = true)\n",
      " |-- temperature.night: double (nullable = true)\n",
      " |-- timezone: string (nullable = true)\n",
      " |-- uv_index: double (nullable = true)\n",
      " |-- wind.direction_deg: long (nullable = true)\n",
      " |-- wind.gust: double (nullable = true)\n",
      " |-- wind.speed: double (nullable = true)\n",
      "\n",
      "+----------+-----------+---------+----------+----------------+---------+----------+-----------+----------+----------+------------+--------+--------+--------+----------+---------------+---------------+---------------+---------------+----------------+-----------------+-------------------+--------+------------------+---------+----------+\n",
      "|2020census|       city|condition|      date|     description|dew_point|  latitude|  longitude|moon_phase|pct_clouds|pct_humidity|pressure|rainfall|snowfall|     state|temperature.day|temperature.eve|temperature.max|temperature.min|temperature.morn|temperature.night|           timezone|uv_index|wind.direction_deg|wind.gust|wind.speed|\n",
      "+----------+-----------+---------+----------+----------------+---------+----------+-----------+----------+----------+------------+--------+--------+--------+----------+---------------+---------------+---------------+---------------+----------------+-----------------+-------------------+--------+------------------+---------+----------+\n",
      "|   8804190|   New York|    Clear|2021-10-19|       clear sky|     35.2|40.7127281|-74.0060152|      0.47|         0|          38|    1016|     0.0|     0.0|  New York|          61.16|          63.82|          67.53|          50.32|           50.45|            61.65|   America/New_York|    3.32|               291|    31.52|     16.35|\n",
      "|   8804190|   New York|   Clouds|2021-10-20|scattered clouds|    48.34|40.7127281|-74.0060152|       0.5|        27|          45|    1016|     0.0|     0.0|  New York|          71.13|          71.89|           75.0|          58.55|           58.68|            65.25|   America/New_York|    3.49|               289|    31.52|     12.68|\n",
      "|   8804190|   New York|   Clouds|2021-10-21|   broken clouds|    46.96|40.7127281|-74.0060152|      0.53|        84|          44|    1016|     0.0|     0.0|  New York|          69.96|          71.71|          74.16|          60.12|           60.48|            67.21|   America/New_York|    3.32|               208|    33.58|      13.0|\n",
      "|   8804190|   New York|   Clouds|2021-10-22|scattered clouds|    47.93|40.7127281|-74.0060152|      0.56|        27|          50|    1014|     0.0|     0.0|  New York|          67.17|          65.68|           68.2|          59.32|           62.19|            59.32|   America/New_York|    2.44|               220|    34.05|     14.05|\n",
      "|   8804190|   New York|     Rain|2021-10-23|      light rain|    37.71|40.7127281|-74.0060152|      0.59|        51|          44|    1016|    0.37|     0.0|  New York|          59.79|          59.22|           61.3|          53.04|           57.63|            53.04|   America/New_York|    1.68|               315|    16.49|     11.16|\n",
      "|   8804190|   New York|    Clear|2021-10-24|       clear sky|    35.49|40.7127281|-74.0060152|      0.62|         9|          46|    1019|     0.0|     0.0|  New York|          55.85|          56.82|           60.4|          48.72|           51.24|            48.72|   America/New_York|     2.0|               330|    24.52|     15.35|\n",
      "|   8804190|   New York|    Clear|2021-10-25|       clear sky|    26.28|40.7127281|-74.0060152|      0.65|         5|          40|    1028|     0.0|     0.0|  New York|          49.68|          56.89|          56.89|          43.54|           44.47|            55.42|   America/New_York|     2.0|               344|     21.5|     13.73|\n",
      "|   8804190|   New York|     Rain|2021-10-26|   moderate rain|    48.34|40.7127281|-74.0060152|      0.68|       100|          84|    1022|    8.32|     0.0|  New York|          53.19|          56.26|          57.88|          49.84|           49.84|            57.88|   America/New_York|     2.0|               122|    16.17|      9.28|\n",
      "|   3898747|Los Angeles|    Clear|2021-10-19|       clear sky|    42.01|34.0536909|-118.242766|      0.47|         0|          44|    1017|     0.0|     0.0|California|          65.73|          65.59|           68.4|          57.07|           57.18|            60.96|America/Los_Angeles|    4.88|               236|     7.05|      8.66|\n",
      "|   3898747|Los Angeles|   Clouds|2021-10-20|      few clouds|    43.63|34.0536909|-118.242766|       0.5|        12|          40|    1019|     0.0|     0.0|California|          69.94|          66.97|          73.15|          59.94|           60.12|            64.89|America/Los_Angeles|    4.92|               242|     8.84|       9.8|\n",
      "|   3898747|Los Angeles|   Clouds|2021-10-21| overcast clouds|    39.13|34.0536909|-118.242766|      0.54|       100|          29|    1019|     0.0|     0.0|California|          74.68|          70.83|          77.61|          63.66|           63.72|            67.17|America/Los_Angeles|    4.48|               240|     6.17|      7.94|\n",
      "|   3898747|Los Angeles|   Clouds|2021-10-22|   broken clouds|    45.64|34.0536909|-118.242766|      0.57|        51|          44|    1016|     0.0|     0.0|California|          69.91|          70.66|          74.68|          62.96|           63.57|            63.61|America/Los_Angeles|    4.89|               223|     8.32|      7.96|\n",
      "|   3898747|Los Angeles|   Clouds|2021-10-23| overcast clouds|    48.38|34.0536909|-118.242766|       0.6|       100|          58|    1012|     0.0|     0.0|California|          64.56|          66.67|          67.87|          60.82|           62.53|            61.27|America/Los_Angeles|     4.7|               226|     8.12|      7.83|\n",
      "|   3898747|Los Angeles|     Rain|2021-10-24|      light rain|    49.21|34.0536909|-118.242766|      0.63|        62|          62|    1012|    2.61|     0.0|California|          63.54|          66.15|          67.57|          59.45|           59.45|            62.96|America/Los_Angeles|     5.0|               162|    16.35|     10.98|\n",
      "|   3898747|Los Angeles|     Rain|2021-10-25|   moderate rain|    52.99|34.0536909|-118.242766|      0.66|       100|          80|    1009|   20.04|     0.0|California|           60.3|          63.45|           64.4|          59.27|           63.34|            59.27|America/Los_Angeles|     5.0|               174|    25.19|     15.79|\n",
      "|   3898747|Los Angeles|    Clear|2021-10-26|       clear sky|    44.55|34.0536909|-118.242766|      0.69|         0|          51|    1019|     0.0|     0.0|California|          63.73|          68.02|          69.39|          57.87|           57.87|             62.8|America/Los_Angeles|     5.0|               219|     7.18|      8.05|\n",
      "|   2746388|    Chicago|   Clouds|2021-10-19|   broken clouds|    42.67|41.8755616|-87.6244212|      0.47|        83|          41|    1019|     0.0|     0.0|  Illinois|           67.6|          63.75|          69.96|          57.96|           58.53|            61.74|    America/Chicago|     3.2|               212|    24.56|     11.32|\n",
      "|   2746388|    Chicago|     Rain|2021-10-20|      light rain|    44.58|41.8755616|-87.6244212|       0.5|        26|          44|    1016|    1.31|     0.0|  Illinois|          67.91|          67.77|          71.01|          58.59|           59.13|            64.71|    America/Chicago|    3.17|               198|     29.8|     13.65|\n",
      "|   2746388|    Chicago|   Clouds|2021-10-21| overcast clouds|    46.02|41.8755616|-87.6244212|      0.53|        98|          70|    1012|     0.0|     0.0|  Illinois|          55.62|          55.11|          64.83|           53.6|           56.21|             53.6|    America/Chicago|    1.76|               249|     29.8|     15.64|\n",
      "|   2746388|    Chicago|   Clouds|2021-10-22| overcast clouds|    33.84|41.8755616|-87.6244212|      0.56|       100|          44|    1018|     0.0|     0.0|  Illinois|          55.53|          55.72|          57.34|          50.04|           50.25|             54.5|    America/Chicago|     2.5|               343|     8.46|      7.47|\n",
      "+----------+-----------+---------+----------+----------------+---------+----------+-----------+----------+----------+------------+--------+--------+--------+----------+---------------+---------------+---------------+---------------+----------------+-----------------+-------------------+--------+------------------+---------+----------+\n",
      "only showing top 20 rows\n",
      "\n"
     ]
    }
   ],
   "source": [
    "w = spark.read.json(\"file:///home/jovyan/datasets/weather/weather.json\")\n",
    "w.printSchema()\n",
    "w.show()"
   ]
  },
  {
   "cell_type": "code",
   "execution_count": 12,
   "id": "8d05774b-eda2-43d3-829b-1e77e31413ae",
   "metadata": {},
   "outputs": [
    {
     "name": "stdout",
     "output_type": "stream",
     "text": [
      "1600\n",
      "1600\n"
     ]
    }
   ],
   "source": [
    "print(w.count())\n",
    "print(w.select(\"date\",\"city\",\"state\").distinct().count())"
   ]
  },
  {
   "cell_type": "code",
   "execution_count": 18,
   "id": "1d38d363-79c1-4c05-8d77-8dfa8dec9181",
   "metadata": {},
   "outputs": [],
   "source": [
    "!pip install -q cassandra-driver\n",
    "\n",
    "sql = '''\n",
    "create table glab.daily_city_weather (\n",
    "    city2020census int, \n",
    "    city text,\n",
    "    condition text,\n",
    "    date text, \n",
    "    description text, \n",
    "    dew_point text,\n",
    "    latitude double,\n",
    "    longitude double,\n",
    "    moon_phase double,\n",
    "    pct_clouds int,\n",
    "    pct_humidity int,\n",
    "    pressure int, \n",
    "    rainfall double,\n",
    "    snowfall double,\n",
    "    state text,\n",
    "    temp_day double,\n",
    "    temp_eve double,\n",
    "    temp_max double,\n",
    "    temp_min double,\n",
    "    temp_morn double,\n",
    "    temp_night double,\n",
    "    timezone text,\n",
    "    uv_index double,\n",
    "    wind_dir_deg int,\n",
    "    wind_gust double, \n",
    "    wind_speed double,\n",
    "    primary key( (city,state), date)\n",
    ");\n",
    "\n",
    "'''\n",
    "from cassandra.cluster import Cluster\n",
    "with Cluster([cassandra_host]) as cluster:\n",
    "    session = cluster.connect()\n",
    "    session.execute(sql)"
   ]
  },
  {
   "cell_type": "code",
   "execution_count": 33,
   "id": "49b374ed-2a33-48c4-a328-623b9fb6f1c3",
   "metadata": {},
   "outputs": [
    {
     "name": "stdout",
     "output_type": "stream",
     "text": [
      "1600\n",
      "1600\n"
     ]
    }
   ],
   "source": [
    "w.toDF(\"city2020census\",\"city\",\"condition\",\"date\",\"description\",\"dew_point\",\"latitude\",\"longitude\",\"moon_phase\", \"pct_clouds\",\n",
    "       \"pct_humidity\",\"pressure\",\"rainfall\",\"snowfall\",\"state\",\"temp_day\",\"temp_eve\",\"temp_max\",\"temp_min\",\"temp_morn\",\"temp_night\",\n",
    "       \"timezone\",\"uv_index\",\"wind_dir_deg\",\"wind_gust\", \"wind_speed\").write.format(\"org.apache.spark.sql.cassandra\")\\\n",
    "    .mode(\"Append\")\\\n",
    "    .option(\"table\", \"daily_city_weather\")\\\n",
    "    .option(\"keyspace\",\"glab\")\\\n",
    "    .save()\n",
    "\n",
    "w2 = spark.read.format(\"org.apache.spark.sql.cassandra\")\\\n",
    "    .option(\"table\", \"daily_city_weather\")\\\n",
    "    .option(\"keyspace\",\"glab\")\\\n",
    "    .load()\n",
    "\n",
    "print(w.count())\n",
    "print(w2.count())"
   ]
  },
  {
   "cell_type": "code",
   "execution_count": 35,
   "id": "bdf44c2f-b276-4d12-b8b4-5d837af55971",
   "metadata": {},
   "outputs": [
    {
     "name": "stdout",
     "output_type": "stream",
     "text": [
      "== Physical Plan ==\n",
      "*(1) Project [city#1516, state#1517, date#1518, city2020census#1519, condition#1520, description#1521, dew_point#1522, latitude#1523, longitude#1524, moon_phase#1525, pct_clouds#1526, pct_humidity#1527, pressure#1528, rainfall#1529, snowfall#1530, temp_day#1531, temp_eve#1532, temp_max#1533, temp_min#1534, temp_morn#1535, temp_night#1536, timezone#1537, uv_index#1538, wind_dir_deg#1539, ... 2 more fields]\n",
      "+- BatchScan[city#1516, state#1517, date#1518, city2020census#1519, condition#1520, description#1521, dew_point#1522, latitude#1523, longitude#1524, moon_phase#1525, pct_clouds#1526, pct_humidity#1527, pressure#1528, rainfall#1529, snowfall#1530, temp_day#1531, temp_eve#1532, temp_max#1533, temp_min#1534, temp_morn#1535, temp_night#1536, timezone#1537, uv_index#1538, wind_dir_deg#1539, ... 2 more fields] Cassandra Scan: glab.daily_city_weather\n",
      " - Cassandra Filters: [[\"city\" = ?, Syracuse],[\"state\" = ?, New York]]\n",
      " - Requested Columns: [city,state,date,city2020census,condition,description,dew_point,latitude,longitude,moon_phase,pct_clouds,pct_humidity,pressure,rainfall,snowfall,temp_day,temp_eve,temp_max,temp_min,temp_morn,temp_night,timezone,uv_index,wind_dir_deg,wind_gust,wind_speed]\n",
      "\n",
      "\n"
     ]
    }
   ],
   "source": [
    "w2.createOrReplaceTempView(\"daily_city_weather\")\n",
    "spark.sql(\"select * from daily_city_weather where city='Syracuse' and state='New York'\").explain()"
   ]
  },
  {
   "cell_type": "code",
   "execution_count": 43,
   "id": "aaad219d-3060-4a04-a5ff-3c7db26cfd6a",
   "metadata": {},
   "outputs": [
    {
     "name": "stdout",
     "output_type": "stream",
     "text": [
      "== Physical Plan ==\n",
      "*(1) Filter (condition#1520 = Rain)\n",
      "+- BatchScan[city#1516, state#1517, date#1518, condition#1520, description#1521] Cassandra Scan: glab.daily_city_weather\n",
      " - Cassandra Filters: [[\"date\" = ?, 2021-10-20]]\n",
      " - Requested Columns: [city,state,date,condition,description]\n",
      "\n",
      "\n"
     ]
    }
   ],
   "source": [
    "query = '''\n",
    "select city,state,date,condition,description\n",
    "    from daily_city_weather\n",
    "    where condition = 'Rain'\n",
    "    and date = '2021-10-20'\n",
    "'''\n",
    "spark.sql(query).explain()"
   ]
  },
  {
   "cell_type": "code",
   "execution_count": 9,
   "id": "f3446c49-cb12-4c05-a98b-1d5437aefcdb",
   "metadata": {},
   "outputs": [
    {
     "ename": "AnalysisException",
     "evalue": "Couldn't find table daily_city_weather_by_date_condition in glab - Found similar tables in that keyspace:\nglab.daily_city_weather_by_date_condition\nglab.daily_city_weather",
     "output_type": "error",
     "traceback": [
      "\u001b[0;31m---------------------------------------------------------------------------\u001b[0m",
      "\u001b[0;31mAnalysisException\u001b[0m                         Traceback (most recent call last)",
      "\u001b[0;32m/tmp/ipykernel_1148/1517672773.py\u001b[0m in \u001b[0;36m<module>\u001b[0;34m\u001b[0m\n\u001b[0;32m----> 1\u001b[0;31m \u001b[0mspark\u001b[0m\u001b[0;34m.\u001b[0m\u001b[0mread\u001b[0m\u001b[0;34m.\u001b[0m\u001b[0mformat\u001b[0m\u001b[0;34m(\u001b[0m\u001b[0;34m\"org.apache.spark.sql.cassandra\"\u001b[0m\u001b[0;34m)\u001b[0m\u001b[0;31m\\\u001b[0m\u001b[0;34m\u001b[0m\u001b[0;34m\u001b[0m\u001b[0m\n\u001b[0m\u001b[1;32m      2\u001b[0m     \u001b[0;34m.\u001b[0m\u001b[0moption\u001b[0m\u001b[0;34m(\u001b[0m\u001b[0;34m\"table\"\u001b[0m\u001b[0;34m,\u001b[0m \u001b[0;34m\"daily_city_weather_by_date_condition\"\u001b[0m\u001b[0;34m)\u001b[0m\u001b[0;31m\\\u001b[0m\u001b[0;34m\u001b[0m\u001b[0;34m\u001b[0m\u001b[0m\n\u001b[1;32m      3\u001b[0m     \u001b[0;34m.\u001b[0m\u001b[0moption\u001b[0m\u001b[0;34m(\u001b[0m\u001b[0;34m\"keyspace\"\u001b[0m\u001b[0;34m,\u001b[0m\u001b[0;34m\"glab\"\u001b[0m\u001b[0;34m)\u001b[0m\u001b[0;31m\\\u001b[0m\u001b[0;34m\u001b[0m\u001b[0;34m\u001b[0m\u001b[0m\n\u001b[1;32m      4\u001b[0m     \u001b[0;34m.\u001b[0m\u001b[0moption\u001b[0m\u001b[0;34m(\u001b[0m\u001b[0;34m\"pushdown\"\u001b[0m\u001b[0;34m,\u001b[0m\u001b[0;32mTrue\u001b[0m\u001b[0;34m)\u001b[0m\u001b[0;31m\\\u001b[0m\u001b[0;34m\u001b[0m\u001b[0;34m\u001b[0m\u001b[0m\n\u001b[1;32m      5\u001b[0m     \u001b[0;34m.\u001b[0m\u001b[0mload\u001b[0m\u001b[0;34m(\u001b[0m\u001b[0;34m)\u001b[0m\u001b[0;31m\\\u001b[0m\u001b[0;34m\u001b[0m\u001b[0;34m\u001b[0m\u001b[0m\n",
      "\u001b[0;32m/usr/local/spark/python/pyspark/sql/readwriter.py\u001b[0m in \u001b[0;36mload\u001b[0;34m(self, path, format, schema, **options)\u001b[0m\n\u001b[1;32m    208\u001b[0m             \u001b[0;32mreturn\u001b[0m \u001b[0mself\u001b[0m\u001b[0;34m.\u001b[0m\u001b[0m_df\u001b[0m\u001b[0;34m(\u001b[0m\u001b[0mself\u001b[0m\u001b[0;34m.\u001b[0m\u001b[0m_jreader\u001b[0m\u001b[0;34m.\u001b[0m\u001b[0mload\u001b[0m\u001b[0;34m(\u001b[0m\u001b[0mself\u001b[0m\u001b[0;34m.\u001b[0m\u001b[0m_spark\u001b[0m\u001b[0;34m.\u001b[0m\u001b[0m_sc\u001b[0m\u001b[0;34m.\u001b[0m\u001b[0m_jvm\u001b[0m\u001b[0;34m.\u001b[0m\u001b[0mPythonUtils\u001b[0m\u001b[0;34m.\u001b[0m\u001b[0mtoSeq\u001b[0m\u001b[0;34m(\u001b[0m\u001b[0mpath\u001b[0m\u001b[0;34m)\u001b[0m\u001b[0;34m)\u001b[0m\u001b[0;34m)\u001b[0m\u001b[0;34m\u001b[0m\u001b[0;34m\u001b[0m\u001b[0m\n\u001b[1;32m    209\u001b[0m         \u001b[0;32melse\u001b[0m\u001b[0;34m:\u001b[0m\u001b[0;34m\u001b[0m\u001b[0;34m\u001b[0m\u001b[0m\n\u001b[0;32m--> 210\u001b[0;31m             \u001b[0;32mreturn\u001b[0m \u001b[0mself\u001b[0m\u001b[0;34m.\u001b[0m\u001b[0m_df\u001b[0m\u001b[0;34m(\u001b[0m\u001b[0mself\u001b[0m\u001b[0;34m.\u001b[0m\u001b[0m_jreader\u001b[0m\u001b[0;34m.\u001b[0m\u001b[0mload\u001b[0m\u001b[0;34m(\u001b[0m\u001b[0;34m)\u001b[0m\u001b[0;34m)\u001b[0m\u001b[0;34m\u001b[0m\u001b[0;34m\u001b[0m\u001b[0m\n\u001b[0m\u001b[1;32m    211\u001b[0m \u001b[0;34m\u001b[0m\u001b[0m\n\u001b[1;32m    212\u001b[0m     def json(self, path, schema=None, primitivesAsString=None, prefersDecimal=None,\n",
      "\u001b[0;32m/usr/local/spark/python/lib/py4j-0.10.9-src.zip/py4j/java_gateway.py\u001b[0m in \u001b[0;36m__call__\u001b[0;34m(self, *args)\u001b[0m\n\u001b[1;32m   1302\u001b[0m \u001b[0;34m\u001b[0m\u001b[0m\n\u001b[1;32m   1303\u001b[0m         \u001b[0manswer\u001b[0m \u001b[0;34m=\u001b[0m \u001b[0mself\u001b[0m\u001b[0;34m.\u001b[0m\u001b[0mgateway_client\u001b[0m\u001b[0;34m.\u001b[0m\u001b[0msend_command\u001b[0m\u001b[0;34m(\u001b[0m\u001b[0mcommand\u001b[0m\u001b[0;34m)\u001b[0m\u001b[0;34m\u001b[0m\u001b[0;34m\u001b[0m\u001b[0m\n\u001b[0;32m-> 1304\u001b[0;31m         return_value = get_return_value(\n\u001b[0m\u001b[1;32m   1305\u001b[0m             answer, self.gateway_client, self.target_id, self.name)\n\u001b[1;32m   1306\u001b[0m \u001b[0;34m\u001b[0m\u001b[0m\n",
      "\u001b[0;32m/usr/local/spark/python/pyspark/sql/utils.py\u001b[0m in \u001b[0;36mdeco\u001b[0;34m(*a, **kw)\u001b[0m\n\u001b[1;32m    115\u001b[0m                 \u001b[0;31m# Hide where the exception came from that shows a non-Pythonic\u001b[0m\u001b[0;34m\u001b[0m\u001b[0;34m\u001b[0m\u001b[0;34m\u001b[0m\u001b[0m\n\u001b[1;32m    116\u001b[0m                 \u001b[0;31m# JVM exception message.\u001b[0m\u001b[0;34m\u001b[0m\u001b[0;34m\u001b[0m\u001b[0;34m\u001b[0m\u001b[0m\n\u001b[0;32m--> 117\u001b[0;31m                 \u001b[0;32mraise\u001b[0m \u001b[0mconverted\u001b[0m \u001b[0;32mfrom\u001b[0m \u001b[0;32mNone\u001b[0m\u001b[0;34m\u001b[0m\u001b[0;34m\u001b[0m\u001b[0m\n\u001b[0m\u001b[1;32m    118\u001b[0m             \u001b[0;32melse\u001b[0m\u001b[0;34m:\u001b[0m\u001b[0;34m\u001b[0m\u001b[0;34m\u001b[0m\u001b[0m\n\u001b[1;32m    119\u001b[0m                 \u001b[0;32mraise\u001b[0m\u001b[0;34m\u001b[0m\u001b[0;34m\u001b[0m\u001b[0m\n",
      "\u001b[0;31mAnalysisException\u001b[0m: Couldn't find table daily_city_weather_by_date_condition in glab - Found similar tables in that keyspace:\nglab.daily_city_weather_by_date_condition\nglab.daily_city_weather"
     ]
    }
   ],
   "source": [
    "spark.read.format(\"org.apache.spark.sql.cassandra\")\\\n",
    "    .option(\"table\", \"daily_city_weather_by_date_condition\")\\\n",
    "    .option(\"keyspace\",\"glab\")\\\n",
    "    .option(\"pushdown\",True)\\\n",
    "    .load()\\\n",
    "    .createOrReplaceTempView(\"daily_city_weather_by_date_condition\")"
   ]
  },
  {
   "cell_type": "code",
   "execution_count": 5,
   "id": "0285fb5e-b327-4185-9f13-0abbec1686f6",
   "metadata": {},
   "outputs": [
    {
     "ename": "AnalysisException",
     "evalue": "org.apache.spark.sql.cassandra is not a valid Spark SQL Data Source.",
     "output_type": "error",
     "traceback": [
      "\u001b[0;31m---------------------------------------------------------------------------\u001b[0m",
      "\u001b[0;31mAnalysisException\u001b[0m                         Traceback (most recent call last)",
      "\u001b[0;32m/tmp/ipykernel_1148/3749831100.py\u001b[0m in \u001b[0;36m<module>\u001b[0;34m\u001b[0m\n\u001b[0;32m----> 1\u001b[0;31m spark.sql('''\n\u001b[0m\u001b[1;32m      2\u001b[0m \u001b[0mCREATE\u001b[0m \u001b[0mTEMPORARY\u001b[0m \u001b[0mTABLE\u001b[0m \u001b[0mdaily_city_weather_by_date_condition\u001b[0m\u001b[0;34m\u001b[0m\u001b[0;34m\u001b[0m\u001b[0m\n\u001b[1;32m      3\u001b[0m \u001b[0mUSING\u001b[0m \u001b[0morg\u001b[0m\u001b[0;34m.\u001b[0m\u001b[0mapache\u001b[0m\u001b[0;34m.\u001b[0m\u001b[0mspark\u001b[0m\u001b[0;34m.\u001b[0m\u001b[0msql\u001b[0m\u001b[0;34m.\u001b[0m\u001b[0mcassandra\u001b[0m\u001b[0;34m\u001b[0m\u001b[0;34m\u001b[0m\u001b[0m\n\u001b[1;32m      4\u001b[0m OPTIONS ( table \"daily_city_weather_by_date_condition\", \n\u001b[1;32m      5\u001b[0m \u001b[0mkeyspace\u001b[0m \u001b[0;34m\"glab\"\u001b[0m\u001b[0;34m,\u001b[0m\u001b[0;34m\u001b[0m\u001b[0;34m\u001b[0m\u001b[0m\n",
      "\u001b[0;32m/usr/local/spark/python/pyspark/sql/session.py\u001b[0m in \u001b[0;36msql\u001b[0;34m(self, sqlQuery)\u001b[0m\n\u001b[1;32m    721\u001b[0m         \u001b[0;34m[\u001b[0m\u001b[0mRow\u001b[0m\u001b[0;34m(\u001b[0m\u001b[0mf1\u001b[0m\u001b[0;34m=\u001b[0m\u001b[0;36m1\u001b[0m\u001b[0;34m,\u001b[0m \u001b[0mf2\u001b[0m\u001b[0;34m=\u001b[0m\u001b[0;34m'row1'\u001b[0m\u001b[0;34m)\u001b[0m\u001b[0;34m,\u001b[0m \u001b[0mRow\u001b[0m\u001b[0;34m(\u001b[0m\u001b[0mf1\u001b[0m\u001b[0;34m=\u001b[0m\u001b[0;36m2\u001b[0m\u001b[0;34m,\u001b[0m \u001b[0mf2\u001b[0m\u001b[0;34m=\u001b[0m\u001b[0;34m'row2'\u001b[0m\u001b[0;34m)\u001b[0m\u001b[0;34m,\u001b[0m \u001b[0mRow\u001b[0m\u001b[0;34m(\u001b[0m\u001b[0mf1\u001b[0m\u001b[0;34m=\u001b[0m\u001b[0;36m3\u001b[0m\u001b[0;34m,\u001b[0m \u001b[0mf2\u001b[0m\u001b[0;34m=\u001b[0m\u001b[0;34m'row3'\u001b[0m\u001b[0;34m)\u001b[0m\u001b[0;34m]\u001b[0m\u001b[0;34m\u001b[0m\u001b[0;34m\u001b[0m\u001b[0m\n\u001b[1;32m    722\u001b[0m         \"\"\"\n\u001b[0;32m--> 723\u001b[0;31m         \u001b[0;32mreturn\u001b[0m \u001b[0mDataFrame\u001b[0m\u001b[0;34m(\u001b[0m\u001b[0mself\u001b[0m\u001b[0;34m.\u001b[0m\u001b[0m_jsparkSession\u001b[0m\u001b[0;34m.\u001b[0m\u001b[0msql\u001b[0m\u001b[0;34m(\u001b[0m\u001b[0msqlQuery\u001b[0m\u001b[0;34m)\u001b[0m\u001b[0;34m,\u001b[0m \u001b[0mself\u001b[0m\u001b[0;34m.\u001b[0m\u001b[0m_wrapped\u001b[0m\u001b[0;34m)\u001b[0m\u001b[0;34m\u001b[0m\u001b[0;34m\u001b[0m\u001b[0m\n\u001b[0m\u001b[1;32m    724\u001b[0m \u001b[0;34m\u001b[0m\u001b[0m\n\u001b[1;32m    725\u001b[0m     \u001b[0;32mdef\u001b[0m \u001b[0mtable\u001b[0m\u001b[0;34m(\u001b[0m\u001b[0mself\u001b[0m\u001b[0;34m,\u001b[0m \u001b[0mtableName\u001b[0m\u001b[0;34m)\u001b[0m\u001b[0;34m:\u001b[0m\u001b[0;34m\u001b[0m\u001b[0;34m\u001b[0m\u001b[0m\n",
      "\u001b[0;32m/usr/local/spark/python/lib/py4j-0.10.9-src.zip/py4j/java_gateway.py\u001b[0m in \u001b[0;36m__call__\u001b[0;34m(self, *args)\u001b[0m\n\u001b[1;32m   1302\u001b[0m \u001b[0;34m\u001b[0m\u001b[0m\n\u001b[1;32m   1303\u001b[0m         \u001b[0manswer\u001b[0m \u001b[0;34m=\u001b[0m \u001b[0mself\u001b[0m\u001b[0;34m.\u001b[0m\u001b[0mgateway_client\u001b[0m\u001b[0;34m.\u001b[0m\u001b[0msend_command\u001b[0m\u001b[0;34m(\u001b[0m\u001b[0mcommand\u001b[0m\u001b[0;34m)\u001b[0m\u001b[0;34m\u001b[0m\u001b[0;34m\u001b[0m\u001b[0m\n\u001b[0;32m-> 1304\u001b[0;31m         return_value = get_return_value(\n\u001b[0m\u001b[1;32m   1305\u001b[0m             answer, self.gateway_client, self.target_id, self.name)\n\u001b[1;32m   1306\u001b[0m \u001b[0;34m\u001b[0m\u001b[0m\n",
      "\u001b[0;32m/usr/local/spark/python/pyspark/sql/utils.py\u001b[0m in \u001b[0;36mdeco\u001b[0;34m(*a, **kw)\u001b[0m\n\u001b[1;32m    115\u001b[0m                 \u001b[0;31m# Hide where the exception came from that shows a non-Pythonic\u001b[0m\u001b[0;34m\u001b[0m\u001b[0;34m\u001b[0m\u001b[0;34m\u001b[0m\u001b[0m\n\u001b[1;32m    116\u001b[0m                 \u001b[0;31m# JVM exception message.\u001b[0m\u001b[0;34m\u001b[0m\u001b[0;34m\u001b[0m\u001b[0;34m\u001b[0m\u001b[0m\n\u001b[0;32m--> 117\u001b[0;31m                 \u001b[0;32mraise\u001b[0m \u001b[0mconverted\u001b[0m \u001b[0;32mfrom\u001b[0m \u001b[0;32mNone\u001b[0m\u001b[0;34m\u001b[0m\u001b[0;34m\u001b[0m\u001b[0m\n\u001b[0m\u001b[1;32m    118\u001b[0m             \u001b[0;32melse\u001b[0m\u001b[0;34m:\u001b[0m\u001b[0;34m\u001b[0m\u001b[0;34m\u001b[0m\u001b[0m\n\u001b[1;32m    119\u001b[0m                 \u001b[0;32mraise\u001b[0m\u001b[0;34m\u001b[0m\u001b[0;34m\u001b[0m\u001b[0m\n",
      "\u001b[0;31mAnalysisException\u001b[0m: org.apache.spark.sql.cassandra is not a valid Spark SQL Data Source."
     ]
    }
   ],
   "source": [
    "spark.sql('''\n",
    "CREATE TEMPORARY TABLE daily_city_weather_by_date_condition \n",
    "USING org.apache.spark.sql.cassandra \n",
    "OPTIONS ( table \"daily_city_weather_by_date_condition\", \n",
    "keyspace \"glab\",   \n",
    "cluster \"cassandra\",\n",
    "pushdown \"true\")\n",
    "''')  "
   ]
  },
  {
   "cell_type": "code",
   "execution_count": null,
   "id": "dea0c3c6-c762-49c1-a81d-192459bfa898",
   "metadata": {},
   "outputs": [],
   "source": []
  }
 ],
 "metadata": {
  "kernelspec": {
   "display_name": "Python 3 (ipykernel)",
   "language": "python",
   "name": "python3"
  },
  "language_info": {
   "codemirror_mode": {
    "name": "ipython",
    "version": 3
   },
   "file_extension": ".py",
   "mimetype": "text/x-python",
   "name": "python",
   "nbconvert_exporter": "python",
   "pygments_lexer": "ipython3",
   "version": "3.9.6"
  }
 },
 "nbformat": 4,
 "nbformat_minor": 5
}
