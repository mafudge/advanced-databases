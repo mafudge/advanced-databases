{
 "cells": [
  {
   "cell_type": "code",
   "execution_count": 1,
   "id": "4d8742eb-df86-46a8-b1a8-c008346d479c",
   "metadata": {},
   "outputs": [
    {
     "name": "stderr",
     "output_type": "stream",
     "text": [
      "WARNING: An illegal reflective access operation has occurred\n",
      "WARNING: Illegal reflective access by org.apache.spark.unsafe.Platform (file:/usr/local/spark-3.1.2-bin-hadoop3.2/jars/spark-unsafe_2.12-3.1.2.jar) to constructor java.nio.DirectByteBuffer(long,int)\n",
      "WARNING: Please consider reporting this to the maintainers of org.apache.spark.unsafe.Platform\n",
      "WARNING: Use --illegal-access=warn to enable warnings of further illegal reflective access operations\n",
      "WARNING: All illegal access operations will be denied in a future release\n",
      "Ivy Default Cache set to: /home/jovyan/.ivy2/cache\n",
      "The jars for the packages stored in: /home/jovyan/.ivy2/jars\n",
      "org.apache.hadoop#hadoop-aws added as a dependency\n",
      ":: resolving dependencies :: org.apache.spark#spark-submit-parent-805f5801-3a2a-4fff-ac26-abdc840e84aa;1.0\n",
      "\tconfs: [default]\n"
     ]
    },
    {
     "name": "stdout",
     "output_type": "stream",
     "text": [
      ":: loading settings :: url = jar:file:/usr/local/spark-3.1.2-bin-hadoop3.2/jars/ivy-2.4.0.jar!/org/apache/ivy/core/settings/ivysettings.xml\n"
     ]
    },
    {
     "name": "stderr",
     "output_type": "stream",
     "text": [
      "\tfound org.apache.hadoop#hadoop-aws;3.1.2 in central\n",
      "\tfound com.amazonaws#aws-java-sdk-bundle;1.11.271 in central\n",
      "downloading https://repo1.maven.org/maven2/org/apache/hadoop/hadoop-aws/3.1.2/hadoop-aws-3.1.2.jar ...\n",
      "\t[SUCCESSFUL ] org.apache.hadoop#hadoop-aws;3.1.2!hadoop-aws.jar (54ms)\n",
      "downloading https://repo1.maven.org/maven2/com/amazonaws/aws-java-sdk-bundle/1.11.271/aws-java-sdk-bundle-1.11.271.jar ...\n",
      "\t[SUCCESSFUL ] com.amazonaws#aws-java-sdk-bundle;1.11.271!aws-java-sdk-bundle.jar (7408ms)\n",
      ":: resolution report :: resolve 1126ms :: artifacts dl 7463ms\n",
      "\t:: modules in use:\n",
      "\tcom.amazonaws#aws-java-sdk-bundle;1.11.271 from central in [default]\n",
      "\torg.apache.hadoop#hadoop-aws;3.1.2 from central in [default]\n",
      "\t---------------------------------------------------------------------\n",
      "\t|                  |            modules            ||   artifacts   |\n",
      "\t|       conf       | number| search|dwnlded|evicted|| number|dwnlded|\n",
      "\t---------------------------------------------------------------------\n",
      "\t|      default     |   2   |   2   |   2   |   0   ||   2   |   2   |\n",
      "\t---------------------------------------------------------------------\n",
      ":: retrieving :: org.apache.spark#spark-submit-parent-805f5801-3a2a-4fff-ac26-abdc840e84aa\n",
      "\tconfs: [default]\n",
      "\t2 artifacts copied, 0 already retrieved (84646kB/44ms)\n",
      "23/02/15 18:06:30 WARN NativeCodeLoader: Unable to load native-hadoop library for your platform... using builtin-java classes where applicable\n",
      "Using Spark's default log4j profile: org/apache/spark/log4j-defaults.properties\n",
      "Setting default log level to \"WARN\".\n",
      "To adjust logging level use sc.setLogLevel(newLevel). For SparkR, use setLogLevel(newLevel).\n",
      "23/02/15 18:06:30 WARN Utils: Service 'SparkUI' could not bind on port 4040. Attempting port 4041.\n"
     ]
    }
   ],
   "source": [
    "# 2\n",
    "import pyspark\n",
    "from pyspark.sql import SparkSession\n",
    "# MINIO CONFIGURATION\n",
    "s3_host = \"minio\"\n",
    "s3_url = f\"http://{s3_host}:9000\"\n",
    "s3_key = \"minio\"\n",
    "s3_secret = \"SU2orange!\"\n",
    "s3_bucket = \"labd\"\n",
    "spark = SparkSession.builder \\\n",
    "    .master(\"local\") \\\n",
    "    .appName('jupyter-pyspark') \\\n",
    "    .config(\"spark.jars.packages\",\"org.apache.hadoop:hadoop-aws:3.1.2\")\\\n",
    "    .config(\"spark.hadoop.fs.s3a.endpoint\", s3_url) \\\n",
    "    .config(\"spark.hadoop.fs.s3a.access.key\", s3_key) \\\n",
    "    .config(\"spark.hadoop.fs.s3a.secret.key\", s3_secret) \\\n",
    "    .config(\"spark.hadoop.fs.s3a.fast.upload\", True) \\\n",
    "    .config(\"spark.hadoop.fs.s3a.path.style.access\", True) \\\n",
    "    .config(\"spark.hadoop.fs.s3a.impl\", \"org.apache.hadoop.fs.s3a.S3AFileSystem\") \\\n",
    "    .getOrCreate()\n",
    "sc = spark.sparkContext\n",
    "sc.setLogLevel(\"ERROR\")"
   ]
  },
  {
   "cell_type": "code",
   "execution_count": 8,
   "id": "9a09df75-1359-40bc-b14a-3686b401d5a6",
   "metadata": {},
   "outputs": [
    {
     "name": "stdout",
     "output_type": "stream",
     "text": [
      "Stripping Headers...\n"
     ]
    }
   ],
   "source": [
    "logs_in = f\"s3a://{s3_bucket}/logs/*.log\"\n",
    "logs_out = f\"s3a://{s3_bucket}/logs_no_header\"\n",
    "iplookup_in = f\"s3a://{s3_bucket}/iplookup/iplookup.json\"\n",
    "cleanedlogs_out = f\"s3a://{s3_bucket}/cleaned-logs.parquet\"\n",
    "\n",
    "print(\"Stripping Headers...\")\n",
    "#logs2 = logs1.filter(~logs1['value'].startswith(\"#\") ) \n",
    "spark.read.text(logs_in)\\\n",
    "    .filter(\"value not like '#%'\")\\\n",
    "    .write.mode(\"Overwrite\").text(logs_out)"
   ]
  },
  {
   "cell_type": "code",
   "execution_count": 30,
   "id": "e585147a-8e89-4625-9c21-8004826dc03d",
   "metadata": {},
   "outputs": [
    {
     "name": "stdout",
     "output_type": "stream",
     "text": [
      "+--------------------+\n",
      "|               value|\n",
      "+--------------------+\n",
      "|2016-02-11 17:16:...|\n",
      "|2016-02-11 17:16:...|\n",
      "|2016-02-11 17:16:...|\n",
      "|2016-02-11 17:16:...|\n",
      "|2016-02-11 17:16:...|\n",
      "|2016-02-11 17:16:...|\n",
      "|2016-02-11 17:16:...|\n",
      "|2016-02-11 17:16:...|\n",
      "|2016-02-11 17:16:...|\n",
      "|2016-02-11 17:16:...|\n",
      "|2016-02-11 17:16:...|\n",
      "|2016-02-11 17:16:...|\n",
      "|2016-02-11 17:16:...|\n",
      "|2016-02-11 17:16:...|\n",
      "|2016-02-11 17:16:...|\n",
      "|2016-02-11 17:16:...|\n",
      "|2016-02-11 17:16:...|\n",
      "|2016-02-11 17:16:...|\n",
      "|2016-02-11 17:16:...|\n",
      "|2016-02-11 17:16:...|\n",
      "+--------------------+\n",
      "only showing top 20 rows\n",
      "\n"
     ]
    }
   ],
   "source": [
    "df = spark.read.text(logs_in)\n",
    "#df.select(df.value.substr(0,1),df.value.substr(0,1) != \"#\" ).show()\n",
    "df.filter(df.value.substr(0,1) != \"#\").show()"
   ]
  },
  {
   "cell_type": "code",
   "execution_count": 32,
   "id": "5a09ab6a-914e-4bf0-85e6-5ecc3ca4189f",
   "metadata": {},
   "outputs": [
    {
     "name": "stdout",
     "output_type": "stream",
     "text": [
      "Loading stripped logs...\n"
     ]
    }
   ],
   "source": [
    "print(\"Loading stripped logs...\")\n",
    "logs = spark.read.option(\"header\",False).option(\"inferSchema\",True).option(\"sep\",\" \").csv(logs_out)\\\n",
    "    .toDF(\"date\",\"time\", \"serverip\", \"method\", \"uri\", \"querystirng\", \"port\", \"username\", \"clientip\", \"useragent\", \"referrer\", \"statuscode\", \"a\",\"b\",\"c\")\\\n"
   ]
  },
  {
   "cell_type": "code",
   "execution_count": 52,
   "id": "8b4207df-faa4-4e21-bb26-1d1e34187d98",
   "metadata": {},
   "outputs": [
    {
     "name": "stdout",
     "output_type": "stream",
     "text": [
      "Loading IP lookups...\n",
      "root\n",
      " |-- ip: string (nullable = true)\n",
      " |-- city: string (nullable = true)\n",
      " |-- state: string (nullable = true)\n",
      " |-- country: string (nullable = true)\n",
      " |-- lat: double (nullable = true)\n",
      " |-- lng: double (nullable = true)\n",
      "\n"
     ]
    }
   ],
   "source": [
    "print(\"Loading IP lookups...\")\n",
    "ip = spark.read.option(\"multiline\", True).json(iplookup_in)\n",
    "ip = ip.select(\"ip\",ip.geography.city.alias(\"city\"), \"geography.state\", \"geography.country\", \"location.lat\", \"location.lng\")\n",
    "\n",
    "ip.printSchema()\n"
   ]
  },
  {
   "cell_type": "code",
   "execution_count": 38,
   "id": "e9d9b252-ab71-431f-a973-456079fac87a",
   "metadata": {},
   "outputs": [
    {
     "name": "stdout",
     "output_type": "stream",
     "text": [
      "root\n",
      " |-- geography: struct (nullable = true)\n",
      " |    |-- city: string (nullable = true)\n",
      " |    |-- country: string (nullable = true)\n",
      " |    |-- state: string (nullable = true)\n",
      " |-- ip: string (nullable = true)\n",
      " |-- location: struct (nullable = true)\n",
      " |    |-- lat: double (nullable = true)\n",
      " |    |-- lng: double (nullable = true)\n",
      "\n"
     ]
    }
   ],
   "source": [
    "ip.printSchema()"
   ]
  },
  {
   "cell_type": "code",
   "execution_count": 47,
   "id": "c9fac134-16c0-43a8-af94-d7294a2bbe24",
   "metadata": {},
   "outputs": [
    {
     "name": "stdout",
     "output_type": "stream",
     "text": [
      "+------------+------------+---------------+\n",
      "|location.lat|location.lng|geography.state|\n",
      "+------------+------------+---------------+\n",
      "|   40.657602|  -73.583184|             NY|\n",
      "|   43.048122|  -76.147424|             NY|\n",
      "|   40.712784|  -74.005941|             NY|\n",
      "|   43.048122|  -76.147424|             NY|\n",
      "+------------+------------+---------------+\n",
      "\n"
     ]
    }
   ],
   "source": [
    "a = ip.select(ip.location.lat, ip.location.lng, ip.geography.state)\n",
    "b = a.where(\"geography.state = 'NY'\")\n",
    "b.show(4)"
   ]
  },
  {
   "cell_type": "code",
   "execution_count": 20,
   "id": "95d6730c-a478-4199-a577-6d16b441e107",
   "metadata": {},
   "outputs": [],
   "source": [
    "#NO,No,no... dont do this!\n",
    "spark.read.text(logs_out).toPandas().to_csv(\"file.csv\")\n",
    "\n",
    "#python generator\n",
    "#loop that does a yeild\n",
    "\n",
    "# with open(\"file\",\"r\") as f:\n",
    "#     for line in f.readlines():\n",
    "#         print(f)"
   ]
  },
  {
   "cell_type": "code",
   "execution_count": 31,
   "id": "65c0df54-9936-4f9a-b759-381e85f4cb6f",
   "metadata": {},
   "outputs": [
    {
     "name": "stdout",
     "output_type": "stream",
     "text": [
      "Loading stripped logs...\n",
      "Loading IP lookups...\n",
      "Join DataFrames...\n",
      "Save as Parquet...\n"
     ]
    }
   ],
   "source": [
    "\n",
    "\n",
    "\n",
    "\n",
    "print(\"Join DataFrames...\") \n",
    "comb = ip.join(logs, on = ip.ip == logs.clientip, how=\"inner\")\n",
    "\n",
    "print(\"Save as Parquet...\")\n",
    "comb.write.mode(\"Overwrite\").parquet(cleanedlogs_out)"
   ]
  },
  {
   "cell_type": "code",
   "execution_count": 3,
   "id": "e519a557-d494-4901-a6c2-93f13c324487",
   "metadata": {},
   "outputs": [
    {
     "name": "stdout",
     "output_type": "stream",
     "text": [
      "+--------------------+\n",
      "|               value|\n",
      "+--------------------+\n",
      "|#Software: Micros...|\n",
      "|       #Version: 1.0|\n",
      "|#Date: 2016-02-11...|\n",
      "|#Fields: date tim...|\n",
      "|2016-02-11 17:16:...|\n",
      "|2016-02-11 17:16:...|\n",
      "|2016-02-11 17:16:...|\n",
      "|2016-02-11 17:16:...|\n",
      "|2016-02-11 17:16:...|\n",
      "|2016-02-11 17:16:...|\n",
      "|2016-02-11 17:16:...|\n",
      "|2016-02-11 17:16:...|\n",
      "|2016-02-11 17:16:...|\n",
      "|2016-02-11 17:16:...|\n",
      "|2016-02-11 17:16:...|\n",
      "|2016-02-11 17:16:...|\n",
      "|2016-02-11 17:16:...|\n",
      "|2016-02-11 17:16:...|\n",
      "|2016-02-11 17:16:...|\n",
      "|2016-02-11 17:16:...|\n",
      "+--------------------+\n",
      "only showing top 20 rows\n",
      "\n"
     ]
    },
    {
     "name": "stderr",
     "output_type": "stream",
     "text": [
      "                                                                                \r"
     ]
    }
   ],
   "source": [
    "#3\n",
    "logs_in = f\"s3a://{s3_bucket}/logs/*.log\"\n",
    "logs1 = spark.read.text(logs_in)\n",
    "logs1.show()\n"
   ]
  },
  {
   "cell_type": "code",
   "execution_count": 8,
   "id": "36334f4a-d764-4dd6-902a-5fc3fc1bc038",
   "metadata": {},
   "outputs": [
    {
     "name": "stdout",
     "output_type": "stream",
     "text": [
      "+--------------------+\n",
      "|               value|\n",
      "+--------------------+\n",
      "|2016-02-11 17:16:...|\n",
      "|2016-02-11 17:16:...|\n",
      "|2016-02-11 17:16:...|\n",
      "|2016-02-11 17:16:...|\n",
      "|2016-02-11 17:16:...|\n",
      "|2016-02-11 17:16:...|\n",
      "|2016-02-11 17:16:...|\n",
      "|2016-02-11 17:16:...|\n",
      "|2016-02-11 17:16:...|\n",
      "|2016-02-11 17:16:...|\n",
      "|2016-02-11 17:16:...|\n",
      "|2016-02-11 17:16:...|\n",
      "|2016-02-11 17:16:...|\n",
      "|2016-02-11 17:16:...|\n",
      "|2016-02-11 17:16:...|\n",
      "|2016-02-11 17:16:...|\n",
      "|2016-02-11 17:16:...|\n",
      "|2016-02-11 17:16:...|\n",
      "|2016-02-11 17:16:...|\n",
      "|2016-02-11 17:16:...|\n",
      "+--------------------+\n",
      "only showing top 20 rows\n",
      "\n"
     ]
    }
   ],
   "source": [
    "#4 \n",
    "#logs2 =  logs1.filter(\"value not like '#%'\")\n",
    "logs2 = logs1.filter(~logs1.value.startswith(\"#\"))\n",
    "logs2.show()\n"
   ]
  },
  {
   "cell_type": "code",
   "execution_count": 10,
   "id": "c43201dc-3c77-4272-ae05-9c50f99d5504",
   "metadata": {},
   "outputs": [],
   "source": [
    "#5 \n",
    "logs_out = f\"s3a://{s3_bucket}/logs_no_header\"\n",
    "logs2.write.text(logs_out)\n"
   ]
  },
  {
   "cell_type": "code",
   "execution_count": 61,
   "id": "72105006-ce5f-4a7c-aa73-00fcde8f3b09",
   "metadata": {},
   "outputs": [
    {
     "name": "stdout",
     "output_type": "stream",
     "text": [
      "+----------+--------+--------------+------+--------------------+-----------+----+--------+-----------+--------------------+--------------------+----------+\n",
      "|      date|    time|      serverip|method|                 uri|querystirng|port|username|   clientip|           useragent|            referrer|statuscode|\n",
      "+----------+--------+--------------+------+--------------------+-----------+----+--------+-----------+--------------------+--------------------+----------+\n",
      "|2016-02-11|17:16:13|128.230.247.37|   GET|                   /|          -|  80|       -|215.82.23.2|Mozilla/5.0+(Wind...|                   -|       200|\n",
      "|2016-02-11|17:16:13|128.230.247.37|   GET|/Content/jquery-u...|          -|  80|       -|215.82.23.2|Mozilla/5.0+(Wind...|http://group0.ist...|       200|\n",
      "|2016-02-11|17:16:13|128.230.247.37|   GET|/Plugins/Widgets....|          -|  80|       -|215.82.23.2|Mozilla/5.0+(Wind...|http://group0.ist...|       200|\n",
      "|2016-02-11|17:16:13|128.230.247.37|   GET|/Plugins/Widgets....|          -|  80|       -|215.82.23.2|Mozilla/5.0+(Wind...|http://group0.ist...|       200|\n",
      "|2016-02-11|17:16:13|128.230.247.37|   GET|/Scripts/jquery.v...|          -|  80|       -|215.82.23.2|Mozilla/5.0+(Wind...|http://group0.ist...|       200|\n",
      "|2016-02-11|17:16:13|128.230.247.37|   GET|/Scripts/jquery.v...|          -|  80|       -|215.82.23.2|Mozilla/5.0+(Wind...|http://group0.ist...|       200|\n",
      "|2016-02-11|17:16:13|128.230.247.37|   GET|/Themes/DefaultCl...|          -|  80|       -|215.82.23.2|Mozilla/5.0+(Wind...|http://group0.ist...|       200|\n",
      "|2016-02-11|17:16:13|128.230.247.37|   GET|/Scripts/jquery-m...|          -|  80|       -|215.82.23.2|Mozilla/5.0+(Wind...|http://group0.ist...|       200|\n",
      "|2016-02-11|17:16:13|128.230.247.37|   GET|/Scripts/public.c...|          -|  80|       -|215.82.23.2|Mozilla/5.0+(Wind...|http://group0.ist...|       200|\n",
      "|2016-02-11|17:16:13|128.230.247.37|   GET|/Scripts/public.a...|          -|  80|       -|215.82.23.2|Mozilla/5.0+(Wind...|http://group0.ist...|       200|\n",
      "|2016-02-11|17:16:13|128.230.247.37|   GET|/Plugins/Widgets....|          -|  80|       -|215.82.23.2|Mozilla/5.0+(Wind...|http://group0.ist...|       200|\n",
      "|2016-02-11|17:16:13|128.230.247.37|   GET|/Scripts/jquery-u...|          -|  80|       -|215.82.23.2|Mozilla/5.0+(Wind...|http://group0.ist...|       200|\n",
      "|2016-02-11|17:16:13|128.230.247.37|   GET|/Scripts/jquery-1...|          -|  80|       -|215.82.23.2|Mozilla/5.0+(Wind...|http://group0.ist...|       200|\n",
      "|2016-02-11|17:16:13|128.230.247.37|   GET|/content/images/t...|          -|  80|       -|215.82.23.2|Mozilla/5.0+(Wind...|http://group0.ist...|       200|\n",
      "|2016-02-11|17:16:13|128.230.247.37|   GET|/Themes/DefaultCl...|          -|  80|       -|215.82.23.2|Mozilla/5.0+(Wind...|http://group0.ist...|       200|\n",
      "|2016-02-11|17:16:13|128.230.247.37|   GET|/content/images/t...|          -|  80|       -|215.82.23.2|Mozilla/5.0+(Wind...|http://group0.ist...|       200|\n",
      "|2016-02-11|17:16:13|128.230.247.37|   GET|/content/images/t...|          -|  80|       -|215.82.23.2|Mozilla/5.0+(Wind...|http://group0.ist...|       200|\n",
      "|2016-02-11|17:16:13|128.230.247.37|   GET|/content/images/t...|          -|  80|       -|215.82.23.2|Mozilla/5.0+(Wind...|http://group0.ist...|       200|\n",
      "|2016-02-11|17:16:13|128.230.247.37|   GET|/content/images/t...|          -|  80|       -|215.82.23.2|Mozilla/5.0+(Wind...|http://group0.ist...|       200|\n",
      "|2016-02-11|17:16:13|128.230.247.37|   GET|/content/images/t...|          -|  80|       -|215.82.23.2|Mozilla/5.0+(Wind...|http://group0.ist...|       200|\n",
      "+----------+--------+--------------+------+--------------------+-----------+----+--------+-----------+--------------------+--------------------+----------+\n",
      "only showing top 20 rows\n",
      "\n"
     ]
    }
   ],
   "source": [
    "#6\n",
    "logs3 = spark.read.option(\"header\",False).option(\"inferSchema\",True).option(\"sep\",\" \").csv(logs_out)\\\n",
    "    .toDF(\"date\",\"time\", \"serverip\", \"method\", \"uri\", \"querystirng\", \"port\", \"username\", \"clientip\", \"useragent\", \"referrer\", \"statuscode\", \"a\",\"b\",\"c\")\\\n",
    "    .select(\"date\",\"time\", \"serverip\", \"method\", \"uri\", \"querystirng\", \"port\", \"username\", \"clientip\", \"useragent\", \"referrer\", \"statuscode\")\n",
    "logs3.show()\n"
   ]
  },
  {
   "cell_type": "code",
   "execution_count": 62,
   "id": "208c8bcf-fd9a-4992-aa9b-104d4525e68a",
   "metadata": {},
   "outputs": [
    {
     "name": "stdout",
     "output_type": "stream",
     "text": [
      "+--------------------+---------------+--------------------+\n",
      "|           geography|             ip|            location|\n",
      "+--------------------+---------------+--------------------+\n",
      "|   {Dulles, USA, VA}|  172.189.252.8|{38.955855, -77.4...|\n",
      "| {Columbus, USA, OH}|    215.82.23.2|{39.961176, -82.9...|\n",
      "|{Cleveland, USA, OH}|    98.29.25.44|{41.49932, -81.69...|\n",
      "| {Freeport, USA, NY}|  68.199.40.156|{40.657602, -73.5...|\n",
      "|{Salt Lake City, ...|155.100.169.152|{40.760779, -111....|\n",
      "|   {Dallas, USA, TX}|   38.68.15.223|{32.776664, -96.7...|\n",
      "|    {Tampa, USA, FL}|   70.209.14.54|{27.950575, -82.4...|\n",
      "|{Arlington, USA, VA}|   74.111.6.173|{38.87997, -77.10...|\n",
      "| {Syracuse, USA, NY}|128.230.122.180|{43.048122, -76.1...|\n",
      "| {New York, USA, NY}|128.122.140.238|{40.712784, -74.0...|\n",
      "|  {Raleigh, USA, NC}| 56.216.127.219|{35.77959, -78.63...|\n",
      "|{Jersey City, USA...| 54.114.107.209|{40.728157, -74.0...|\n",
      "| {Syracuse, USA, NY}|   74.111.18.59|{43.048122, -76.1...|\n",
      "|{Los Angeles, USA...|    8.37.70.170|{34.052234, -118....|\n",
      "|{Los Angeles, USA...|     8.37.70.77|{34.052234, -118....|\n",
      "|{Los Angeles, USA...|    8.37.70.112|{34.052234, -118....|\n",
      "|{Los Angeles, USA...|    8.37.70.226|{34.052234, -118....|\n",
      "|{Los Angeles, USA...|     8.37.70.99|{34.052234, -118....|\n",
      "|{Los Angeles, USA...|     8.37.71.43|{34.052234, -118....|\n",
      "|{Los Angeles, USA...|     8.37.71.25|{34.052234, -118....|\n",
      "+--------------------+---------------+--------------------+\n",
      "only showing top 20 rows\n",
      "\n"
     ]
    }
   ],
   "source": [
    "#7\n",
    "iplookup_in = f\"s3a://{s3_bucket}/iplookup/iplookup.json\"\n",
    "ips1 = spark.read.option(\"multiline\", True).json(iplookup_in)\n",
    "ips1.show()"
   ]
  },
  {
   "cell_type": "code",
   "execution_count": 63,
   "id": "13eaf95f-a716-4e85-87bc-f2f1470c4f9b",
   "metadata": {},
   "outputs": [
    {
     "name": "stdout",
     "output_type": "stream",
     "text": [
      "+---------------+--------------+-----+-------+---------+-----------+\n",
      "|             ip|          city|state|country|      lat|        lng|\n",
      "+---------------+--------------+-----+-------+---------+-----------+\n",
      "|  172.189.252.8|        Dulles|   VA|    USA|38.955855| -77.447819|\n",
      "|    215.82.23.2|      Columbus|   OH|    USA|39.961176| -82.998794|\n",
      "|    98.29.25.44|     Cleveland|   OH|    USA| 41.49932| -81.694361|\n",
      "|  68.199.40.156|      Freeport|   NY|    USA|40.657602| -73.583184|\n",
      "|155.100.169.152|Salt Lake City|   UT|    USA|40.760779|-111.891047|\n",
      "|   38.68.15.223|        Dallas|   TX|    USA|32.776664| -96.796988|\n",
      "|   70.209.14.54|         Tampa|   FL|    USA|27.950575| -82.457178|\n",
      "|   74.111.6.173|     Arlington|   VA|    USA| 38.87997|  -77.10677|\n",
      "|128.230.122.180|      Syracuse|   NY|    USA|43.048122| -76.147424|\n",
      "|128.122.140.238|      New York|   NY|    USA|40.712784| -74.005941|\n",
      "| 56.216.127.219|       Raleigh|   NC|    USA| 35.77959| -78.638179|\n",
      "| 54.114.107.209|   Jersey City|   NJ|    USA|40.728157| -74.077642|\n",
      "|   74.111.18.59|      Syracuse|   NY|    USA|43.048122| -76.147424|\n",
      "|    8.37.70.170|   Los Angeles|   CA|    USA|34.052234|-118.243685|\n",
      "|     8.37.70.77|   Los Angeles|   CA|    USA|34.052234|-118.243685|\n",
      "|    8.37.70.112|   Los Angeles|   CA|    USA|34.052234|-118.243685|\n",
      "|    8.37.70.226|   Los Angeles|   CA|    USA|34.052234|-118.243685|\n",
      "|     8.37.70.99|   Los Angeles|   CA|    USA|34.052234|-118.243685|\n",
      "|     8.37.71.43|   Los Angeles|   CA|    USA|34.052234|-118.243685|\n",
      "|     8.37.71.25|   Los Angeles|   CA|    USA|34.052234|-118.243685|\n",
      "+---------------+--------------+-----+-------+---------+-----------+\n",
      "only showing top 20 rows\n",
      "\n"
     ]
    }
   ],
   "source": [
    "#8 \n",
    "ips2 = ips1.select(\"ip\",\"geography.city\", \"geography.state\", \"geography.country\", \"location.lat\", ips1.location.lng.alias(\"lng\") )\n",
    "ips2.show()"
   ]
  },
  {
   "cell_type": "code",
   "execution_count": 68,
   "id": "8d557559-1d99-4cba-a328-c2a99f842b9a",
   "metadata": {},
   "outputs": [
    {
     "data": {
      "text/html": [
       "<div>\n",
       "<style scoped>\n",
       "    .dataframe tbody tr th:only-of-type {\n",
       "        vertical-align: middle;\n",
       "    }\n",
       "\n",
       "    .dataframe tbody tr th {\n",
       "        vertical-align: top;\n",
       "    }\n",
       "\n",
       "    .dataframe thead th {\n",
       "        text-align: right;\n",
       "    }\n",
       "</style>\n",
       "<table border=\"1\" class=\"dataframe\">\n",
       "  <thead>\n",
       "    <tr style=\"text-align: right;\">\n",
       "      <th></th>\n",
       "      <th>uri</th>\n",
       "    </tr>\n",
       "  </thead>\n",
       "  <tbody>\n",
       "    <tr>\n",
       "      <th>0</th>\n",
       "      <td>/</td>\n",
       "    </tr>\n",
       "    <tr>\n",
       "      <th>1</th>\n",
       "      <td>/Content/jquery-ui-themes/smoothness/jquery-ui...</td>\n",
       "    </tr>\n",
       "    <tr>\n",
       "      <th>2</th>\n",
       "      <td>/Plugins/Widgets.NivoSlider/Content/nivoslider...</td>\n",
       "    </tr>\n",
       "    <tr>\n",
       "      <th>3</th>\n",
       "      <td>/Plugins/Widgets.NivoSlider/Content/nivoslider...</td>\n",
       "    </tr>\n",
       "    <tr>\n",
       "      <th>4</th>\n",
       "      <td>/Scripts/jquery.validate.unobtrusive.min.js</td>\n",
       "    </tr>\n",
       "    <tr>\n",
       "      <th>...</th>\n",
       "      <td>...</td>\n",
       "    </tr>\n",
       "    <tr>\n",
       "      <th>1117</th>\n",
       "      <td>/Themes/DefaultClean/Content/images/compare-bu...</td>\n",
       "    </tr>\n",
       "    <tr>\n",
       "      <th>1118</th>\n",
       "      <td>/Themes/DefaultClean/Content/images/rating1.png</td>\n",
       "    </tr>\n",
       "    <tr>\n",
       "      <th>1119</th>\n",
       "      <td>/Themes/DefaultClean/Content/images/rating2.png</td>\n",
       "    </tr>\n",
       "    <tr>\n",
       "      <th>1120</th>\n",
       "      <td>/Themes/DefaultClean/Content/images/social-spr...</td>\n",
       "    </tr>\n",
       "    <tr>\n",
       "      <th>1121</th>\n",
       "      <td>/Content/jquery-ui-themes/smoothness/images/ui...</td>\n",
       "    </tr>\n",
       "  </tbody>\n",
       "</table>\n",
       "<p>1122 rows × 1 columns</p>\n",
       "</div>"
      ],
      "text/plain": [
       "                                                    uri\n",
       "0                                                     /\n",
       "1     /Content/jquery-ui-themes/smoothness/jquery-ui...\n",
       "2     /Plugins/Widgets.NivoSlider/Content/nivoslider...\n",
       "3     /Plugins/Widgets.NivoSlider/Content/nivoslider...\n",
       "4           /Scripts/jquery.validate.unobtrusive.min.js\n",
       "...                                                 ...\n",
       "1117  /Themes/DefaultClean/Content/images/compare-bu...\n",
       "1118    /Themes/DefaultClean/Content/images/rating1.png\n",
       "1119    /Themes/DefaultClean/Content/images/rating2.png\n",
       "1120  /Themes/DefaultClean/Content/images/social-spr...\n",
       "1121  /Content/jquery-ui-themes/smoothness/images/ui...\n",
       "\n",
       "[1122 rows x 1 columns]"
      ]
     },
     "execution_count": 68,
     "metadata": {},
     "output_type": "execute_result"
    }
   ],
   "source": [
    "# 9\n",
    "comb1 = ips2.join(logs3, on = ips2.ip == logs3.clientip, how=\"inner\")\n",
    "comb1.select(\"uri\").toPandas()\n"
   ]
  },
  {
   "cell_type": "code",
   "execution_count": 65,
   "id": "e4feed0f-e89a-4042-9ca7-7f463f96ffd0",
   "metadata": {},
   "outputs": [],
   "source": [
    "cleanedlogs_out = f\"s3a://{s3_bucket}/cleaned-logs.parquet\"\n",
    "comb1.write.mode(\"Overwrite\").parquet(cleanedlogs_out)"
   ]
  },
  {
   "cell_type": "code",
   "execution_count": null,
   "id": "3e6c5bcd-1702-4e19-b5fc-d9d48b27bb38",
   "metadata": {},
   "outputs": [],
   "source": []
  }
 ],
 "metadata": {
  "kernelspec": {
   "display_name": "Python 3 (ipykernel)",
   "language": "python",
   "name": "python3"
  },
  "language_info": {
   "codemirror_mode": {
    "name": "ipython",
    "version": 3
   },
   "file_extension": ".py",
   "mimetype": "text/x-python",
   "name": "python",
   "nbconvert_exporter": "python",
   "pygments_lexer": "ipython3",
   "version": "3.9.6"
  }
 },
 "nbformat": 4,
 "nbformat_minor": 5
}
