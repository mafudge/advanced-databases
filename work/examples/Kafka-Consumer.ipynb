{
 "cells": [
  {
   "cell_type": "markdown",
   "id": "c9942291-bb11-4189-94e1-65019979f888",
   "metadata": {},
   "source": [
    "## Kafka Consumer with PoP (Plain Old Python)\n",
    "\n",
    "This example demonstrates how to consume a Kafka stream with Plain old Pythhon\n",
    "\n",
    "We use The Confluent Kafka module: \n",
    "\n",
    "Documentation: https://pypi.org/project/confluent-kafka/"
   ]
  },
  {
   "cell_type": "code",
   "execution_count": 2,
   "id": "d244e064-9fc4-4f98-ad80-59a1863f22d1",
   "metadata": {},
   "outputs": [],
   "source": [
    "# Required import\n",
    "!pip install -q confluent-kafka"
   ]
  },
  {
   "cell_type": "markdown",
   "id": "a8185a60-0096-4ee6-8d15-9e6568eb2e63",
   "metadata": {},
   "source": [
    "## ATM Consumer Example\n",
    "\n",
    "This example will consume the ATM kafka stream (provided the producer is running and there is something to consume!)"
   ]
  },
  {
   "cell_type": "code",
   "execution_count": 1,
   "id": "5c734a75-a0aa-447a-bc51-dd128a994dcf",
   "metadata": {},
   "outputs": [
    {
     "name": "stdout",
     "output_type": "stream",
     "text": [
      "TOPICS\n",
      "atm\n",
      "default_ksql_processing_log\n",
      "docker-connect-status\n",
      "docker-connect-offsets\n",
      "docker-connect-configs\n"
     ]
    },
    {
     "name": "stdin",
     "output_type": "stream",
     "text": [
      "Enter Kafaka topic to consume: atm\n"
     ]
    },
    {
     "name": "stdout",
     "output_type": "stream",
     "text": [
      "Received message: {'Id': '23018d2c-8540-474b-bdb9-8aecb5dbcdc0', 'Location': 'syracuse', 'User': 'karley', 'TimeStamp': 1734445995000, 'Amount': 20, 'Status': 'ok'}\n",
      "1\n",
      "Received message: {'Id': 'fd08e17a-18c5-45f6-b2f9-4fa86ec32123', 'Location': 'dewitt', 'User': 'yolanda', 'TimeStamp': 1734445996000, 'Amount': 160, 'Status': 'error'}\n",
      "2\n",
      "Received message: {'Id': '86bb9295-5c83-4ec4-9271-3f40637ceeff', 'Location': 'dewitt', 'User': 'ida', 'TimeStamp': 1734445997000, 'Amount': 100, 'Status': 'ok'}\n",
      "3\n",
      "Received message: {'Id': '511b61f6-0e07-44a9-9db2-d8cc3fa112fe', 'Location': 'dewitt', 'User': 'quinn', 'TimeStamp': 1734446005000, 'Amount': 40, 'Status': 'ok'}\n",
      "4\n",
      "Received message: {'Id': '0d34b7a5-0f0b-40da-8cd5-7b791f8cfeab', 'Location': 'syracuse', 'User': 'zeke', 'TimeStamp': 1734445999000, 'Amount': 20, 'Status': 'ok'}\n",
      "5\n",
      "Received message: {'Id': 'c53d8e55-1017-4840-be71-ee2bf02696a9', 'Location': 'cicero', 'User': 'chris', 'TimeStamp': 1734446001000, 'Amount': 80, 'Status': 'ok'}\n",
      "6\n",
      "Received message: {'Id': 'a17df6d1-5fee-4841-845c-dcd4da8803a2', 'Location': 'syracuse', 'User': 'tosh', 'TimeStamp': 1734446003000, 'Amount': 40, 'Status': 'ok'}\n",
      "7\n",
      "Received message: {'Id': '2d96b244-3f98-48e9-bc96-12d2f240ac6a', 'Location': 'dewitt', 'User': 'chris', 'TimeStamp': 1734446003000, 'Amount': 80, 'Status': 'ok'}\n",
      "8\n",
      "Received message: {'Id': '45fd4014-e1d7-4d91-aa6c-220b3c6fa170', 'Location': 'syracuse', 'User': 'karley', 'TimeStamp': 1734446005000, 'Amount': 80, 'Status': 'ok'}\n",
      "9\n",
      "Received message: {'Id': 'bdfd8a95-4904-42ce-8a98-4dbe687af11e', 'Location': 'syracuse', 'User': 'yolanda', 'TimeStamp': 1734446006000, 'Amount': 80, 'Status': 'ok'}\n",
      "10\n",
      "Write this as a file to HDFS... splill file to filesystem.\n",
      "Received message: {'Id': 'ad1ac79b-d45f-4eb7-bbde-ce130d1d5ec1', 'Location': 'syracuse', 'User': 'vaibhav', 'TimeStamp': 1734446007000, 'Amount': 100, 'Status': 'ok'}\n",
      "1\n",
      "Received message: {'Id': '82369fac-06c2-4073-a2b2-525abb2a9ed8', 'Location': 'dewitt', 'User': 'lisa', 'TimeStamp': 1734446008000, 'Amount': 160, 'Status': 'ok'}\n",
      "2\n",
      "Received message: {'Id': 'f8710b3c-8629-40ab-a87b-243ef64a1616', 'Location': 'dewitt', 'User': 'ida', 'TimeStamp': 1734446009000, 'Amount': 40, 'Status': 'error'}\n",
      "3\n",
      "Received message: {'Id': 'ec384a47-8941-4b19-9a1a-2ec11238b01b', 'Location': 'clay', 'User': 'patty', 'TimeStamp': 1734446011000, 'Amount': 80, 'Status': 'ok'}\n",
      "4\n",
      "Received message: {'Id': '43eeef99-6278-4279-b43a-42b9c4b58fc7', 'Location': 'syracuse', 'User': 'quinn', 'TimeStamp': 1734446012000, 'Amount': 180, 'Status': 'ok'}\n",
      "5\n",
      "Received message: {'Id': 'b2786dfa-e8fc-4937-9612-ec48a227dfe9', 'Location': 'dewitt', 'User': 'tosh', 'TimeStamp': 1734446013000, 'Amount': 200, 'Status': 'ok'}\n",
      "6\n",
      "Received message: {'Id': '0ec4ee51-fa56-45fc-9efd-7f086ee4e4a5', 'Location': 'syracuse', 'User': 'yolanda', 'TimeStamp': 1734446015000, 'Amount': 40, 'Status': 'ok'}\n",
      "7\n",
      "Received message: {'Id': 'cecba56f-f7dd-4a93-8185-c4d60724fbba', 'Location': 'dewitt', 'User': 'gigi', 'TimeStamp': 1734446017000, 'Amount': 60, 'Status': 'ok'}\n",
      "8\n",
      "Received message: {'Id': 'ec83a396-af64-4133-b546-af241f7a55d2', 'Location': 'dewitt', 'User': 'otto', 'TimeStamp': 1734446018000, 'Amount': 80, 'Status': 'ok'}\n",
      "9\n",
      "Received message: {'Id': 'f7097765-00c8-48ed-88aa-4bbb022a0fe2', 'Location': 'dewitt', 'User': 'devin', 'TimeStamp': 1734446020000, 'Amount': 60, 'Status': 'ok'}\n",
      "10\n",
      "Write this as a file to HDFS... splill file to filesystem.\n",
      "Received message: {'Id': '7a5bdf58-6572-4b8a-88b5-22da2aa50bed', 'Location': 'syracuse', 'User': 'gigi', 'TimeStamp': 1734446022000, 'Amount': 100, 'Status': 'ok'}\n",
      "1\n",
      "Received message: {'Id': 'd54f3f4f-8027-4fb0-ab83-2135fdcb344c', 'Location': 'clay', 'User': 'patty', 'TimeStamp': 1734446023000, 'Amount': 80, 'Status': 'ok'}\n",
      "2\n",
      "Received message: {'Id': '8906904a-9fa8-451a-8620-5a07db0e0e4f', 'Location': 'dewitt', 'User': 'fred', 'TimeStamp': 1734446025000, 'Amount': 20, 'Status': 'ok'}\n",
      "3\n"
     ]
    }
   ],
   "source": [
    "import json\n",
    "from confluent_kafka import Consumer\n",
    "\n",
    "consumer = Consumer({'bootstrap.servers' : 'broker:29092', 'group.id' : '*'})\n",
    "print(\"TOPICS\")\n",
    "topics = consumer.list_topics() # this is a python dictionary\n",
    "for topic in topics.topics.keys():\n",
    "    if not topic.startswith(\"_\"): # only show non-internal topics\n",
    "        print(topic)\n",
    "topic = input(\"Enter Kafaka topic to consume:\")\n",
    "consumer.subscribe([topic])\n",
    "count = 0\n",
    "maxcount = 10\n",
    "try:\n",
    "    while True:\n",
    "        msg = consumer.poll(1.0)\n",
    "\n",
    "        if msg is None:\n",
    "            continue\n",
    "        if msg.error():\n",
    "            print(f\"Consumer error: {msg.error()}\")\n",
    "            continue\n",
    "\n",
    "        raw = msg.value().decode('utf-8')\n",
    "        payload = json.loads(raw)\n",
    "        count = count + 1\n",
    "        print(f\"Received message: {payload}\")\n",
    "        print(count)\n",
    "        if count == maxcount:\n",
    "            print(\"Write this as a file to HDFS... splill file to filesystem.\")\n",
    "            count = 0 \n",
    "except KeyboardInterrupt:\n",
    "    consumer.close()    "
   ]
  },
  {
   "cell_type": "markdown",
   "id": "eb8c0d7f-4623-428d-a0e6-aad890b19af6",
   "metadata": {},
   "source": [
    "## Generic Consumer Code\n",
    "\n",
    "As you can see the boilerplate code to consume a stream is very similar the only real difference is the topic and the JSON payload on that topic."
   ]
  },
  {
   "cell_type": "code",
   "execution_count": null,
   "id": "16beb16e-ef4a-4cd3-ba53-a73de9b2e22c",
   "metadata": {},
   "outputs": [
    {
     "name": "stdin",
     "output_type": "stream",
     "text": [
      "Enter topic to subscribe to: chat\n"
     ]
    },
    {
     "name": "stdout",
     "output_type": "stream",
     "text": [
      "Received message: 38427509824375\n",
      "Received message: mike\n",
      "Received message: here\n"
     ]
    }
   ],
   "source": [
    "import json\n",
    "from confluent_kafka import Consumer\n",
    "\n",
    "consumer = Consumer({'bootstrap.servers' : 'broker:29092', 'group.id' : '*'})\n",
    "topic = input(\"Enter topic to subscribe to:\")\n",
    "consumer.subscribe([topic]) # topic\n",
    "\n",
    "try:\n",
    "    while True:\n",
    "        msg = consumer.poll(1.0)\n",
    "\n",
    "        if msg is None:\n",
    "            continue\n",
    "        if msg.error():\n",
    "            print(f\"Consumer error: {msg.error()}\")\n",
    "            continue\n",
    "\n",
    "        raw = msg.value().decode('utf-8')\n",
    "        print(f\"Received message: {raw}\")\n",
    "except KeyboardInterrupt:\n",
    "    consumer.close()    "
   ]
  },
  {
   "cell_type": "code",
   "execution_count": 4,
   "id": "3ab10277-5f52-4109-aaf4-49ffe5b31ef8",
   "metadata": {},
   "outputs": [],
   "source": [
    "msg.key()"
   ]
  },
  {
   "cell_type": "code",
   "execution_count": null,
   "id": "b7348432-e945-4e53-a3a1-a801fc1e80f5",
   "metadata": {},
   "outputs": [],
   "source": []
  }
 ],
 "metadata": {
  "kernelspec": {
   "display_name": "Python 3 (ipykernel)",
   "language": "python",
   "name": "python3"
  },
  "language_info": {
   "codemirror_mode": {
    "name": "ipython",
    "version": 3
   },
   "file_extension": ".py",
   "mimetype": "text/x-python",
   "name": "python",
   "nbconvert_exporter": "python",
   "pygments_lexer": "ipython3",
   "version": "3.11.10"
  }
 },
 "nbformat": 4,
 "nbformat_minor": 5
}
