{
 "cells": [
  {
   "cell_type": "markdown",
   "id": "c9942291-bb11-4189-94e1-65019979f888",
   "metadata": {},
   "source": [
    "## Kafka Consumer with PoP (Plain Old Python)\n",
    "\n",
    "This example demonstrates how to consume a Kafka stream with Plain old Pythhon\n",
    "\n",
    "We use The Confluent Kafka module: \n",
    "\n",
    "Documentation: https://pypi.org/project/confluent-kafka/"
   ]
  },
  {
   "cell_type": "code",
   "execution_count": 2,
   "id": "d244e064-9fc4-4f98-ad80-59a1863f22d1",
   "metadata": {},
   "outputs": [],
   "source": [
    "# Required import\n",
    "!pip install -q confluent-kafka"
   ]
  },
  {
   "cell_type": "markdown",
   "id": "a8185a60-0096-4ee6-8d15-9e6568eb2e63",
   "metadata": {},
   "source": [
    "## ATM Consumer Example\n",
    "\n",
    "This example will consume the ATM kafka stream (provided the producer is running and there is something to consume!)"
   ]
  },
  {
   "cell_type": "code",
   "execution_count": 3,
   "id": "5c734a75-a0aa-447a-bc51-dd128a994dcf",
   "metadata": {},
   "outputs": [
    {
     "name": "stdout",
     "output_type": "stream",
     "text": [
      "TOPICS\n",
      "default_ksql_processing_log\n",
      "docker-connect-status\n",
      "docker-connect-offsets\n",
      "docker-connect-configs\n"
     ]
    },
    {
     "ename": "KeyboardInterrupt",
     "evalue": "Interrupted by user",
     "output_type": "error",
     "traceback": [
      "\u001b[0;31m---------------------------------------------------------------------------\u001b[0m",
      "\u001b[0;31mKeyboardInterrupt\u001b[0m                         Traceback (most recent call last)",
      "\u001b[0;32m/tmp/ipykernel_150/3726826773.py\u001b[0m in \u001b[0;36m<module>\u001b[0;34m\u001b[0m\n\u001b[1;32m      8\u001b[0m     \u001b[0;32mif\u001b[0m \u001b[0;32mnot\u001b[0m \u001b[0mtopic\u001b[0m\u001b[0;34m.\u001b[0m\u001b[0mstartswith\u001b[0m\u001b[0;34m(\u001b[0m\u001b[0;34m\"_\"\u001b[0m\u001b[0;34m)\u001b[0m\u001b[0;34m:\u001b[0m \u001b[0;31m# only show non-internal topics\u001b[0m\u001b[0;34m\u001b[0m\u001b[0;34m\u001b[0m\u001b[0m\n\u001b[1;32m      9\u001b[0m         \u001b[0mprint\u001b[0m\u001b[0;34m(\u001b[0m\u001b[0mtopic\u001b[0m\u001b[0;34m)\u001b[0m\u001b[0;34m\u001b[0m\u001b[0;34m\u001b[0m\u001b[0m\n\u001b[0;32m---> 10\u001b[0;31m \u001b[0mtopic\u001b[0m \u001b[0;34m=\u001b[0m \u001b[0minput\u001b[0m\u001b[0;34m(\u001b[0m\u001b[0;34m\"Enter Kafaka topic to consume:\"\u001b[0m\u001b[0;34m)\u001b[0m\u001b[0;34m\u001b[0m\u001b[0;34m\u001b[0m\u001b[0m\n\u001b[0m\u001b[1;32m     11\u001b[0m \u001b[0mconsumer\u001b[0m\u001b[0;34m.\u001b[0m\u001b[0msubscribe\u001b[0m\u001b[0;34m(\u001b[0m\u001b[0;34m[\u001b[0m\u001b[0mtopic\u001b[0m\u001b[0;34m]\u001b[0m\u001b[0;34m)\u001b[0m\u001b[0;34m\u001b[0m\u001b[0;34m\u001b[0m\u001b[0m\n\u001b[1;32m     12\u001b[0m \u001b[0mcount\u001b[0m \u001b[0;34m=\u001b[0m \u001b[0;36m0\u001b[0m\u001b[0;34m\u001b[0m\u001b[0;34m\u001b[0m\u001b[0m\n",
      "\u001b[0;32m/opt/conda/lib/python3.9/site-packages/ipykernel/kernelbase.py\u001b[0m in \u001b[0;36mraw_input\u001b[0;34m(self, prompt)\u001b[0m\n\u001b[1;32m   1004\u001b[0m                 \u001b[0;34m\"raw_input was called, but this frontend does not support input requests.\"\u001b[0m\u001b[0;34m\u001b[0m\u001b[0;34m\u001b[0m\u001b[0m\n\u001b[1;32m   1005\u001b[0m             )\n\u001b[0;32m-> 1006\u001b[0;31m         return self._input_request(\n\u001b[0m\u001b[1;32m   1007\u001b[0m             \u001b[0mstr\u001b[0m\u001b[0;34m(\u001b[0m\u001b[0mprompt\u001b[0m\u001b[0;34m)\u001b[0m\u001b[0;34m,\u001b[0m\u001b[0;34m\u001b[0m\u001b[0;34m\u001b[0m\u001b[0m\n\u001b[1;32m   1008\u001b[0m             \u001b[0mself\u001b[0m\u001b[0;34m.\u001b[0m\u001b[0m_parent_ident\u001b[0m\u001b[0;34m[\u001b[0m\u001b[0;34m\"shell\"\u001b[0m\u001b[0;34m]\u001b[0m\u001b[0;34m,\u001b[0m\u001b[0;34m\u001b[0m\u001b[0;34m\u001b[0m\u001b[0m\n",
      "\u001b[0;32m/opt/conda/lib/python3.9/site-packages/ipykernel/kernelbase.py\u001b[0m in \u001b[0;36m_input_request\u001b[0;34m(self, prompt, ident, parent, password)\u001b[0m\n\u001b[1;32m   1049\u001b[0m             \u001b[0;32mexcept\u001b[0m \u001b[0mKeyboardInterrupt\u001b[0m\u001b[0;34m:\u001b[0m\u001b[0;34m\u001b[0m\u001b[0;34m\u001b[0m\u001b[0m\n\u001b[1;32m   1050\u001b[0m                 \u001b[0;31m# re-raise KeyboardInterrupt, to truncate traceback\u001b[0m\u001b[0;34m\u001b[0m\u001b[0;34m\u001b[0m\u001b[0;34m\u001b[0m\u001b[0m\n\u001b[0;32m-> 1051\u001b[0;31m                 \u001b[0;32mraise\u001b[0m \u001b[0mKeyboardInterrupt\u001b[0m\u001b[0;34m(\u001b[0m\u001b[0;34m\"Interrupted by user\"\u001b[0m\u001b[0;34m)\u001b[0m \u001b[0;32mfrom\u001b[0m \u001b[0;32mNone\u001b[0m\u001b[0;34m\u001b[0m\u001b[0;34m\u001b[0m\u001b[0m\n\u001b[0m\u001b[1;32m   1052\u001b[0m             \u001b[0;32mexcept\u001b[0m \u001b[0mException\u001b[0m\u001b[0;34m:\u001b[0m\u001b[0;34m\u001b[0m\u001b[0;34m\u001b[0m\u001b[0m\n\u001b[1;32m   1053\u001b[0m                 \u001b[0mself\u001b[0m\u001b[0;34m.\u001b[0m\u001b[0mlog\u001b[0m\u001b[0;34m.\u001b[0m\u001b[0mwarning\u001b[0m\u001b[0;34m(\u001b[0m\u001b[0;34m\"Invalid Message:\"\u001b[0m\u001b[0;34m,\u001b[0m \u001b[0mexc_info\u001b[0m\u001b[0;34m=\u001b[0m\u001b[0;32mTrue\u001b[0m\u001b[0;34m)\u001b[0m\u001b[0;34m\u001b[0m\u001b[0;34m\u001b[0m\u001b[0m\n",
      "\u001b[0;31mKeyboardInterrupt\u001b[0m: Interrupted by user"
     ]
    }
   ],
   "source": [
    "import json\n",
    "from confluent_kafka import Consumer\n",
    "\n",
    "consumer = Consumer({'bootstrap.servers' : 'broker:29092', 'group.id' : '*'})\n",
    "print(\"TOPICS\")\n",
    "topics = consumer.list_topics() # this is a python dictionary\n",
    "for topic in topics.topics.keys():\n",
    "    if not topic.startswith(\"_\"): # only show non-internal topics\n",
    "        print(topic)\n",
    "topic = input(\"Enter Kafaka topic to consume:\")\n",
    "consumer.subscribe([topic])\n",
    "count = 0\n",
    "maxcount = 10\n",
    "try:\n",
    "    while True:\n",
    "        msg = consumer.poll(1.0)\n",
    "\n",
    "        if msg is None:\n",
    "            continue\n",
    "        if msg.error():\n",
    "            print(f\"Consumer error: {msg.error()}\")\n",
    "            continue\n",
    "\n",
    "        raw = msg.value().decode('utf-8')\n",
    "        payload = json.loads(raw)\n",
    "        count = count + 1\n",
    "        print(f\"Received message: {payload}\")\n",
    "        print(count)\n",
    "        if count == maxcount:\n",
    "            print(\"Write this as a file to HDFS... splill file to filesystem.\")\n",
    "            count = 0 \n",
    "except KeyboardInterrupt:\n",
    "    consumer.close()    "
   ]
  },
  {
   "cell_type": "markdown",
   "id": "eb8c0d7f-4623-428d-a0e6-aad890b19af6",
   "metadata": {},
   "source": [
    "## Generic Consumer Code\n",
    "\n",
    "As you can see the boilerplate code to consume a stream is very similar the only real difference is the topic and the JSON payload on that topic."
   ]
  },
  {
   "cell_type": "code",
   "execution_count": null,
   "id": "16beb16e-ef4a-4cd3-ba53-a73de9b2e22c",
   "metadata": {},
   "outputs": [
    {
     "name": "stdin",
     "output_type": "stream",
     "text": [
      "Enter topic to subscribe to: chat\n"
     ]
    },
    {
     "name": "stdout",
     "output_type": "stream",
     "text": [
      "Received message: 38427509824375\n",
      "Received message: mike\n",
      "Received message: here\n"
     ]
    }
   ],
   "source": [
    "import json\n",
    "from confluent_kafka import Consumer\n",
    "\n",
    "consumer = Consumer({'bootstrap.servers' : 'broker:29092', 'group.id' : '*'})\n",
    "topic = input(\"Enter topic to subscribe to:\")\n",
    "consumer.subscribe([topic]) # topic\n",
    "\n",
    "try:\n",
    "    while True:\n",
    "        msg = consumer.poll(1.0)\n",
    "\n",
    "        if msg is None:\n",
    "            continue\n",
    "        if msg.error():\n",
    "            print(f\"Consumer error: {msg.error()}\")\n",
    "            continue\n",
    "\n",
    "        raw = msg.value().decode('utf-8')\n",
    "        print(f\"Received message: {raw}\")\n",
    "except KeyboardInterrupt:\n",
    "    consumer.close()    "
   ]
  },
  {
   "cell_type": "code",
   "execution_count": 4,
   "id": "3ab10277-5f52-4109-aaf4-49ffe5b31ef8",
   "metadata": {},
   "outputs": [],
   "source": [
    "msg.key()"
   ]
  },
  {
   "cell_type": "code",
   "execution_count": null,
   "id": "b7348432-e945-4e53-a3a1-a801fc1e80f5",
   "metadata": {},
   "outputs": [],
   "source": []
  }
 ],
 "metadata": {
  "kernelspec": {
   "display_name": "Python 3 (ipykernel)",
   "language": "python",
   "name": "python3"
  },
  "language_info": {
   "codemirror_mode": {
    "name": "ipython",
    "version": 3
   },
   "file_extension": ".py",
   "mimetype": "text/x-python",
   "name": "python",
   "nbconvert_exporter": "python",
   "pygments_lexer": "ipython3",
   "version": "3.9.6"
  }
 },
 "nbformat": 4,
 "nbformat_minor": 5
}
