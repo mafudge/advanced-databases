{
 "cells": [
  {
   "cell_type": "markdown",
   "id": "137422a6-52f8-483d-8d47-75ff65a92767",
   "metadata": {},
   "source": [
    "This is an example of the JupySQL SQL magic and its use with spark for writing SQL in the notebook\n",
    "\n",
    "\n",
    "https://jupysql.ploomber.io/ "
   ]
  },
  {
   "cell_type": "code",
   "execution_count": 1,
   "id": "b12cf567-c44f-4c4c-bed3-96b92221cec3",
   "metadata": {},
   "outputs": [],
   "source": [
    "import pyspark\n",
    "from pyspark.sql import SparkSession\n",
    "\n",
    "bucket = \"e-drill\"\n",
    "\n",
    "spark = SparkSession.builder \\\n",
    "    .master(\"local\") \\\n",
    "    .appName('jupyter-pyspark') \\\n",
    "        .config(\"spark.jars.packages\",\"org.apache.hadoop:hadoop-aws:3.3.4,org.apache.spark:spark-avro_2.12:3.1.2\")\\\n",
    "        .config(\"spark.hadoop.fs.s3a.endpoint\", \"http://minio:9000\") \\\n",
    "        .config(\"spark.hadoop.fs.s3a.access.key\", \"minio\") \\\n",
    "        .config(\"spark.hadoop.fs.s3a.secret.key\", \"SU2orange!\") \\\n",
    "        .config(\"spark.hadoop.fs.s3a.fast.upload\", True) \\\n",
    "        .config(\"spark.hadoop.fs.s3a.path.style.access\", True) \\\n",
    "        .config(\"spark.hadoop.fs.s3a.impl\", \"org.apache.hadoop.fs.s3a.S3AFileSystem\") \\\n",
    "        .config('spark.hadoop.fs.s3a.aws.credentials.provider', 'org.apache.hadoop.fs.s3a.SimpleAWSCredentialsProvider') \\\n",
    "    .getOrCreate()\n",
    "sc = spark.sparkContext\n",
    "sc.setLogLevel(\"ERROR\") # Keeps the noise down!!!"
   ]
  },
  {
   "cell_type": "code",
   "execution_count": 5,
   "id": "ce34584d-21ae-4f65-9009-9c506b2284d4",
   "metadata": {},
   "outputs": [
    {
     "name": "stdout",
     "output_type": "stream",
     "text": [
      "root\n",
      " |-- First: string (nullable = true)\n",
      " |-- Last: string (nullable = true)\n",
      " |-- Email: string (nullable = true)\n",
      " |-- Gender: string (nullable = true)\n",
      " |-- Last IP Address: string (nullable = true)\n",
      " |-- City: string (nullable = true)\n",
      " |-- State: string (nullable = true)\n",
      " |-- Total Orders: integer (nullable = true)\n",
      " |-- Total Purchased: integer (nullable = true)\n",
      " |-- Months Customer: integer (nullable = true)\n",
      "\n",
      "root\n",
      " |-- Email: string (nullable = true)\n",
      " |-- Twitter Username: string (nullable = true)\n",
      " |-- Marital Status: string (nullable = true)\n",
      " |-- Household Income: string (nullable = true)\n",
      " |-- Own Home: string (nullable = true)\n",
      " |-- Education: string (nullable = true)\n",
      " |-- Favorite Department: string (nullable = true)\n",
      "\n"
     ]
    }
   ],
   "source": [
    "c = spark.read.csv(\"file:///home/jovyan/datasets/customers/customers.csv\", inferSchema=True, header=True)\n",
    "s = spark.read.csv(\"file:///home/jovyan/datasets/customers/surveys.csv\",inferSchema=True, header=True)\n",
    "c.createOrReplaceTempView(\"customers\")\n",
    "s.createOrReplaceTempView(\"surveys\")\n",
    "c.printSchema()\n",
    "s.printSchema()\n"
   ]
  },
  {
   "cell_type": "code",
   "execution_count": 6,
   "id": "885327b8-4468-44a7-8fc1-b8445e2fb3e8",
   "metadata": {},
   "outputs": [
    {
     "name": "stdout",
     "output_type": "stream",
     "text": [
      "The sql extension is already loaded. To reload it, use:\n",
      "  %reload_ext sql\n"
     ]
    }
   ],
   "source": [
    "%load_ext sql"
   ]
  },
  {
   "cell_type": "code",
   "execution_count": 7,
   "id": "a0b99b10-1e76-4f3d-acaa-54bc562236f6",
   "metadata": {},
   "outputs": [],
   "source": [
    "%sql spark"
   ]
  },
  {
   "cell_type": "code",
   "execution_count": 12,
   "id": "100c8568-2c98-43c9-ac8e-655eaa1e503c",
   "metadata": {},
   "outputs": [
    {
     "data": {
      "text/html": [
       "<span style=\"None\">displaylimit: Value None will be treated as 0 (no limit)</span>"
      ],
      "text/plain": [
       "displaylimit: Value None will be treated as 0 (no limit)"
      ]
     },
     "metadata": {},
     "output_type": "display_data"
    }
   ],
   "source": [
    "%config SqlMagic.displaylimit = None"
   ]
  },
  {
   "cell_type": "code",
   "execution_count": 18,
   "id": "d73f54f4-1e96-459a-99de-480512f7da1e",
   "metadata": {},
   "outputs": [
    {
     "data": {
      "text/html": [
       "<span style=\"None\">Running query in &#x27;SparkSession&#x27;</span>"
      ],
      "text/plain": [
       "Running query in 'SparkSession'"
      ]
     },
     "metadata": {},
     "output_type": "display_data"
    },
    {
     "data": {
      "text/html": [
       "<span style=\"color: green\">2 rows affected.</span>"
      ],
      "text/plain": [
       "2 rows affected."
      ]
     },
     "metadata": {},
     "output_type": "display_data"
    },
    {
     "data": {
      "text/html": [
       "<table>\n",
       "    <thead>\n",
       "        <tr>\n",
       "            <th>Field 1</th>\n",
       "            <th>Field 2</th>\n",
       "            <th>Field 3</th>\n",
       "        </tr>\n",
       "    </thead>\n",
       "    <tbody>\n",
       "        <tr>\n",
       "            <td></td>\n",
       "            <td>customers</td>\n",
       "            <td>True</td>\n",
       "        </tr>\n",
       "        <tr>\n",
       "            <td></td>\n",
       "            <td>surveys</td>\n",
       "            <td>True</td>\n",
       "        </tr>\n",
       "    </tbody>\n",
       "</table>"
      ],
      "text/plain": [
       "+---------+-----------+---------+\n",
       "| Field 1 |  Field 2  | Field 3 |\n",
       "+---------+-----------+---------+\n",
       "|         | customers |   True  |\n",
       "|         |  surveys  |   True  |\n",
       "+---------+-----------+---------+"
      ]
     },
     "execution_count": 18,
     "metadata": {},
     "output_type": "execute_result"
    }
   ],
   "source": [
    "%sql show tables"
   ]
  },
  {
   "cell_type": "code",
   "execution_count": 16,
   "id": "9213ce38-0f94-49b3-83a0-f767508c71bc",
   "metadata": {},
   "outputs": [
    {
     "data": {
      "text/html": [
       "<span style=\"None\">Running query in &#x27;SparkSession&#x27;</span>"
      ],
      "text/plain": [
       "Running query in 'SparkSession'"
      ]
     },
     "metadata": {},
     "output_type": "display_data"
    },
    {
     "data": {
      "text/html": [
       "<span style=\"color: green\">5 rows affected.</span>"
      ],
      "text/plain": [
       "5 rows affected."
      ]
     },
     "metadata": {},
     "output_type": "display_data"
    },
    {
     "data": {
      "text/html": [
       "<table>\n",
       "    <thead>\n",
       "        <tr>\n",
       "            <th>Field 1</th>\n",
       "            <th>Field 2</th>\n",
       "            <th>Field 3</th>\n",
       "            <th>Field 4</th>\n",
       "            <th>Field 5</th>\n",
       "            <th>Field 6</th>\n",
       "            <th>Field 7</th>\n",
       "        </tr>\n",
       "    </thead>\n",
       "    <tbody>\n",
       "        <tr>\n",
       "            <td>ojouglad@einrot.com</td>\n",
       "            <td>ojouglad</td>\n",
       "            <td>Married</td>\n",
       "            <td>65000</td>\n",
       "            <td>No</td>\n",
       "            <td>4 Year Degree</td>\n",
       "            <td>Electronics</td>\n",
       "        </tr>\n",
       "        <tr>\n",
       "            <td>lkarfurless@dayrep.com</td>\n",
       "            <td>lkarfurless</td>\n",
       "            <td>Single</td>\n",
       "            <td>143000</td>\n",
       "            <td>Yes</td>\n",
       "            <td>Graduate Degree</td>\n",
       "            <td>Apparel</td>\n",
       "        </tr>\n",
       "        <tr>\n",
       "            <td>lhvmeehom@einrot.com</td>\n",
       "            <td>lhvmeehom</td>\n",
       "            <td>Prefer not to Answer</td>\n",
       "            <td>75000</td>\n",
       "            <td>Yes</td>\n",
       "            <td>4 Year Degree</td>\n",
       "            <td>Prefer not to Answer</td>\n",
       "        </tr>\n",
       "        <tr>\n",
       "            <td>sladd@superrito.com</td>\n",
       "            <td>sladd</td>\n",
       "            <td>Married</td>\n",
       "            <td>52000</td>\n",
       "            <td>Yes</td>\n",
       "            <td>2 Year Degree</td>\n",
       "            <td>None</td>\n",
       "        </tr>\n",
       "        <tr>\n",
       "            <td>vrhee@einrot.com</td>\n",
       "            <td>vrhee</td>\n",
       "            <td>Prefer not to Answer</td>\n",
       "            <td>17500</td>\n",
       "            <td>No</td>\n",
       "            <td>High School</td>\n",
       "            <td>Books</td>\n",
       "        </tr>\n",
       "    </tbody>\n",
       "</table>"
      ],
      "text/plain": [
       "+------------------------+-------------+----------------------+---------+---------+-----------------+----------------------+\n",
       "|        Field 1         |   Field 2   |       Field 3        | Field 4 | Field 5 |     Field 6     |       Field 7        |\n",
       "+------------------------+-------------+----------------------+---------+---------+-----------------+----------------------+\n",
       "|  ojouglad@einrot.com   |   ojouglad  |       Married        |  65000  |    No   |  4 Year Degree  |     Electronics      |\n",
       "| lkarfurless@dayrep.com | lkarfurless |        Single        |  143000 |   Yes   | Graduate Degree |       Apparel        |\n",
       "|  lhvmeehom@einrot.com  |  lhvmeehom  | Prefer not to Answer |  75000  |   Yes   |  4 Year Degree  | Prefer not to Answer |\n",
       "|  sladd@superrito.com   |    sladd    |       Married        |  52000  |   Yes   |  2 Year Degree  |         None         |\n",
       "|    vrhee@einrot.com    |    vrhee    | Prefer not to Answer |  17500  |    No   |   High School   |        Books         |\n",
       "+------------------------+-------------+----------------------+---------+---------+-----------------+----------------------+"
      ]
     },
     "execution_count": 16,
     "metadata": {},
     "output_type": "execute_result"
    }
   ],
   "source": [
    "%sql select * from surveys limit 5;"
   ]
  },
  {
   "cell_type": "code",
   "execution_count": 13,
   "id": "68175770-a3bd-4f40-9456-d5505a97d9d2",
   "metadata": {},
   "outputs": [
    {
     "data": {
      "text/html": [
       "<span style=\"None\">Running query in &#x27;SparkSession&#x27;</span>"
      ],
      "text/plain": [
       "Running query in 'SparkSession'"
      ]
     },
     "metadata": {},
     "output_type": "display_data"
    },
    {
     "data": {
      "text/html": [
       "<span style=\"color: green\">13 rows affected.</span>"
      ],
      "text/plain": [
       "13 rows affected."
      ]
     },
     "metadata": {},
     "output_type": "display_data"
    },
    {
     "data": {
      "text/html": [
       "<table>\n",
       "    <thead>\n",
       "        <tr>\n",
       "            <th>Field 1</th>\n",
       "            <th>Field 2</th>\n",
       "            <th>Field 3</th>\n",
       "            <th>Field 4</th>\n",
       "        </tr>\n",
       "    </thead>\n",
       "    <tbody>\n",
       "        <tr>\n",
       "            <td>Abby</td>\n",
       "            <td>Kuss</td>\n",
       "            <td>akuss@rhyta.com</td>\n",
       "            <td>F</td>\n",
       "        </tr>\n",
       "        <tr>\n",
       "            <td>Arial</td>\n",
       "            <td>Photo</td>\n",
       "            <td>aphoto@dayrep.com</td>\n",
       "            <td>F</td>\n",
       "        </tr>\n",
       "        <tr>\n",
       "            <td>Bette</td>\n",
       "            <td>Alott</td>\n",
       "            <td>balott@rhyta.com</td>\n",
       "            <td>F</td>\n",
       "        </tr>\n",
       "        <tr>\n",
       "            <td>Barb </td>\n",
       "            <td>Barion</td>\n",
       "            <td>bbarion@superrito.com</td>\n",
       "            <td>F</td>\n",
       "        </tr>\n",
       "        <tr>\n",
       "            <td>Candi</td>\n",
       "            <td>Cayne</td>\n",
       "            <td>ccayne@rhyta.com</td>\n",
       "            <td>F</td>\n",
       "        </tr>\n",
       "        <tr>\n",
       "            <td>Carol</td>\n",
       "            <td>Ling</td>\n",
       "            <td>cling@superrito.com</td>\n",
       "            <td>F</td>\n",
       "        </tr>\n",
       "        <tr>\n",
       "            <td>Erin</td>\n",
       "            <td>Detyers</td>\n",
       "            <td>edetyers@dayrep.com</td>\n",
       "            <td>F</td>\n",
       "        </tr>\n",
       "        <tr>\n",
       "            <td>Jean</td>\n",
       "            <td>Poole</td>\n",
       "            <td>jpoole@dayrep.com</td>\n",
       "            <td>F</td>\n",
       "        </tr>\n",
       "        <tr>\n",
       "            <td>Lee</td>\n",
       "            <td>Hvmeehom</td>\n",
       "            <td>lhvmeehom@einrot.com</td>\n",
       "            <td>F</td>\n",
       "        </tr>\n",
       "        <tr>\n",
       "            <td>Lisa</td>\n",
       "            <td>Karfurless</td>\n",
       "            <td>lkarfurless@dayrep.com</td>\n",
       "            <td>F</td>\n",
       "        </tr>\n",
       "        <tr>\n",
       "            <td>Mary</td>\n",
       "            <td>Melator</td>\n",
       "            <td>mmelator@rhyta.com</td>\n",
       "            <td>F</td>\n",
       "        </tr>\n",
       "        <tr>\n",
       "            <td>Sara</td>\n",
       "            <td>Bellum</td>\n",
       "            <td>sbellum@superrito.com</td>\n",
       "            <td>F</td>\n",
       "        </tr>\n",
       "        <tr>\n",
       "            <td>Tally</td>\n",
       "            <td>Itupp</td>\n",
       "            <td>titupp@superrito.com</td>\n",
       "            <td>F</td>\n",
       "        </tr>\n",
       "    </tbody>\n",
       "</table>"
      ],
      "text/plain": [
       "+---------+------------+------------------------+---------+\n",
       "| Field 1 |  Field 2   |        Field 3         | Field 4 |\n",
       "+---------+------------+------------------------+---------+\n",
       "|   Abby  |    Kuss    |    akuss@rhyta.com     |    F    |\n",
       "|  Arial  |   Photo    |   aphoto@dayrep.com    |    F    |\n",
       "|  Bette  |   Alott    |    balott@rhyta.com    |    F    |\n",
       "|  Barb   |   Barion   | bbarion@superrito.com  |    F    |\n",
       "|  Candi  |   Cayne    |    ccayne@rhyta.com    |    F    |\n",
       "|  Carol  |    Ling    |  cling@superrito.com   |    F    |\n",
       "|   Erin  |  Detyers   |  edetyers@dayrep.com   |    F    |\n",
       "|   Jean  |   Poole    |   jpoole@dayrep.com    |    F    |\n",
       "|   Lee   |  Hvmeehom  |  lhvmeehom@einrot.com  |    F    |\n",
       "|   Lisa  | Karfurless | lkarfurless@dayrep.com |    F    |\n",
       "|   Mary  |  Melator   |   mmelator@rhyta.com   |    F    |\n",
       "|   Sara  |   Bellum   | sbellum@superrito.com  |    F    |\n",
       "|  Tally  |   Itupp    |  titupp@superrito.com  |    F    |\n",
       "+---------+------------+------------------------+---------+"
      ]
     },
     "execution_count": 13,
     "metadata": {},
     "output_type": "execute_result"
    }
   ],
   "source": [
    "%%sql\n",
    "\n",
    "select \n",
    "    First, Last, Email, Gender\n",
    "from customers\n",
    "where\n",
    "    Gender = 'F'\n",
    "    "
   ]
  },
  {
   "cell_type": "code",
   "execution_count": null,
   "id": "868f3972-ba41-4cf6-830b-8ee56c44ed1a",
   "metadata": {},
   "outputs": [],
   "source": []
  },
  {
   "cell_type": "code",
   "execution_count": null,
   "id": "2a8f6fbe-97bf-4480-ac6c-57934a7dcad6",
   "metadata": {},
   "outputs": [],
   "source": []
  }
 ],
 "metadata": {
  "kernelspec": {
   "display_name": "Python 3 (ipykernel)",
   "language": "python",
   "name": "python3"
  },
  "language_info": {
   "codemirror_mode": {
    "name": "ipython",
    "version": 3
   },
   "file_extension": ".py",
   "mimetype": "text/x-python",
   "name": "python",
   "nbconvert_exporter": "python",
   "pygments_lexer": "ipython3",
   "version": "3.11.10"
  }
 },
 "nbformat": 4,
 "nbformat_minor": 5
}
