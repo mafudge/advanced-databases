{
 "cells": [
  {
   "cell_type": "code",
   "execution_count": 1,
   "id": "74b924b3-e0c5-414f-a3fd-7d2dab2c7ae9",
   "metadata": {},
   "outputs": [
    {
     "name": "stderr",
     "output_type": "stream",
     "text": [
      "WARNING: An illegal reflective access operation has occurred\n",
      "WARNING: Illegal reflective access by org.apache.spark.unsafe.Platform (file:/usr/local/spark-3.1.2-bin-hadoop3.2/jars/spark-unsafe_2.12-3.1.2.jar) to constructor java.nio.DirectByteBuffer(long,int)\n",
      "WARNING: Please consider reporting this to the maintainers of org.apache.spark.unsafe.Platform\n",
      "WARNING: Use --illegal-access=warn to enable warnings of further illegal reflective access operations\n",
      "WARNING: All illegal access operations will be denied in a future release\n",
      "24/01/31 21:48:39 WARN NativeCodeLoader: Unable to load native-hadoop library for your platform... using builtin-java classes where applicable\n",
      "Using Spark's default log4j profile: org/apache/spark/log4j-defaults.properties\n",
      "Setting default log level to \"WARN\".\n",
      "To adjust logging level use sc.setLogLevel(newLevel). For SparkR, use setLogLevel(newLevel).\n"
     ]
    }
   ],
   "source": [
    "import pyspark\n",
    "from pyspark.sql import SparkSession\n",
    "# Spark init\n",
    "spark = SparkSession.builder \\\n",
    "    .master(\"local\") \\\n",
    "    .appName('jupyter-pyspark') \\\n",
    "    .getOrCreate()\n",
    "sc = spark.sparkContext\n",
    "sc.setLogLevel(\"ERROR\")"
   ]
  },
  {
   "cell_type": "markdown",
   "id": "3dbb1f86-3fd6-47a6-9188-198cb6cf2ee5",
   "metadata": {},
   "source": [
    "5.\tLoad a Spark dataframe of USA country suppliers and their products for products that are not discontinued. Include supplier company and contact names, country and phone. From products include product name, discontinued, unit price and units in stock."
   ]
  },
  {
   "cell_type": "code",
   "execution_count": 26,
   "id": "67780a04-d169-4a93-9ce5-a676a15a9a56",
   "metadata": {},
   "outputs": [],
   "source": [
    "df = spark.read.csv(\"/home/jovyan/datasets/customers/customers.csv\", header=True, inferSchema=True)"
   ]
  },
  {
   "cell_type": "code",
   "execution_count": 27,
   "id": "c296c4e2-4289-4fd4-b99d-e658ece11ce3",
   "metadata": {},
   "outputs": [
    {
     "data": {
      "text/html": [
       "<div>\n",
       "<style scoped>\n",
       "    .dataframe tbody tr th:only-of-type {\n",
       "        vertical-align: middle;\n",
       "    }\n",
       "\n",
       "    .dataframe tbody tr th {\n",
       "        vertical-align: top;\n",
       "    }\n",
       "\n",
       "    .dataframe thead th {\n",
       "        text-align: right;\n",
       "    }\n",
       "</style>\n",
       "<table border=\"1\" class=\"dataframe\">\n",
       "  <thead>\n",
       "    <tr style=\"text-align: right;\">\n",
       "      <th></th>\n",
       "      <th>First</th>\n",
       "      <th>Last</th>\n",
       "      <th>Email</th>\n",
       "      <th>Gender</th>\n",
       "      <th>Last IP Address</th>\n",
       "      <th>City</th>\n",
       "      <th>State</th>\n",
       "      <th>Total Orders</th>\n",
       "      <th>Total Purchased</th>\n",
       "      <th>Months Customer</th>\n",
       "    </tr>\n",
       "  </thead>\n",
       "  <tbody>\n",
       "    <tr>\n",
       "      <th>0</th>\n",
       "      <td>Al</td>\n",
       "      <td>Fresco</td>\n",
       "      <td>afresco@dayrep.com</td>\n",
       "      <td>M</td>\n",
       "      <td>74.111.18.161</td>\n",
       "      <td>Syracuse</td>\n",
       "      <td>NY</td>\n",
       "      <td>1</td>\n",
       "      <td>45</td>\n",
       "      <td>1</td>\n",
       "    </tr>\n",
       "    <tr>\n",
       "      <th>1</th>\n",
       "      <td>Abby</td>\n",
       "      <td>Kuss</td>\n",
       "      <td>akuss@rhyta.com</td>\n",
       "      <td>F</td>\n",
       "      <td>23.80.125.101</td>\n",
       "      <td>Phoenix</td>\n",
       "      <td>AZ</td>\n",
       "      <td>1</td>\n",
       "      <td>25</td>\n",
       "      <td>2</td>\n",
       "    </tr>\n",
       "    <tr>\n",
       "      <th>2</th>\n",
       "      <td>Arial</td>\n",
       "      <td>Photo</td>\n",
       "      <td>aphoto@dayrep.com</td>\n",
       "      <td>F</td>\n",
       "      <td>24.0.14.56</td>\n",
       "      <td>Newark</td>\n",
       "      <td>NJ</td>\n",
       "      <td>1</td>\n",
       "      <td>680</td>\n",
       "      <td>1</td>\n",
       "    </tr>\n",
       "    <tr>\n",
       "      <th>3</th>\n",
       "      <td>Bette</td>\n",
       "      <td>Alott</td>\n",
       "      <td>balott@rhyta.com</td>\n",
       "      <td>F</td>\n",
       "      <td>56.216.127.219</td>\n",
       "      <td>Raleigh</td>\n",
       "      <td>NC</td>\n",
       "      <td>6</td>\n",
       "      <td>560</td>\n",
       "      <td>18</td>\n",
       "    </tr>\n",
       "    <tr>\n",
       "      <th>4</th>\n",
       "      <td>Barb</td>\n",
       "      <td>Barion</td>\n",
       "      <td>bbarion@superrito.com</td>\n",
       "      <td>F</td>\n",
       "      <td>38.68.15.223</td>\n",
       "      <td>Dallas</td>\n",
       "      <td>TX</td>\n",
       "      <td>4</td>\n",
       "      <td>1590</td>\n",
       "      <td>1</td>\n",
       "    </tr>\n",
       "  </tbody>\n",
       "</table>\n",
       "</div>"
      ],
      "text/plain": [
       "   First    Last                  Email Gender Last IP Address      City  \\\n",
       "0     Al  Fresco     afresco@dayrep.com      M   74.111.18.161  Syracuse   \n",
       "1   Abby    Kuss        akuss@rhyta.com      F   23.80.125.101   Phoenix   \n",
       "2  Arial   Photo      aphoto@dayrep.com      F      24.0.14.56    Newark   \n",
       "3  Bette   Alott       balott@rhyta.com      F  56.216.127.219   Raleigh   \n",
       "4  Barb   Barion  bbarion@superrito.com      F    38.68.15.223    Dallas   \n",
       "\n",
       "  State  Total Orders  Total Purchased  Months Customer  \n",
       "0    NY             1               45                1  \n",
       "1    AZ             1               25                2  \n",
       "2    NJ             1              680                1  \n",
       "3    NC             6              560               18  \n",
       "4    TX             4             1590                1  "
      ]
     },
     "execution_count": 27,
     "metadata": {},
     "output_type": "execute_result"
    }
   ],
   "source": [
    "df.toPandas().head(5)"
   ]
  },
  {
   "cell_type": "code",
   "execution_count": 28,
   "id": "08441364-4028-4abd-95c8-63eb49b14f10",
   "metadata": {},
   "outputs": [
    {
     "data": {
      "text/plain": [
       "DataFrame[summary: string, First: string, Last: string, Email: string, Gender: string, Last IP Address: string, City: string, State: string, Total Orders: string, Total Purchased: string, Months Customer: string]"
      ]
     },
     "execution_count": 28,
     "metadata": {},
     "output_type": "execute_result"
    }
   ],
   "source": [
    "df.describe()"
   ]
  },
  {
   "cell_type": "code",
   "execution_count": 12,
   "id": "d9c767c2-9aab-4f64-81da-6f9db974e40b",
   "metadata": {},
   "outputs": [],
   "source": [
    "df.createOrReplaceTempView(\"customers\")"
   ]
  },
  {
   "cell_type": "code",
   "execution_count": 25,
   "id": "e445e545-d6df-4837-b4d5-6837311f3891",
   "metadata": {},
   "outputs": [
    {
     "name": "stdout",
     "output_type": "stream",
     "text": [
      "+-----+------------+\n",
      "|State|total_orders|\n",
      "+-----+------------+\n",
      "|   AZ|        null|\n",
      "|   NJ|        null|\n",
      "|   VA|        null|\n",
      "|   CA|        null|\n",
      "|   NC|        null|\n",
      "|   ME|        null|\n",
      "|   OH|        null|\n",
      "|   NY|        null|\n",
      "|   TX|        null|\n",
      "|   FL|        null|\n",
      "+-----+------------+\n",
      "\n"
     ]
    }
   ],
   "source": [
    "query = \"\"\"\n",
    "\n",
    "with source as (\n",
    "    select State, cast(\"Total Orders\" as decimal) as total_orders, Gender \n",
    "    from customers\n",
    ")\n",
    "select State, sum(total_orders) as total_orders\n",
    "    from source \n",
    "    where gender = 'F'\n",
    "    group by State\n",
    "\"\"\"\n",
    "\n",
    "spark.sql(query).show()"
   ]
  },
  {
   "cell_type": "code",
   "execution_count": null,
   "id": "ec599d08-5d60-454d-970f-5ff31e8e04d2",
   "metadata": {},
   "outputs": [],
   "source": []
  }
 ],
 "metadata": {
  "kernelspec": {
   "display_name": "Python 3 (ipykernel)",
   "language": "python",
   "name": "python3"
  },
  "language_info": {
   "codemirror_mode": {
    "name": "ipython",
    "version": 3
   },
   "file_extension": ".py",
   "mimetype": "text/x-python",
   "name": "python",
   "nbconvert_exporter": "python",
   "pygments_lexer": "ipython3",
   "version": "3.9.6"
  }
 },
 "nbformat": 4,
 "nbformat_minor": 5
}
