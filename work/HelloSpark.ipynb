{
 "cells": [
  {
   "cell_type": "code",
   "execution_count": 2,
   "id": "74b924b3-e0c5-414f-a3fd-7d2dab2c7ae9",
   "metadata": {},
   "outputs": [],
   "source": [
    "import pyspark\n",
    "from pyspark.sql import SparkSession\n",
    "# Spark init\n",
    "spark = SparkSession.builder \\\n",
    "    .master(\"local\") \\\n",
    "    .appName('jupyter-pyspark') \\\n",
    "    .getOrCreate()\n",
    "sc = spark.sparkContext\n",
    "sc.setLogLevel(\"ERROR\")"
   ]
  },
  {
   "cell_type": "markdown",
   "id": "3dbb1f86-3fd6-47a6-9188-198cb6cf2ee5",
   "metadata": {},
   "source": [
    "Load a Spark dataframe of USA country suppliers and their products for products that are not discontinued. Include supplier company and contact names, country and phone. From products include product name, discontinued, unit price and units in stock."
   ]
  },
  {
   "cell_type": "code",
   "execution_count": 15,
   "id": "67780a04-d169-4a93-9ce5-a676a15a9a56",
   "metadata": {},
   "outputs": [],
   "source": [
    "df = spark.read.csv(\"/home/jovyan/datasets/customers/customers.csv\", header=True, inferSchema=True)"
   ]
  },
  {
   "cell_type": "code",
   "execution_count": 30,
   "id": "c296c4e2-4289-4fd4-b99d-e658ece11ce3",
   "metadata": {},
   "outputs": [
    {
     "data": {
      "text/html": [
       "<div>\n",
       "<style scoped>\n",
       "    .dataframe tbody tr th:only-of-type {\n",
       "        vertical-align: middle;\n",
       "    }\n",
       "\n",
       "    .dataframe tbody tr th {\n",
       "        vertical-align: top;\n",
       "    }\n",
       "\n",
       "    .dataframe thead th {\n",
       "        text-align: right;\n",
       "    }\n",
       "</style>\n",
       "<table border=\"1\" class=\"dataframe\">\n",
       "  <thead>\n",
       "    <tr style=\"text-align: right;\">\n",
       "      <th></th>\n",
       "      <th>First</th>\n",
       "      <th>Last</th>\n",
       "      <th>Email</th>\n",
       "      <th>Gender</th>\n",
       "      <th>Last IP Address</th>\n",
       "      <th>City</th>\n",
       "      <th>State</th>\n",
       "      <th>Total Orders</th>\n",
       "      <th>Total Purchased</th>\n",
       "      <th>Months Customer</th>\n",
       "    </tr>\n",
       "  </thead>\n",
       "  <tbody>\n",
       "    <tr>\n",
       "      <th>0</th>\n",
       "      <td>Al</td>\n",
       "      <td>Fresco</td>\n",
       "      <td>afresco@dayrep.com</td>\n",
       "      <td>M</td>\n",
       "      <td>74.111.18.161</td>\n",
       "      <td>Syracuse</td>\n",
       "      <td>NY</td>\n",
       "      <td>1</td>\n",
       "      <td>45</td>\n",
       "      <td>1</td>\n",
       "    </tr>\n",
       "    <tr>\n",
       "      <th>1</th>\n",
       "      <td>Abby</td>\n",
       "      <td>Kuss</td>\n",
       "      <td>akuss@rhyta.com</td>\n",
       "      <td>F</td>\n",
       "      <td>23.80.125.101</td>\n",
       "      <td>Phoenix</td>\n",
       "      <td>AZ</td>\n",
       "      <td>1</td>\n",
       "      <td>25</td>\n",
       "      <td>2</td>\n",
       "    </tr>\n",
       "    <tr>\n",
       "      <th>2</th>\n",
       "      <td>Arial</td>\n",
       "      <td>Photo</td>\n",
       "      <td>aphoto@dayrep.com</td>\n",
       "      <td>F</td>\n",
       "      <td>24.0.14.56</td>\n",
       "      <td>Newark</td>\n",
       "      <td>NJ</td>\n",
       "      <td>1</td>\n",
       "      <td>680</td>\n",
       "      <td>1</td>\n",
       "    </tr>\n",
       "    <tr>\n",
       "      <th>3</th>\n",
       "      <td>Bette</td>\n",
       "      <td>Alott</td>\n",
       "      <td>balott@rhyta.com</td>\n",
       "      <td>F</td>\n",
       "      <td>56.216.127.219</td>\n",
       "      <td>Raleigh</td>\n",
       "      <td>NC</td>\n",
       "      <td>6</td>\n",
       "      <td>560</td>\n",
       "      <td>18</td>\n",
       "    </tr>\n",
       "    <tr>\n",
       "      <th>4</th>\n",
       "      <td>Barb</td>\n",
       "      <td>Barion</td>\n",
       "      <td>bbarion@superrito.com</td>\n",
       "      <td>F</td>\n",
       "      <td>38.68.15.223</td>\n",
       "      <td>Dallas</td>\n",
       "      <td>TX</td>\n",
       "      <td>4</td>\n",
       "      <td>1590</td>\n",
       "      <td>1</td>\n",
       "    </tr>\n",
       "  </tbody>\n",
       "</table>\n",
       "</div>"
      ],
      "text/plain": [
       "   First    Last                  Email Gender Last IP Address      City  \\\n",
       "0     Al  Fresco     afresco@dayrep.com      M   74.111.18.161  Syracuse   \n",
       "1   Abby    Kuss        akuss@rhyta.com      F   23.80.125.101   Phoenix   \n",
       "2  Arial   Photo      aphoto@dayrep.com      F      24.0.14.56    Newark   \n",
       "3  Bette   Alott       balott@rhyta.com      F  56.216.127.219   Raleigh   \n",
       "4  Barb   Barion  bbarion@superrito.com      F    38.68.15.223    Dallas   \n",
       "\n",
       "  State  Total Orders  Total Purchased  Months Customer  \n",
       "0    NY             1               45                1  \n",
       "1    AZ             1               25                2  \n",
       "2    NJ             1              680                1  \n",
       "3    NC             6              560               18  \n",
       "4    TX             4             1590                1  "
      ]
     },
     "execution_count": 30,
     "metadata": {},
     "output_type": "execute_result"
    }
   ],
   "source": [
    "df.toPandas().head(5)"
   ]
  },
  {
   "cell_type": "code",
   "execution_count": 31,
   "id": "08441364-4028-4abd-95c8-63eb49b14f10",
   "metadata": {},
   "outputs": [
    {
     "name": "stdout",
     "output_type": "stream",
     "text": [
      "root\n",
      " |-- First: string (nullable = true)\n",
      " |-- Last: string (nullable = true)\n",
      " |-- Email: string (nullable = true)\n",
      " |-- Gender: string (nullable = true)\n",
      " |-- Last IP Address: string (nullable = true)\n",
      " |-- City: string (nullable = true)\n",
      " |-- State: string (nullable = true)\n",
      " |-- Total Orders: integer (nullable = true)\n",
      " |-- Total Purchased: integer (nullable = true)\n",
      " |-- Months Customer: integer (nullable = true)\n",
      "\n"
     ]
    }
   ],
   "source": [
    "df.printSchema()"
   ]
  },
  {
   "cell_type": "code",
   "execution_count": 32,
   "id": "d9c767c2-9aab-4f64-81da-6f9db974e40b",
   "metadata": {},
   "outputs": [],
   "source": [
    "df.createOrReplaceTempView(\"fm_customers\")"
   ]
  },
  {
   "cell_type": "code",
   "execution_count": 33,
   "id": "8eec01fc-de3d-4083-99c2-2cf23f7ee5bd",
   "metadata": {},
   "outputs": [
    {
     "name": "stdout",
     "output_type": "stream",
     "text": [
      "+---------+------------+-----------+\n",
      "|namespace|   tableName|isTemporary|\n",
      "+---------+------------+-----------+\n",
      "|         |   customers|       true|\n",
      "|         |fm_customers|       true|\n",
      "+---------+------------+-----------+\n",
      "\n"
     ]
    }
   ],
   "source": [
    "spark.sql(\"show tables\").show()"
   ]
  },
  {
   "cell_type": "code",
   "execution_count": 35,
   "id": "bdb690e4-cc2b-4e34-993c-4a5952c17ff2",
   "metadata": {},
   "outputs": [
    {
     "name": "stdout",
     "output_type": "stream",
     "text": [
      "+---------------+\n",
      "|       col_name|\n",
      "+---------------+\n",
      "|          First|\n",
      "|           Last|\n",
      "|          Email|\n",
      "|         Gender|\n",
      "|Last IP Address|\n",
      "|           City|\n",
      "|          State|\n",
      "|   Total Orders|\n",
      "|Total Purchased|\n",
      "|Months Customer|\n",
      "+---------------+\n",
      "\n"
     ]
    }
   ],
   "source": [
    "spark.sql(\"show columns in fm_customers\").show()"
   ]
  },
  {
   "cell_type": "code",
   "execution_count": 38,
   "id": "1d3fe58c-cbfb-462c-8aa1-cad9d978a1cb",
   "metadata": {},
   "outputs": [
    {
     "name": "stdout",
     "output_type": "stream",
     "text": [
      "+-----+------+--------------------+------+---------------+--------+-----+------------+---------------+---------------+\n",
      "|First|  Last|               Email|Gender|Last IP Address|    City|State|Total Orders|Total Purchased|Months Customer|\n",
      "+-----+------+--------------------+------+---------------+--------+-----+------------+---------------+---------------+\n",
      "|   Al|Fresco|  afresco@dayrep.com|     M|  74.111.18.161|Syracuse|   NY|           1|             45|              1|\n",
      "| Abby|  Kuss|     akuss@rhyta.com|     F|  23.80.125.101| Phoenix|   AZ|           1|             25|              2|\n",
      "|Arial| Photo|   aphoto@dayrep.com|     F|     24.0.14.56|  Newark|   NJ|           1|            680|              1|\n",
      "|Bette| Alott|    balott@rhyta.com|     F| 56.216.127.219| Raleigh|   NC|           6|            560|             18|\n",
      "|Barb |Barion|bbarion@superrito...|     F|   38.68.15.223|  Dallas|   TX|           4|           1590|              1|\n",
      "+-----+------+--------------------+------+---------------+--------+-----+------------+---------------+---------------+\n",
      "only showing top 5 rows\n",
      "\n"
     ]
    }
   ],
   "source": [
    "spark.sql(\"select * from fm_customers\").show(5)"
   ]
  },
  {
   "cell_type": "code",
   "execution_count": 43,
   "id": "e445e545-d6df-4837-b4d5-6837311f3891",
   "metadata": {},
   "outputs": [
    {
     "name": "stdout",
     "output_type": "stream",
     "text": [
      "+-----+------------+\n",
      "|State|total_orders|\n",
      "+-----+------------+\n",
      "|   AZ|           1|\n",
      "|   NJ|           1|\n",
      "|   VA|           8|\n",
      "|   CA|           8|\n",
      "|   NC|           6|\n",
      "|   ME|           1|\n",
      "|   OH|           9|\n",
      "|   NY|          20|\n",
      "|   TX|           4|\n",
      "|   FL|           5|\n",
      "+-----+------------+\n",
      "\n"
     ]
    }
   ],
   "source": [
    "query = \"\"\"\n",
    "with source as (\n",
    "    select State, `Total Orders` as total_orders, Gender\n",
    "    from fm_customers\n",
    ")\n",
    "select State, sum(total_orders) as total_orders\n",
    "    from source\n",
    "    where gender = 'F'\n",
    "    group by State\n",
    "\"\"\"\n",
    "spark.sql(query).show()"
   ]
  },
  {
   "cell_type": "code",
   "execution_count": null,
   "id": "64ea2bc7-9206-4f4f-ab83-462e595ecfb8",
   "metadata": {},
   "outputs": [],
   "source": []
  }
 ],
 "metadata": {
  "kernelspec": {
   "display_name": "Python 3 (ipykernel)",
   "language": "python",
   "name": "python3"
  },
  "language_info": {
   "codemirror_mode": {
    "name": "ipython",
    "version": 3
   },
   "file_extension": ".py",
   "mimetype": "text/x-python",
   "name": "python",
   "nbconvert_exporter": "python",
   "pygments_lexer": "ipython3",
   "version": "3.11.10"
  }
 },
 "nbformat": 4,
 "nbformat_minor": 5
}
